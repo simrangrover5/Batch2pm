{
 "cells": [
  {
   "cell_type": "code",
   "execution_count": 13,
   "metadata": {},
   "outputs": [],
   "source": [
    "bankdata = {\n",
    "    'name' : ['ambika','amaan','mahima','jagdish','bhavna'],\n",
    "    'accno' : [1001,1002,1003,1004,1005],\n",
    "    'password' : ['abc','efg','admin','pass','pswd'],\n",
    "    'bal' : [10000,20000,30000,15000,25000]\n",
    "}"
   ]
  },
  {
   "cell_type": "code",
   "execution_count": null,
   "metadata": {},
   "outputs": [],
   "source": [
    "#take accno as an input\n",
    "#take amount to credit as input\n",
    "#update balance\n",
    "#print bal\n",
    "#take amount for debit as input\n",
    "#update balance\n",
    "#print bal\n",
    "#take password to change as input\n",
    "#update password\n",
    "#print details (accno,bal,password)"
   ]
  },
  {
   "cell_type": "code",
   "execution_count": 4,
   "metadata": {},
   "outputs": [
    {
     "name": "stdout",
     "output_type": "stream",
     "text": [
      "Enter something : 10\n"
     ]
    }
   ],
   "source": [
    "amt = int(input(\"Enter something : \"))"
   ]
  },
  {
   "cell_type": "code",
   "execution_count": 5,
   "metadata": {},
   "outputs": [
    {
     "data": {
      "text/plain": [
       "10"
      ]
     },
     "execution_count": 5,
     "metadata": {},
     "output_type": "execute_result"
    }
   ],
   "source": [
    "amt"
   ]
  },
  {
   "cell_type": "code",
   "execution_count": 14,
   "metadata": {},
   "outputs": [
    {
     "name": "stdout",
     "output_type": "stream",
     "text": [
      "1.1001\n",
      "2.1002\n",
      "3.1003\n",
      "4.1004\n",
      "5.1005\n",
      "Enter any accno from above choice : 1001\n",
      "\n",
      "Enter amount to be credited : 100\n",
      "\n",
      "****Your new bal is : 10100****\n",
      "\n",
      "Enter amount to be debited : 50\n",
      "\n",
      "****Your new bal is : 10050****\n",
      "\n",
      "Enter new password : ········\n",
      "\n",
      "Your balance : 10050\n",
      " Your accno : 1001\n",
      "Your password : admin\n"
     ]
    }
   ],
   "source": [
    "import getpass\n",
    "\n",
    "\n",
    "print(\"1.1001\\n2.1002\\n3.1003\\n4.1004\\n5.1005\")\n",
    "accno = int(input(\"Enter any accno from above choice : \"))\n",
    "i = bankdata['accno'].index(accno)\n",
    "credit = int(input(\"\\nEnter amount to be credited : \"))\n",
    "bankdata['bal'][i] = bankdata['bal'][i] + credit\n",
    "print(\"\\n****Your new bal is : {}****\".format(bankdata['bal'][i]))\n",
    "debit = int(input(\"\\nEnter amount to be debited : \"))\n",
    "bankdata['bal'][i] = bankdata['bal'][i] - debit\n",
    "print(\"\\n****Your new bal is : {}****\".format(bankdata['bal'][i]))\n",
    "\n",
    "newpass = getpass.getpass(\"\\nEnter new password : \")\n",
    "bankdata['password'][i] = newpass\n",
    "\n",
    "print(f\"\\nYour balance : {bankdata['bal'][i]}\\n Your accno : {bankdata['accno'][i]}\")\n",
    "print(f\"Your password : {bankdata['password'][i]}\")"
   ]
  },
  {
   "cell_type": "code",
   "execution_count": 9,
   "metadata": {},
   "outputs": [
    {
     "data": {
      "text/plain": [
       "20000"
      ]
     },
     "execution_count": 9,
     "metadata": {},
     "output_type": "execute_result"
    }
   ],
   "source": [
    "bankdata['bal'][1]"
   ]
  },
  {
   "cell_type": "code",
   "execution_count": 7,
   "metadata": {},
   "outputs": [
    {
     "data": {
      "text/plain": [
       "1"
      ]
     },
     "execution_count": 7,
     "metadata": {},
     "output_type": "execute_result"
    }
   ],
   "source": [
    "bankdata['accno'].index(1002)"
   ]
  },
  {
   "cell_type": "code",
   "execution_count": null,
   "metadata": {},
   "outputs": [],
   "source": []
  }
 ],
 "metadata": {
  "kernelspec": {
   "display_name": "Python 3",
   "language": "python",
   "name": "python3"
  },
  "language_info": {
   "codemirror_mode": {
    "name": "ipython",
    "version": 3
   },
   "file_extension": ".py",
   "mimetype": "text/x-python",
   "name": "python",
   "nbconvert_exporter": "python",
   "pygments_lexer": "ipython3",
   "version": "3.7.5"
  }
 },
 "nbformat": 4,
 "nbformat_minor": 2
}
