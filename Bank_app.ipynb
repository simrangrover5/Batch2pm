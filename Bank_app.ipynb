{
 "cells": [
  {
   "cell_type": "code",
   "execution_count": 1,
   "metadata": {},
   "outputs": [],
   "source": [
    "data = {\n",
    "    'accno' : [1001,1002,1003,1004,1005],\n",
    "    'name' : ['mahima','pradeep','jagdish','rahul','raghav'],\n",
    "    'bal' : [10000,20000,30000,15000,34000],\n",
    "    'password' : ['pass','admin','passpass','abc@123','123456']\n",
    "}"
   ]
  },
  {
   "cell_type": "code",
   "execution_count": 6,
   "metadata": {},
   "outputs": [
    {
     "data": {
      "text/plain": [
       "0"
      ]
     },
     "execution_count": 6,
     "metadata": {},
     "output_type": "execute_result"
    }
   ],
   "source": [
    "data['accno'].index(1001)"
   ]
  },
  {
   "cell_type": "code",
   "execution_count": 12,
   "metadata": {},
   "outputs": [
    {
     "data": {
      "text/plain": [
       "1005"
      ]
     },
     "execution_count": 12,
     "metadata": {},
     "output_type": "execute_result"
    }
   ],
   "source": [
    "data['accno'][4]"
   ]
  },
  {
   "cell_type": "code",
   "execution_count": 17,
   "metadata": {},
   "outputs": [
    {
     "name": "stdout",
     "output_type": "stream",
     "text": [
      "****************************** Bank Application ******************************\n",
      "\n",
      "1.\tLogin\n",
      "2.\tSignup\n",
      "3.\tAdmin Login\n",
      "4.\tExit\n",
      "\n",
      "Enter your choice among them(1-3) : 4\n",
      "\n",
      "\n",
      "Bye bye\n"
     ]
    }
   ],
   "source": [
    "\n",
    "print(\"*\"*30,\"Bank Application\",\"*\"*30)\n",
    "username = \"admin123\"\n",
    "password = \"adminadmin\"\n",
    "\n",
    "while True:\n",
    "    print(\"\\n1.\\tLogin\\n2.\\tSignup\\n3.\\tAdmin Login\\n4.\\tExit\")\n",
    "    ch = int(input('\\nEnter your choice among them(1-3) : '))\n",
    "    if ch==1:\n",
    "        accno = int(input(\"\\nEnter your account number : \"))\n",
    "        password = input(\"\\nEnter your password : \")\n",
    "        if accno in data['accno']:\n",
    "            i = data['accno'].index(accno)\n",
    "            if password == data['password'][i]:\n",
    "                while True:\n",
    "                    print(\"\\n1.\\tCredit\\n2.\\tDebit\\n3.\\tCheck Balanace\\n4.\\tUpdate Password5.\\tExit\")\n",
    "                    ch1 = int(input(\"\\nEnter your choice from (1-5): \"))\n",
    "                    if ch1==1:\n",
    "                        pass\n",
    "                    elif ch==2:\n",
    "                        pass\n",
    "                        \n",
    "                    elif ch==3:\n",
    "                        pass\n",
    "                    elif ch==4:\n",
    "                        pass\n",
    "                    elif ch==5:\n",
    "                        print(\"\\n\",\"*\"*30,\"Exiting....\",\"*\"*30)\n",
    "                        break\n",
    "                    else:\n",
    "                        print(\"\\n Invalid choice.....\")\n",
    "\n",
    "            else:\n",
    "                print(\"\\nIncorrect password.....\")\n",
    "        else:\n",
    "            print(\"\\nInvaid Account number.....please check it again....\")\n",
    "    elif ch==2:\n",
    "        name = input(\"\\nEnter your name : \")\n",
    "        bal = int(input(\"\\nEnter your balance : \"))\n",
    "        password = input(\"\\nEnter your password : \")\n",
    "        data['name'].append(name)\n",
    "        data['bal'].append(bal)\n",
    "        data['password'].append(password)\n",
    "        last = len(data['accno'])-1\n",
    "        newaccno = data['accno'][last] + 1\n",
    "        data['accno'].append(newaccno)\n",
    "        print(\"\\nYour account number is : \",newaccno)\n",
    "    elif ch==3:\n",
    "        uname = input(\"\\nEnter your username : \")\n",
    "        pswd = input(\"\\nEnter your password : \")\n",
    "        if username == uname and password == pswd:\n",
    "            pass\n",
    "        else:\n",
    "            print(\"\\nIncorrect Information\")\n",
    "\n",
    "    elif ch==4:\n",
    "        print(\"\\n\\nBye bye\")\n",
    "        break\n",
    "    else:\n",
    "        print(\"Invalid choice\")"
   ]
  },
  {
   "cell_type": "code",
   "execution_count": 15,
   "metadata": {},
   "outputs": [
    {
     "data": {
      "text/plain": [
       "{'accno': [1001, 1002, 1003, 1004, 1005],\n",
       " 'name': ['mahima', 'pradeep', 'jagdish', 'rahul', 'raghav', 'simran'],\n",
       " 'bal': [10000, 20000, 30000, 15000, 34000, '20000'],\n",
       " 'password': ['pass', 'admin', 'passpass', 'abc@123', '123456', 'password']}"
      ]
     },
     "execution_count": 15,
     "metadata": {},
     "output_type": "execute_result"
    }
   ],
   "source": [
    "data"
   ]
  },
  {
   "cell_type": "code",
   "execution_count": 20,
   "metadata": {},
   "outputs": [
    {
     "data": {
      "text/plain": [
       "20"
      ]
     },
     "execution_count": 20,
     "metadata": {},
     "output_type": "execute_result"
    }
   ],
   "source": [
    "sorted({'b':10,'a':20}.values())"
   ]
  },
  {
   "cell_type": "code",
   "execution_count": null,
   "metadata": {},
   "outputs": [],
   "source": [
    "\n"
   ]
  }
 ],
 "metadata": {
  "kernelspec": {
   "display_name": "Python 3",
   "language": "python",
   "name": "python3"
  },
  "language_info": {
   "codemirror_mode": {
    "name": "ipython",
    "version": 3
   },
   "file_extension": ".py",
   "mimetype": "text/x-python",
   "name": "python",
   "nbconvert_exporter": "python",
   "pygments_lexer": "ipython3",
   "version": "3.7.4"
  }
 },
 "nbformat": 4,
 "nbformat_minor": 2
}
