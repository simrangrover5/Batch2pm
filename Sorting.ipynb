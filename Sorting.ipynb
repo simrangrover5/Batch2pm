{
 "cells": [
  {
   "cell_type": "code",
   "execution_count": 1,
   "metadata": {},
   "outputs": [],
   "source": [
    "s1 = {1,2,3,4,5}\n",
    "s2 = {1,2,3,4}"
   ]
  },
  {
   "cell_type": "code",
   "execution_count": 2,
   "metadata": {},
   "outputs": [
    {
     "data": {
      "text/plain": [
       "True"
      ]
     },
     "execution_count": 2,
     "metadata": {},
     "output_type": "execute_result"
    }
   ],
   "source": [
    "s1>s2"
   ]
  },
  {
   "cell_type": "code",
   "execution_count": 3,
   "metadata": {},
   "outputs": [
    {
     "data": {
      "text/plain": [
       "False"
      ]
     },
     "execution_count": 3,
     "metadata": {},
     "output_type": "execute_result"
    }
   ],
   "source": [
    "s1<s2"
   ]
  },
  {
   "cell_type": "code",
   "execution_count": 4,
   "metadata": {},
   "outputs": [],
   "source": [
    "s1 = {1,2,3,10,90,56}\n",
    "s2 = {90}"
   ]
  },
  {
   "cell_type": "code",
   "execution_count": 5,
   "metadata": {},
   "outputs": [
    {
     "data": {
      "text/plain": [
       "True"
      ]
     },
     "execution_count": 5,
     "metadata": {},
     "output_type": "execute_result"
    }
   ],
   "source": [
    "s2<s1"
   ]
  },
  {
   "cell_type": "code",
   "execution_count": 6,
   "metadata": {},
   "outputs": [
    {
     "data": {
      "text/plain": [
       "False"
      ]
     },
     "execution_count": 6,
     "metadata": {},
     "output_type": "execute_result"
    }
   ],
   "source": [
    "s1<s2"
   ]
  },
  {
   "cell_type": "code",
   "execution_count": 7,
   "metadata": {},
   "outputs": [],
   "source": [
    "from random import randint"
   ]
  },
  {
   "cell_type": "code",
   "execution_count": 12,
   "metadata": {},
   "outputs": [],
   "source": [
    "l = [randint(1,10) for var in range(5)]"
   ]
  },
  {
   "cell_type": "code",
   "execution_count": 13,
   "metadata": {},
   "outputs": [
    {
     "data": {
      "text/plain": [
       "[7, 1, 9, 7, 1]"
      ]
     },
     "execution_count": 13,
     "metadata": {},
     "output_type": "execute_result"
    }
   ],
   "source": [
    "l"
   ]
  },
  {
   "cell_type": "code",
   "execution_count": 14,
   "metadata": {},
   "outputs": [
    {
     "name": "stdout",
     "output_type": "stream",
     "text": [
      "7\n",
      "1\n",
      "9\n",
      "7\n",
      "7\n"
     ]
    }
   ],
   "source": [
    "for l[-1] in l:\n",
    "    print(l[-1])"
   ]
  },
  {
   "cell_type": "markdown",
   "metadata": {},
   "source": [
    "## Bubble Sort"
   ]
  },
  {
   "cell_type": "code",
   "execution_count": 23,
   "metadata": {},
   "outputs": [],
   "source": [
    "l = [randint(1,10) for var in range(5)]"
   ]
  },
  {
   "cell_type": "code",
   "execution_count": 24,
   "metadata": {},
   "outputs": [
    {
     "data": {
      "text/plain": [
       "[8, 4, 10, 1, 4]"
      ]
     },
     "execution_count": 24,
     "metadata": {},
     "output_type": "execute_result"
    }
   ],
   "source": [
    "l"
   ]
  },
  {
   "cell_type": "code",
   "execution_count": 18,
   "metadata": {},
   "outputs": [
    {
     "name": "stdout",
     "output_type": "stream",
     "text": [
      "List after sorting is :  [2, 3, 6, 7, 9]\n"
     ]
    }
   ],
   "source": [
    "for i in range(len(l)):\n",
    "    for j in range(len(l)-1):\n",
    "        if l[j]>l[j+1]:\n",
    "            l[j],l[j+1] = l[j+1],l[j]\n",
    "            \n",
    "print(\"List after sorting is : \",l)"
   ]
  },
  {
   "cell_type": "code",
   "execution_count": 25,
   "metadata": {},
   "outputs": [
    {
     "name": "stdout",
     "output_type": "stream",
     "text": [
      "The list before sort is ----->  [8, 4, 10, 1, 4]\n",
      "The swap value is 4,8\n",
      "\n",
      " [4, 8, 10, 1, 4]\n",
      "No swap between 8,10\n",
      "The swap value is 1,10\n",
      "\n",
      " [4, 8, 1, 10, 4]\n",
      "The swap value is 4,10\n",
      "\n",
      " [4, 8, 1, 4, 10]\n",
      "**************************************************\n",
      "No swap between 4,8\n",
      "The swap value is 1,8\n",
      "\n",
      " [4, 1, 8, 4, 10]\n",
      "The swap value is 4,8\n",
      "\n",
      " [4, 1, 4, 8, 10]\n",
      "No swap between 8,10\n",
      "**************************************************\n",
      "The swap value is 1,4\n",
      "\n",
      " [1, 4, 4, 8, 10]\n",
      "No swap between 4,4\n",
      "No swap between 4,8\n",
      "No swap between 8,10\n",
      "**************************************************\n",
      "No swap between 1,4\n",
      "No swap between 4,4\n",
      "No swap between 4,8\n",
      "No swap between 8,10\n",
      "**************************************************\n",
      "No swap between 1,4\n",
      "No swap between 4,4\n",
      "No swap between 4,8\n",
      "No swap between 8,10\n",
      "**************************************************\n"
     ]
    }
   ],
   "source": [
    "print(\"The list before sort is -----> \",l)\n",
    "\n",
    "i = 0\n",
    "while i<len(l):\n",
    "    j = 0\n",
    "    while j<len(l)-1:\n",
    "        if l[j] > l[j+1]:\n",
    "            l[j+1],l[j] = l[j],l[j+1]\n",
    "            print(f\"The swap value is {l[j]},{l[j+1]}\")  #after being sorted our loop is running which it should be stopped\n",
    "            print(\"\\n\",l)\n",
    "        else:\n",
    "            print(f\"No swap between {l[j]},{l[j+1]}\")   \n",
    "            \n",
    "        j += 1\n",
    "    print(\"*\"*50)\n",
    "    i += 1"
   ]
  },
  {
   "cell_type": "code",
   "execution_count": 27,
   "metadata": {},
   "outputs": [],
   "source": [
    "l = [8, 4, 10, 1, 4]"
   ]
  },
  {
   "cell_type": "code",
   "execution_count": 28,
   "metadata": {},
   "outputs": [
    {
     "name": "stdout",
     "output_type": "stream",
     "text": [
      "The list before sort is ----->  [8, 4, 10, 1, 4]\n",
      "\n",
      "The swap value is 4,8\n",
      "[4, 8, 10, 1, 4]\n",
      "No swap between 8,10\n",
      "\n",
      "The swap value is 1,10\n",
      "[4, 8, 1, 10, 4]\n",
      "\n",
      "The swap value is 4,10\n",
      "[4, 8, 1, 4, 10]\n",
      "**************************************************\n",
      "No swap between 4,8\n",
      "\n",
      "The swap value is 1,8\n",
      "[4, 1, 8, 4, 10]\n",
      "\n",
      "The swap value is 4,8\n",
      "[4, 1, 4, 8, 10]\n",
      "No swap between 8,10\n",
      "**************************************************\n",
      "\n",
      "The swap value is 1,4\n",
      "[1, 4, 4, 8, 10]\n",
      "No swap between 4,4\n",
      "No swap between 4,8\n",
      "No swap between 8,10\n",
      "**************************************************\n",
      "No swap between 1,4\n",
      "No swap between 4,4\n",
      "No swap between 4,8\n",
      "No swap between 8,10\n",
      "\n",
      "The sorted list is  [1, 4, 4, 8, 10]\n"
     ]
    }
   ],
   "source": [
    "print(\"The list before sort is -----> \",l)\n",
    "\n",
    "i = 0\n",
    "while i<len(l):\n",
    "    swap = False    #to stop the inner loop when the list is being sorted\n",
    "    j = 0\n",
    "    while j<len(l)-1:    #iteration run more times we have to reduce it\n",
    "        if l[j] > l[j+1]:\n",
    "            l[j+1],l[j] = l[j],l[j+1]\n",
    "            swap = True\n",
    "            print(f\"\\nThe swap value is {l[j]},{l[j+1]}\")\n",
    "            print(l)\n",
    "        else:\n",
    "            print(f\"No swap between {l[j]},{l[j+1]}\")\n",
    "            \n",
    "        j += 1\n",
    "    if not swap:  \n",
    "        break\n",
    "\n",
    "    print(\"*\"*50)\n",
    "    i += 1\n",
    "    \n",
    "print(\"\\nThe sorted list is \",l)"
   ]
  },
  {
   "cell_type": "code",
   "execution_count": 30,
   "metadata": {},
   "outputs": [],
   "source": [
    "l = [8, 4, 10, 1, 4]"
   ]
  },
  {
   "cell_type": "code",
   "execution_count": 31,
   "metadata": {},
   "outputs": [
    {
     "name": "stdout",
     "output_type": "stream",
     "text": [
      "The list before sort is ----->  [8, 4, 10, 1, 4]\n",
      "\n",
      "The swap value is 4,8\n",
      "[4, 8, 10, 1, 4]\n",
      "No swap between 8,10\n",
      "\n",
      "The swap value is 1,10\n",
      "[4, 8, 1, 10, 4]\n",
      "\n",
      "The swap value is 4,10\n",
      "[4, 8, 1, 4, 10]\n",
      "**************************************************\n",
      "No swap between 4,8\n",
      "\n",
      "The swap value is 1,8\n",
      "[4, 1, 8, 4, 10]\n",
      "\n",
      "The swap value is 4,8\n",
      "[4, 1, 4, 8, 10]\n",
      "**************************************************\n",
      "\n",
      "The swap value is 1,4\n",
      "[1, 4, 4, 8, 10]\n",
      "No swap between 4,4\n",
      "**************************************************\n",
      "No swap between 1,4\n",
      "\n",
      "The sorted list is  [1, 4, 4, 8, 10]\n"
     ]
    }
   ],
   "source": [
    "#in bubble sort after every pass or iteration the highest element occupy its index position\n",
    "\n",
    "print(\"The list before sort is -----> \",l)\n",
    "\n",
    "i = 0\n",
    "while i<len(l):\n",
    "    swap = False    #to stop the inner loop when the list is being sorted\n",
    "    j = 0\n",
    "    while j<len(l)-i-1:    #iteration run more times we have to reduce it\n",
    "        if l[j] > l[j+1]:\n",
    "            l[j+1],l[j] = l[j],l[j+1]\n",
    "            swap = True\n",
    "            print(f\"\\nThe swap value is {l[j]},{l[j+1]}\")\n",
    "            print(l)\n",
    "        else:\n",
    "            print(f\"No swap between {l[j]},{l[j+1]}\")\n",
    "            \n",
    "        j += 1\n",
    "    if not swap:  \n",
    "        break\n",
    "\n",
    "    print(\"*\"*50)\n",
    "    i += 1\n",
    "    \n",
    "print(\"\\nThe sorted list is \",l)"
   ]
  },
  {
   "cell_type": "code",
   "execution_count": 34,
   "metadata": {},
   "outputs": [
    {
     "name": "stdout",
     "output_type": "stream",
     "text": [
      "The list before sort is ----->  [1, 4, 4, 8, 10]\n",
      "No swap between 1,4\n",
      "No swap between 4,4\n",
      "No swap between 4,8\n",
      "No swap between 8,10\n",
      "\n",
      "The sorted list is  [1, 4, 4, 8, 10]\n"
     ]
    }
   ],
   "source": [
    "#the best case complexity is O(n)\n",
    "#as in the best case the list is already sorted\n",
    "\n",
    "#in bubble sort after every pass or iteration the highest element occupy its index position\n",
    "\n",
    "print(\"The list before sort is -----> \",l)\n",
    "\n",
    "i = 0\n",
    "swap = False\n",
    "while i<len(l):\n",
    "    j = 0\n",
    "    while j<len(l)-i-1:\n",
    "        if l[j] > l[j+1]:\n",
    "            l[j+1],l[j] = l[j],l[j+1]\n",
    "            swap = True\n",
    "            print(f\"\\nThe swap value is {l[j]},{l[j+1]}\")\n",
    "            print(l)\n",
    "        else:\n",
    "            print(f\"No swap between {l[j]},{l[j+1]}\")\n",
    "            \n",
    "        j += 1\n",
    "    if not swap:\n",
    "        break\n",
    "\n",
    "    print(\"*\"*50)\n",
    "    i += 1\n",
    "    \n",
    "print(\"\\nThe sorted list is \",l)"
   ]
  },
  {
   "cell_type": "code",
   "execution_count": 39,
   "metadata": {},
   "outputs": [],
   "source": [
    "def bubble_sort(l):\n",
    "    print(\"The list before sort is -----> \",l)\n",
    "\n",
    "    i = 0\n",
    "    swap = False\n",
    "    while i<len(l):\n",
    "        j = 0\n",
    "        while j<len(l)-i-1:\n",
    "            if l[j] > l[j+1]:\n",
    "                l[j+1],l[j] = l[j],l[j+1]\n",
    "                swap = True\n",
    "            j += 1\n",
    "        if not swap:\n",
    "            break\n",
    "\n",
    "        i += 1\n",
    "    print(\"*\"*50)\n",
    "    return l"
   ]
  },
  {
   "cell_type": "code",
   "execution_count": 40,
   "metadata": {},
   "outputs": [
    {
     "name": "stdout",
     "output_type": "stream",
     "text": [
      "The list before sort is ----->  [8, 4, 10, 1, 4]\n",
      "**************************************************\n",
      "Now the list after sorting is :  [1, 4, 4, 8, 10]\n"
     ]
    }
   ],
   "source": [
    "l = [8, 4, 10, 1, 4]\n",
    "print(\"Now the list after sorting is : \",bubble_sort(l))"
   ]
  },
  {
   "cell_type": "markdown",
   "metadata": {},
   "source": [
    "## Insertion sort"
   ]
  },
  {
   "cell_type": "code",
   "execution_count": 44,
   "metadata": {},
   "outputs": [
    {
     "name": "stdout",
     "output_type": "stream",
     "text": [
      "Pass 1---->  [4, 8, 10, 1, 4, 2, 5, 3]\n",
      "Pass 2---->  [4, 8, 10, 1, 4, 2, 5, 3]\n",
      "Pass 3---->  [1, 4, 8, 10, 4, 2, 5, 3]\n",
      "Pass 4---->  [1, 4, 4, 8, 10, 2, 5, 3]\n",
      "Pass 5---->  [1, 2, 4, 4, 8, 10, 5, 3]\n",
      "Pass 6---->  [1, 2, 4, 4, 5, 8, 10, 3]\n",
      "Pass 7---->  [1, 2, 3, 4, 4, 5, 8, 10]\n",
      "The list after sorting is :  [1, 2, 3, 4, 4, 5, 8, 10]\n"
     ]
    }
   ],
   "source": [
    "l = [8, 4, 10, 1, 4, 2, 5, 3]\n",
    "for i in range(1,len(l)):\n",
    "    for j in range(i):\n",
    "        if l[i]<l[j]:\n",
    "            l[i],l[j] = l[j],l[i]\n",
    "    print(f\"Pass {i}----> \",l)\n",
    "            \n",
    "print(\"The list after sorting is : \",l)"
   ]
  },
  {
   "cell_type": "code",
   "execution_count": 46,
   "metadata": {},
   "outputs": [
    {
     "name": "stdout",
     "output_type": "stream",
     "text": [
      "The list before swap is :  [8, 4, 10, 1, 4, 2, 5, 3] \n",
      "\n",
      "Pass 1---->  [4, 8, 10, 1, 4, 2, 5, 3]\n",
      "Pass 2---->  [4, 8, 10, 1, 4, 2, 5, 3]\n",
      "Pass 3---->  [1, 4, 8, 10, 4, 2, 5, 3]\n",
      "Pass 4---->  [1, 4, 4, 8, 10, 2, 5, 3]\n",
      "Pass 5---->  [1, 2, 4, 4, 8, 10, 5, 3]\n",
      "Pass 6---->  [1, 2, 4, 4, 5, 8, 10, 3]\n",
      "Pass 7---->  [1, 2, 3, 4, 4, 5, 8, 10]\n",
      "\n",
      "The list after sorting is :  [1, 2, 3, 4, 4, 5, 8, 10]\n"
     ]
    }
   ],
   "source": [
    "l = [8, 4, 10, 1, 4, 2, 5, 3]\n",
    "print(\"The list before swap is : \",l,\"\\n\")\n",
    "\n",
    "i = 1\n",
    "while i<len(l):\n",
    "    j = 0\n",
    "    while j<i:\n",
    "        if l[i]<l[j]:\n",
    "            l[i],l[j] = l[j],l[i]\n",
    "        j += 1\n",
    "    print(f\"Pass {i}----> \",l)\n",
    "    i += 1\n",
    "            \n",
    "print(\"\\nThe list after sorting is : \",l)"
   ]
  },
  {
   "cell_type": "code",
   "execution_count": 50,
   "metadata": {},
   "outputs": [],
   "source": [
    "l = [1, 2, 1, 4, 4, 5, 8, 10]"
   ]
  },
  {
   "cell_type": "code",
   "execution_count": 51,
   "metadata": {},
   "outputs": [
    {
     "name": "stdout",
     "output_type": "stream",
     "text": [
      "The list before swap is :  [1, 2, 1, 4, 4, 5, 8, 10] \n",
      "\n",
      "\n",
      "The list after sorting is :  [1, 2, 1, 4, 4, 5, 8, 10]\n"
     ]
    }
   ],
   "source": [
    "#there is problem for best case that is when the list is already sorted\n",
    "print(\"The list before swap is : \",l,\"\\n\")\n",
    "\n",
    "i = 1\n",
    "swap = False\n",
    "while i<len(l):\n",
    "    j = 0\n",
    "    while j<i:\n",
    "        if l[i]<l[j]:\n",
    "            l[i],l[j] = l[j],l[i]\n",
    "            swap = True\n",
    "        j += 1\n",
    "    if not swap:\n",
    "        break\n",
    "    print(f\"Pass {i}----> \",l)\n",
    "    i += 1\n",
    "            \n",
    "print(\"\\nThe list after sorting is : \",l)"
   ]
  },
  {
   "cell_type": "code",
   "execution_count": null,
   "metadata": {},
   "outputs": [],
   "source": []
  }
 ],
 "metadata": {
  "kernelspec": {
   "display_name": "Python 3",
   "language": "python",
   "name": "python3"
  },
  "language_info": {
   "codemirror_mode": {
    "name": "ipython",
    "version": 3
   },
   "file_extension": ".py",
   "mimetype": "text/x-python",
   "name": "python",
   "nbconvert_exporter": "python",
   "pygments_lexer": "ipython3",
   "version": "3.7.4"
  }
 },
 "nbformat": 4,
 "nbformat_minor": 2
}
