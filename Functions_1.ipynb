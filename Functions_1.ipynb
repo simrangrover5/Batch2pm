{
 "cells": [
  {
   "cell_type": "markdown",
   "metadata": {},
   "source": [
    "## Functions"
   ]
  },
  {
   "cell_type": "markdown",
   "metadata": {},
   "source": [
    "1. Builtins\n",
    "2. User Defined Functions"
   ]
  },
  {
   "cell_type": "code",
   "execution_count": 1,
   "metadata": {},
   "outputs": [],
   "source": [
    "import builtins"
   ]
  },
  {
   "cell_type": "code",
   "execution_count": 4,
   "metadata": {},
   "outputs": [],
   "source": [
    "allvalues = dir(builtins)"
   ]
  },
  {
   "cell_type": "code",
   "execution_count": 5,
   "metadata": {},
   "outputs": [
    {
     "name": "stdout",
     "output_type": "stream",
     "text": [
      "81\n"
     ]
    }
   ],
   "source": [
    "i = allvalues.index('abs')\n",
    "print(i)"
   ]
  },
  {
   "cell_type": "code",
   "execution_count": 6,
   "metadata": {},
   "outputs": [],
   "source": [
    "BIF = allvalues[81:] "
   ]
  },
  {
   "cell_type": "code",
   "execution_count": 8,
   "metadata": {},
   "outputs": [
    {
     "name": "stdout",
     "output_type": "stream",
     "text": [
      "['abs', 'all', 'any', 'ascii', 'bin', 'bool', 'breakpoint', 'bytearray', 'bytes', 'callable', 'chr', 'classmethod', 'compile', 'complex', 'copyright', 'credits', 'delattr', 'dict', 'dir', 'display', 'divmod', 'enumerate', 'eval', 'exec', 'filter', 'float', 'format', 'frozenset', 'get_ipython', 'getattr', 'globals', 'hasattr', 'hash', 'help', 'hex', 'id', 'input', 'int', 'isinstance', 'issubclass', 'iter', 'len', 'license', 'list', 'locals', 'map', 'max', 'memoryview', 'min', 'next', 'object', 'oct', 'open', 'ord', 'pow', 'print', 'property', 'range', 'repr', 'reversed', 'round', 'set', 'setattr', 'slice', 'sorted', 'staticmethod', 'str', 'sum', 'super', 'tuple', 'type', 'vars', 'zip']\n"
     ]
    }
   ],
   "source": [
    "print(BIF)"
   ]
  },
  {
   "cell_type": "code",
   "execution_count": 9,
   "metadata": {},
   "outputs": [
    {
     "name": "stdout",
     "output_type": "stream",
     "text": [
      "Hello world\n"
     ]
    }
   ],
   "source": [
    "print(\"Hello world\")"
   ]
  },
  {
   "cell_type": "code",
   "execution_count": 10,
   "metadata": {},
   "outputs": [
    {
     "data": {
      "text/plain": [
       "False"
      ]
     },
     "execution_count": 10,
     "metadata": {},
     "output_type": "execute_result"
    }
   ],
   "source": [
    "all([True,False,True])"
   ]
  },
  {
   "cell_type": "code",
   "execution_count": 11,
   "metadata": {},
   "outputs": [
    {
     "data": {
      "text/plain": [
       "True"
      ]
     },
     "execution_count": 11,
     "metadata": {},
     "output_type": "execute_result"
    }
   ],
   "source": [
    "all([True,True,True])"
   ]
  },
  {
   "cell_type": "code",
   "execution_count": 12,
   "metadata": {},
   "outputs": [
    {
     "data": {
      "text/plain": [
       "True"
      ]
     },
     "execution_count": 12,
     "metadata": {},
     "output_type": "execute_result"
    }
   ],
   "source": [
    "all([1,2,3,4])"
   ]
  },
  {
   "cell_type": "code",
   "execution_count": 13,
   "metadata": {},
   "outputs": [
    {
     "data": {
      "text/plain": [
       "False"
      ]
     },
     "execution_count": 13,
     "metadata": {},
     "output_type": "execute_result"
    }
   ],
   "source": [
    "all([1,2,4,7,0,9])"
   ]
  },
  {
   "cell_type": "code",
   "execution_count": 14,
   "metadata": {},
   "outputs": [
    {
     "data": {
      "text/plain": [
       "True"
      ]
     },
     "execution_count": 14,
     "metadata": {},
     "output_type": "execute_result"
    }
   ],
   "source": [
    "any([1,2,0,3])"
   ]
  },
  {
   "cell_type": "code",
   "execution_count": 15,
   "metadata": {},
   "outputs": [],
   "source": [
    "l1 = ['name','course','amt']\n",
    "l2 = ['simran','python',10000]"
   ]
  },
  {
   "cell_type": "code",
   "execution_count": 17,
   "metadata": {},
   "outputs": [
    {
     "data": {
      "text/plain": [
       "[('name', 'simran'), ('course', 'python'), ('amt', 10000)]"
      ]
     },
     "execution_count": 17,
     "metadata": {},
     "output_type": "execute_result"
    }
   ],
   "source": [
    "list(zip(l1,l2))"
   ]
  },
  {
   "cell_type": "code",
   "execution_count": 23,
   "metadata": {},
   "outputs": [],
   "source": [
    "l1 = ['one','two','three','four','five']\n",
    "l2 = [1,2,3,4,5,6,7,8]"
   ]
  },
  {
   "cell_type": "code",
   "execution_count": 24,
   "metadata": {},
   "outputs": [
    {
     "name": "stdout",
     "output_type": "stream",
     "text": [
      "[('one', 1), ('two', 2), ('three', 3), ('four', 4), ('five', 5)]\n"
     ]
    }
   ],
   "source": [
    "print(list(zip(l1,l2)))"
   ]
  },
  {
   "cell_type": "code",
   "execution_count": 25,
   "metadata": {},
   "outputs": [],
   "source": [
    "d = {\n",
    "    'name' : 'simran',\n",
    "    'coursee' : 'linux',\n",
    "    'amt' : 20000\n",
    "}\n",
    "l = ['ayush','aws',25000]"
   ]
  },
  {
   "cell_type": "code",
   "execution_count": 26,
   "metadata": {},
   "outputs": [
    {
     "name": "stdout",
     "output_type": "stream",
     "text": [
      "{'name': 'ayush', 'coursee': 'aws', 'amt': 25000}\n"
     ]
    }
   ],
   "source": [
    "print(dict(zip(d,l)))"
   ]
  },
  {
   "cell_type": "code",
   "execution_count": 28,
   "metadata": {},
   "outputs": [
    {
     "data": {
      "text/plain": [
       "46"
      ]
     },
     "execution_count": 28,
     "metadata": {},
     "output_type": "execute_result"
    }
   ],
   "source": [
    "sum([1,2,3,10,30])  #aggregate function"
   ]
  },
  {
   "cell_type": "code",
   "execution_count": 30,
   "metadata": {},
   "outputs": [
    {
     "data": {
      "text/plain": [
       "[1, 2, 3, 10, 30, 40]"
      ]
     },
     "execution_count": 30,
     "metadata": {},
     "output_type": "execute_result"
    }
   ],
   "source": [
    "sorted([30,40,10,2,3,1])   #transformation"
   ]
  },
  {
   "cell_type": "markdown",
   "metadata": {},
   "source": [
    "## User Defined Function"
   ]
  },
  {
   "cell_type": "code",
   "execution_count": 31,
   "metadata": {},
   "outputs": [],
   "source": [
    "def func_name():\n",
    "    print(\"Hello world\") "
   ]
  },
  {
   "cell_type": "code",
   "execution_count": 33,
   "metadata": {},
   "outputs": [
    {
     "name": "stdout",
     "output_type": "stream",
     "text": [
      "Hello world\n"
     ]
    }
   ],
   "source": [
    "func_name()"
   ]
  },
  {
   "cell_type": "code",
   "execution_count": 34,
   "metadata": {},
   "outputs": [
    {
     "data": {
      "text/plain": [
       "{'name': 'simran', 'coursee': 'linux', 'amt': 20000}"
      ]
     },
     "execution_count": 34,
     "metadata": {},
     "output_type": "execute_result"
    }
   ],
   "source": [
    "d"
   ]
  },
  {
   "cell_type": "code",
   "execution_count": 36,
   "metadata": {},
   "outputs": [
    {
     "data": {
      "text/plain": [
       "{'__name__': '__main__',\n",
       " '__doc__': 'Automatically created module for IPython interactive environment',\n",
       " '__package__': None,\n",
       " '__loader__': None,\n",
       " '__spec__': None,\n",
       " '__builtin__': <module 'builtins' (built-in)>,\n",
       " '__builtins__': <module 'builtins' (built-in)>,\n",
       " '_ih': ['',\n",
       "  'import builtins',\n",
       "  'print(dir(builtins))',\n",
       "  \"i = builtins.index('abs')\\nprint(i)\",\n",
       "  'allvalues = dir(builtins)',\n",
       "  \"i = allvalues.index('abs')\\nprint(i)\",\n",
       "  'BIF = allvalues[81:] ',\n",
       "  'BIF',\n",
       "  'print(BIF)',\n",
       "  'print(\"Hello world\")',\n",
       "  'all([True,False,True])',\n",
       "  'all([True,True,True])',\n",
       "  'all([1,2,3,4])',\n",
       "  'all([1,2,4,7,0,9])',\n",
       "  'any([1,2,0,3])',\n",
       "  \"l1 = ['name','course','amt']\\nl2 = ['simran','python',10000]\",\n",
       "  'zip(l1,l2)',\n",
       "  'list(zip(l1,l2))',\n",
       "  \"l1 = ['one','two','three','four','fiv']\\nl2 = [1,2,3,4,5,6,7,8]\",\n",
       "  'print(list(zip(l1,l2)))',\n",
       "  \"l1 = ['one','two','three','four','five]\\nl2 = [1,2,3,4,5,6,7,8]\",\n",
       "  'print(list(zip(l1,l2)))',\n",
       "  \"l1 = ['one','two','three','four','five'\\nl2 = [1,2,3,4,5,6,7,8]\",\n",
       "  \"l1 = ['one','two','three','four','five']\\nl2 = [1,2,3,4,5,6,7,8]\",\n",
       "  'print(list(zip(l1,l2)))',\n",
       "  \"d = {\\n    'name' : 'simran',\\n    'coursee' : 'linux',\\n    'amt' : 20000\\n}\\nl = ['ayush','aws',25000]\",\n",
       "  'print(dict(zip(d,l)))',\n",
       "  'sum([1,2,3,10,30])',\n",
       "  'sum([1,2,3,10,30])  #aggregate function',\n",
       "  'sorted([30,40,10,2,3,1])',\n",
       "  'sorted([30,40,10,2,3,1])   #transformation',\n",
       "  'def func_name():\\n    print(\"Hello world\") ',\n",
       "  'fucn_name()',\n",
       "  'func_name()',\n",
       "  'd',\n",
       "  'vars()',\n",
       "  'vars()  #global space'],\n",
       " '_oh': {7: ['abs',\n",
       "   'all',\n",
       "   'any',\n",
       "   'ascii',\n",
       "   'bin',\n",
       "   'bool',\n",
       "   'breakpoint',\n",
       "   'bytearray',\n",
       "   'bytes',\n",
       "   'callable',\n",
       "   'chr',\n",
       "   'classmethod',\n",
       "   'compile',\n",
       "   'complex',\n",
       "   'copyright',\n",
       "   'credits',\n",
       "   'delattr',\n",
       "   'dict',\n",
       "   'dir',\n",
       "   'display',\n",
       "   'divmod',\n",
       "   'enumerate',\n",
       "   'eval',\n",
       "   'exec',\n",
       "   'filter',\n",
       "   'float',\n",
       "   'format',\n",
       "   'frozenset',\n",
       "   'get_ipython',\n",
       "   'getattr',\n",
       "   'globals',\n",
       "   'hasattr',\n",
       "   'hash',\n",
       "   'help',\n",
       "   'hex',\n",
       "   'id',\n",
       "   'input',\n",
       "   'int',\n",
       "   'isinstance',\n",
       "   'issubclass',\n",
       "   'iter',\n",
       "   'len',\n",
       "   'license',\n",
       "   'list',\n",
       "   'locals',\n",
       "   'map',\n",
       "   'max',\n",
       "   'memoryview',\n",
       "   'min',\n",
       "   'next',\n",
       "   'object',\n",
       "   'oct',\n",
       "   'open',\n",
       "   'ord',\n",
       "   'pow',\n",
       "   'print',\n",
       "   'property',\n",
       "   'range',\n",
       "   'repr',\n",
       "   'reversed',\n",
       "   'round',\n",
       "   'set',\n",
       "   'setattr',\n",
       "   'slice',\n",
       "   'sorted',\n",
       "   'staticmethod',\n",
       "   'str',\n",
       "   'sum',\n",
       "   'super',\n",
       "   'tuple',\n",
       "   'type',\n",
       "   'vars',\n",
       "   'zip'],\n",
       "  10: False,\n",
       "  11: True,\n",
       "  12: True,\n",
       "  13: False,\n",
       "  14: True,\n",
       "  16: <zip at 0x18befdc0c48>,\n",
       "  17: [('name', 'simran'), ('course', 'python'), ('amt', 10000)],\n",
       "  27: 46,\n",
       "  28: 46,\n",
       "  29: [1, 2, 3, 10, 30, 40],\n",
       "  30: [1, 2, 3, 10, 30, 40],\n",
       "  34: {'name': 'simran', 'coursee': 'linux', 'amt': 20000},\n",
       "  35: {...}},\n",
       " '_dh': ['C:\\\\batches\\\\newbatch'],\n",
       " 'In': ['',\n",
       "  'import builtins',\n",
       "  'print(dir(builtins))',\n",
       "  \"i = builtins.index('abs')\\nprint(i)\",\n",
       "  'allvalues = dir(builtins)',\n",
       "  \"i = allvalues.index('abs')\\nprint(i)\",\n",
       "  'BIF = allvalues[81:] ',\n",
       "  'BIF',\n",
       "  'print(BIF)',\n",
       "  'print(\"Hello world\")',\n",
       "  'all([True,False,True])',\n",
       "  'all([True,True,True])',\n",
       "  'all([1,2,3,4])',\n",
       "  'all([1,2,4,7,0,9])',\n",
       "  'any([1,2,0,3])',\n",
       "  \"l1 = ['name','course','amt']\\nl2 = ['simran','python',10000]\",\n",
       "  'zip(l1,l2)',\n",
       "  'list(zip(l1,l2))',\n",
       "  \"l1 = ['one','two','three','four','fiv']\\nl2 = [1,2,3,4,5,6,7,8]\",\n",
       "  'print(list(zip(l1,l2)))',\n",
       "  \"l1 = ['one','two','three','four','five]\\nl2 = [1,2,3,4,5,6,7,8]\",\n",
       "  'print(list(zip(l1,l2)))',\n",
       "  \"l1 = ['one','two','three','four','five'\\nl2 = [1,2,3,4,5,6,7,8]\",\n",
       "  \"l1 = ['one','two','three','four','five']\\nl2 = [1,2,3,4,5,6,7,8]\",\n",
       "  'print(list(zip(l1,l2)))',\n",
       "  \"d = {\\n    'name' : 'simran',\\n    'coursee' : 'linux',\\n    'amt' : 20000\\n}\\nl = ['ayush','aws',25000]\",\n",
       "  'print(dict(zip(d,l)))',\n",
       "  'sum([1,2,3,10,30])',\n",
       "  'sum([1,2,3,10,30])  #aggregate function',\n",
       "  'sorted([30,40,10,2,3,1])',\n",
       "  'sorted([30,40,10,2,3,1])   #transformation',\n",
       "  'def func_name():\\n    print(\"Hello world\") ',\n",
       "  'fucn_name()',\n",
       "  'func_name()',\n",
       "  'd',\n",
       "  'vars()',\n",
       "  'vars()  #global space'],\n",
       " 'Out': {7: ['abs',\n",
       "   'all',\n",
       "   'any',\n",
       "   'ascii',\n",
       "   'bin',\n",
       "   'bool',\n",
       "   'breakpoint',\n",
       "   'bytearray',\n",
       "   'bytes',\n",
       "   'callable',\n",
       "   'chr',\n",
       "   'classmethod',\n",
       "   'compile',\n",
       "   'complex',\n",
       "   'copyright',\n",
       "   'credits',\n",
       "   'delattr',\n",
       "   'dict',\n",
       "   'dir',\n",
       "   'display',\n",
       "   'divmod',\n",
       "   'enumerate',\n",
       "   'eval',\n",
       "   'exec',\n",
       "   'filter',\n",
       "   'float',\n",
       "   'format',\n",
       "   'frozenset',\n",
       "   'get_ipython',\n",
       "   'getattr',\n",
       "   'globals',\n",
       "   'hasattr',\n",
       "   'hash',\n",
       "   'help',\n",
       "   'hex',\n",
       "   'id',\n",
       "   'input',\n",
       "   'int',\n",
       "   'isinstance',\n",
       "   'issubclass',\n",
       "   'iter',\n",
       "   'len',\n",
       "   'license',\n",
       "   'list',\n",
       "   'locals',\n",
       "   'map',\n",
       "   'max',\n",
       "   'memoryview',\n",
       "   'min',\n",
       "   'next',\n",
       "   'object',\n",
       "   'oct',\n",
       "   'open',\n",
       "   'ord',\n",
       "   'pow',\n",
       "   'print',\n",
       "   'property',\n",
       "   'range',\n",
       "   'repr',\n",
       "   'reversed',\n",
       "   'round',\n",
       "   'set',\n",
       "   'setattr',\n",
       "   'slice',\n",
       "   'sorted',\n",
       "   'staticmethod',\n",
       "   'str',\n",
       "   'sum',\n",
       "   'super',\n",
       "   'tuple',\n",
       "   'type',\n",
       "   'vars',\n",
       "   'zip'],\n",
       "  10: False,\n",
       "  11: True,\n",
       "  12: True,\n",
       "  13: False,\n",
       "  14: True,\n",
       "  16: <zip at 0x18befdc0c48>,\n",
       "  17: [('name', 'simran'), ('course', 'python'), ('amt', 10000)],\n",
       "  27: 46,\n",
       "  28: 46,\n",
       "  29: [1, 2, 3, 10, 30, 40],\n",
       "  30: [1, 2, 3, 10, 30, 40],\n",
       "  34: {'name': 'simran', 'coursee': 'linux', 'amt': 20000},\n",
       "  35: {...}},\n",
       " 'get_ipython': <bound method InteractiveShell.get_ipython of <ipykernel.zmqshell.ZMQInteractiveShell object at 0x0000018BEDCADE88>>,\n",
       " 'exit': <IPython.core.autocall.ZMQExitAutocall at 0x18bedd14d08>,\n",
       " 'quit': <IPython.core.autocall.ZMQExitAutocall at 0x18bedd14d08>,\n",
       " '_': {...},\n",
       " '__': {'name': 'simran', 'coursee': 'linux', 'amt': 20000},\n",
       " '___': [1, 2, 3, 10, 30, 40],\n",
       " '_i': 'vars()',\n",
       " '_ii': 'd',\n",
       " '_iii': 'func_name()',\n",
       " '_i1': 'import builtins',\n",
       " 'builtins': <module 'builtins' (built-in)>,\n",
       " '_i2': 'print(dir(builtins))',\n",
       " '_i3': \"i = builtins.index('abs')\\nprint(i)\",\n",
       " '_i4': 'allvalues = dir(builtins)',\n",
       " 'allvalues': ['ArithmeticError',\n",
       "  'AssertionError',\n",
       "  'AttributeError',\n",
       "  'BaseException',\n",
       "  'BlockingIOError',\n",
       "  'BrokenPipeError',\n",
       "  'BufferError',\n",
       "  'BytesWarning',\n",
       "  'ChildProcessError',\n",
       "  'ConnectionAbortedError',\n",
       "  'ConnectionError',\n",
       "  'ConnectionRefusedError',\n",
       "  'ConnectionResetError',\n",
       "  'DeprecationWarning',\n",
       "  'EOFError',\n",
       "  'Ellipsis',\n",
       "  'EnvironmentError',\n",
       "  'Exception',\n",
       "  'False',\n",
       "  'FileExistsError',\n",
       "  'FileNotFoundError',\n",
       "  'FloatingPointError',\n",
       "  'FutureWarning',\n",
       "  'GeneratorExit',\n",
       "  'IOError',\n",
       "  'ImportError',\n",
       "  'ImportWarning',\n",
       "  'IndentationError',\n",
       "  'IndexError',\n",
       "  'InterruptedError',\n",
       "  'IsADirectoryError',\n",
       "  'KeyError',\n",
       "  'KeyboardInterrupt',\n",
       "  'LookupError',\n",
       "  'MemoryError',\n",
       "  'ModuleNotFoundError',\n",
       "  'NameError',\n",
       "  'None',\n",
       "  'NotADirectoryError',\n",
       "  'NotImplemented',\n",
       "  'NotImplementedError',\n",
       "  'OSError',\n",
       "  'OverflowError',\n",
       "  'PendingDeprecationWarning',\n",
       "  'PermissionError',\n",
       "  'ProcessLookupError',\n",
       "  'RecursionError',\n",
       "  'ReferenceError',\n",
       "  'ResourceWarning',\n",
       "  'RuntimeError',\n",
       "  'RuntimeWarning',\n",
       "  'StopAsyncIteration',\n",
       "  'StopIteration',\n",
       "  'SyntaxError',\n",
       "  'SyntaxWarning',\n",
       "  'SystemError',\n",
       "  'SystemExit',\n",
       "  'TabError',\n",
       "  'TimeoutError',\n",
       "  'True',\n",
       "  'TypeError',\n",
       "  'UnboundLocalError',\n",
       "  'UnicodeDecodeError',\n",
       "  'UnicodeEncodeError',\n",
       "  'UnicodeError',\n",
       "  'UnicodeTranslateError',\n",
       "  'UnicodeWarning',\n",
       "  'UserWarning',\n",
       "  'ValueError',\n",
       "  'Warning',\n",
       "  'WindowsError',\n",
       "  'ZeroDivisionError',\n",
       "  '__IPYTHON__',\n",
       "  '__build_class__',\n",
       "  '__debug__',\n",
       "  '__doc__',\n",
       "  '__import__',\n",
       "  '__loader__',\n",
       "  '__name__',\n",
       "  '__package__',\n",
       "  '__spec__',\n",
       "  'abs',\n",
       "  'all',\n",
       "  'any',\n",
       "  'ascii',\n",
       "  'bin',\n",
       "  'bool',\n",
       "  'breakpoint',\n",
       "  'bytearray',\n",
       "  'bytes',\n",
       "  'callable',\n",
       "  'chr',\n",
       "  'classmethod',\n",
       "  'compile',\n",
       "  'complex',\n",
       "  'copyright',\n",
       "  'credits',\n",
       "  'delattr',\n",
       "  'dict',\n",
       "  'dir',\n",
       "  'display',\n",
       "  'divmod',\n",
       "  'enumerate',\n",
       "  'eval',\n",
       "  'exec',\n",
       "  'filter',\n",
       "  'float',\n",
       "  'format',\n",
       "  'frozenset',\n",
       "  'get_ipython',\n",
       "  'getattr',\n",
       "  'globals',\n",
       "  'hasattr',\n",
       "  'hash',\n",
       "  'help',\n",
       "  'hex',\n",
       "  'id',\n",
       "  'input',\n",
       "  'int',\n",
       "  'isinstance',\n",
       "  'issubclass',\n",
       "  'iter',\n",
       "  'len',\n",
       "  'license',\n",
       "  'list',\n",
       "  'locals',\n",
       "  'map',\n",
       "  'max',\n",
       "  'memoryview',\n",
       "  'min',\n",
       "  'next',\n",
       "  'object',\n",
       "  'oct',\n",
       "  'open',\n",
       "  'ord',\n",
       "  'pow',\n",
       "  'print',\n",
       "  'property',\n",
       "  'range',\n",
       "  'repr',\n",
       "  'reversed',\n",
       "  'round',\n",
       "  'set',\n",
       "  'setattr',\n",
       "  'slice',\n",
       "  'sorted',\n",
       "  'staticmethod',\n",
       "  'str',\n",
       "  'sum',\n",
       "  'super',\n",
       "  'tuple',\n",
       "  'type',\n",
       "  'vars',\n",
       "  'zip'],\n",
       " '_i5': \"i = allvalues.index('abs')\\nprint(i)\",\n",
       " 'i': 81,\n",
       " '_i6': 'BIF = allvalues[81:] ',\n",
       " 'BIF': ['abs',\n",
       "  'all',\n",
       "  'any',\n",
       "  'ascii',\n",
       "  'bin',\n",
       "  'bool',\n",
       "  'breakpoint',\n",
       "  'bytearray',\n",
       "  'bytes',\n",
       "  'callable',\n",
       "  'chr',\n",
       "  'classmethod',\n",
       "  'compile',\n",
       "  'complex',\n",
       "  'copyright',\n",
       "  'credits',\n",
       "  'delattr',\n",
       "  'dict',\n",
       "  'dir',\n",
       "  'display',\n",
       "  'divmod',\n",
       "  'enumerate',\n",
       "  'eval',\n",
       "  'exec',\n",
       "  'filter',\n",
       "  'float',\n",
       "  'format',\n",
       "  'frozenset',\n",
       "  'get_ipython',\n",
       "  'getattr',\n",
       "  'globals',\n",
       "  'hasattr',\n",
       "  'hash',\n",
       "  'help',\n",
       "  'hex',\n",
       "  'id',\n",
       "  'input',\n",
       "  'int',\n",
       "  'isinstance',\n",
       "  'issubclass',\n",
       "  'iter',\n",
       "  'len',\n",
       "  'license',\n",
       "  'list',\n",
       "  'locals',\n",
       "  'map',\n",
       "  'max',\n",
       "  'memoryview',\n",
       "  'min',\n",
       "  'next',\n",
       "  'object',\n",
       "  'oct',\n",
       "  'open',\n",
       "  'ord',\n",
       "  'pow',\n",
       "  'print',\n",
       "  'property',\n",
       "  'range',\n",
       "  'repr',\n",
       "  'reversed',\n",
       "  'round',\n",
       "  'set',\n",
       "  'setattr',\n",
       "  'slice',\n",
       "  'sorted',\n",
       "  'staticmethod',\n",
       "  'str',\n",
       "  'sum',\n",
       "  'super',\n",
       "  'tuple',\n",
       "  'type',\n",
       "  'vars',\n",
       "  'zip'],\n",
       " '_i7': 'BIF',\n",
       " '_7': ['abs',\n",
       "  'all',\n",
       "  'any',\n",
       "  'ascii',\n",
       "  'bin',\n",
       "  'bool',\n",
       "  'breakpoint',\n",
       "  'bytearray',\n",
       "  'bytes',\n",
       "  'callable',\n",
       "  'chr',\n",
       "  'classmethod',\n",
       "  'compile',\n",
       "  'complex',\n",
       "  'copyright',\n",
       "  'credits',\n",
       "  'delattr',\n",
       "  'dict',\n",
       "  'dir',\n",
       "  'display',\n",
       "  'divmod',\n",
       "  'enumerate',\n",
       "  'eval',\n",
       "  'exec',\n",
       "  'filter',\n",
       "  'float',\n",
       "  'format',\n",
       "  'frozenset',\n",
       "  'get_ipython',\n",
       "  'getattr',\n",
       "  'globals',\n",
       "  'hasattr',\n",
       "  'hash',\n",
       "  'help',\n",
       "  'hex',\n",
       "  'id',\n",
       "  'input',\n",
       "  'int',\n",
       "  'isinstance',\n",
       "  'issubclass',\n",
       "  'iter',\n",
       "  'len',\n",
       "  'license',\n",
       "  'list',\n",
       "  'locals',\n",
       "  'map',\n",
       "  'max',\n",
       "  'memoryview',\n",
       "  'min',\n",
       "  'next',\n",
       "  'object',\n",
       "  'oct',\n",
       "  'open',\n",
       "  'ord',\n",
       "  'pow',\n",
       "  'print',\n",
       "  'property',\n",
       "  'range',\n",
       "  'repr',\n",
       "  'reversed',\n",
       "  'round',\n",
       "  'set',\n",
       "  'setattr',\n",
       "  'slice',\n",
       "  'sorted',\n",
       "  'staticmethod',\n",
       "  'str',\n",
       "  'sum',\n",
       "  'super',\n",
       "  'tuple',\n",
       "  'type',\n",
       "  'vars',\n",
       "  'zip'],\n",
       " '_i8': 'print(BIF)',\n",
       " '_i9': 'print(\"Hello world\")',\n",
       " '_i10': 'all([True,False,True])',\n",
       " '_10': False,\n",
       " '_i11': 'all([True,True,True])',\n",
       " '_11': True,\n",
       " '_i12': 'all([1,2,3,4])',\n",
       " '_12': True,\n",
       " '_i13': 'all([1,2,4,7,0,9])',\n",
       " '_13': False,\n",
       " '_i14': 'any([1,2,0,3])',\n",
       " '_14': True,\n",
       " '_i15': \"l1 = ['name','course','amt']\\nl2 = ['simran','python',10000]\",\n",
       " 'l1': ['one', 'two', 'three', 'four', 'five'],\n",
       " 'l2': [1, 2, 3, 4, 5, 6, 7, 8],\n",
       " '_i16': 'zip(l1,l2)',\n",
       " '_16': <zip at 0x18befdc0c48>,\n",
       " '_i17': 'list(zip(l1,l2))',\n",
       " '_17': [('name', 'simran'), ('course', 'python'), ('amt', 10000)],\n",
       " '_i18': \"l1 = ['one','two','three','four','fiv']\\nl2 = [1,2,3,4,5,6,7,8]\",\n",
       " '_i19': 'print(list(zip(l1,l2)))',\n",
       " '_i20': \"l1 = ['one','two','three','four','five]\\nl2 = [1,2,3,4,5,6,7,8]\",\n",
       " '_i21': 'print(list(zip(l1,l2)))',\n",
       " '_i22': \"l1 = ['one','two','three','four','five'\\nl2 = [1,2,3,4,5,6,7,8]\",\n",
       " '_i23': \"l1 = ['one','two','three','four','five']\\nl2 = [1,2,3,4,5,6,7,8]\",\n",
       " '_i24': 'print(list(zip(l1,l2)))',\n",
       " '_i25': \"d = {\\n    'name' : 'simran',\\n    'coursee' : 'linux',\\n    'amt' : 20000\\n}\\nl = ['ayush','aws',25000]\",\n",
       " 'd': {'name': 'simran', 'coursee': 'linux', 'amt': 20000},\n",
       " 'l': ['ayush', 'aws', 25000],\n",
       " '_i26': 'print(dict(zip(d,l)))',\n",
       " '_i27': 'sum([1,2,3,10,30])',\n",
       " '_27': 46,\n",
       " '_i28': 'sum([1,2,3,10,30])  #aggregate function',\n",
       " '_28': 46,\n",
       " '_i29': 'sorted([30,40,10,2,3,1])',\n",
       " '_29': [1, 2, 3, 10, 30, 40],\n",
       " '_i30': 'sorted([30,40,10,2,3,1])   #transformation',\n",
       " '_30': [1, 2, 3, 10, 30, 40],\n",
       " '_i31': 'def func_name():\\n    print(\"Hello world\") ',\n",
       " 'func_name': <function __main__.func_name()>,\n",
       " '_i32': 'fucn_name()',\n",
       " '_i33': 'func_name()',\n",
       " '_i34': 'd',\n",
       " '_34': {'name': 'simran', 'coursee': 'linux', 'amt': 20000},\n",
       " '_i35': 'vars()',\n",
       " '_35': {...},\n",
       " '_i36': 'vars()  #global space'}"
      ]
     },
     "execution_count": 36,
     "metadata": {},
     "output_type": "execute_result"
    }
   ],
   "source": [
    "vars()  #global space"
   ]
  },
  {
   "cell_type": "code",
   "execution_count": 38,
   "metadata": {},
   "outputs": [
    {
     "name": "stdout",
     "output_type": "stream",
     "text": [
      "Enter any value : 20\n",
      "400\n",
      "None\n"
     ]
    },
    {
     "ename": "NameError",
     "evalue": "name 's' is not defined",
     "output_type": "error",
     "traceback": [
      "\u001b[1;31m---------------------------------------------------------------------\u001b[0m",
      "\u001b[1;31mNameError\u001b[0m                           Traceback (most recent call last)",
      "\u001b[1;32m<ipython-input-38-39e55aa95fda>\u001b[0m in \u001b[0;36m<module>\u001b[1;34m\u001b[0m\n\u001b[0;32m      4\u001b[0m \u001b[1;33m\u001b[0m\u001b[0m\n\u001b[0;32m      5\u001b[0m \u001b[0mprint\u001b[0m\u001b[1;33m(\u001b[0m\u001b[0mf\u001b[0m\u001b[1;33m(\u001b[0m\u001b[1;33m)\u001b[0m\u001b[1;33m)\u001b[0m\u001b[1;33m\u001b[0m\u001b[1;33m\u001b[0m\u001b[0m\n\u001b[1;32m----> 6\u001b[1;33m \u001b[0mprint\u001b[0m\u001b[1;33m(\u001b[0m\u001b[0ms\u001b[0m\u001b[1;33m)\u001b[0m\u001b[1;33m\u001b[0m\u001b[1;33m\u001b[0m\u001b[0m\n\u001b[0m",
      "\u001b[1;31mNameError\u001b[0m: name 's' is not defined"
     ]
    }
   ],
   "source": [
    "def f():\n",
    "    s = int(input(\"Enter any value : \"))\n",
    "    print(s**2)\n",
    "    \n",
    "print(f())\n",
    "print(s)"
   ]
  },
  {
   "cell_type": "code",
   "execution_count": 39,
   "metadata": {},
   "outputs": [
    {
     "name": "stdout",
     "output_type": "stream",
     "text": [
      "hello\n",
      "None\n"
     ]
    }
   ],
   "source": [
    "print(print(\"hello\"))"
   ]
  },
  {
   "cell_type": "code",
   "execution_count": 40,
   "metadata": {},
   "outputs": [
    {
     "name": "stdout",
     "output_type": "stream",
     "text": [
      "The name is :  simran\n"
     ]
    }
   ],
   "source": [
    "def f(name):  #formal parameters\n",
    "    print('The name is : ',name)\n",
    "    \n",
    "f(\"simran\") #actual"
   ]
  },
  {
   "cell_type": "markdown",
   "metadata": {},
   "source": [
    "1. Without argument without return type\n",
    "2. With argument without return\n",
    "3. Without argument with return type\n",
    "4. With argument without return type"
   ]
  },
  {
   "cell_type": "code",
   "execution_count": 41,
   "metadata": {},
   "outputs": [],
   "source": [
    "#1\n",
    "def name():\n",
    "    n = input(\"Enter your name : \")\n",
    "    a = int(input(\"Enter your age : \"))\n",
    "    print(\"Name : \",n)\n",
    "    print(\"Age : \",a)"
   ]
  },
  {
   "cell_type": "code",
   "execution_count": 42,
   "metadata": {},
   "outputs": [
    {
     "name": "stdout",
     "output_type": "stream",
     "text": [
      "Enter your name : samyak\n",
      "Enter your age : 25\n",
      "Name :  samyak\n",
      "Age :  25\n"
     ]
    }
   ],
   "source": [
    "name()"
   ]
  },
  {
   "cell_type": "code",
   "execution_count": 43,
   "metadata": {},
   "outputs": [
    {
     "name": "stdout",
     "output_type": "stream",
     "text": [
      "Enter your name : samyak\n",
      "Enter your age : 25\n"
     ]
    }
   ],
   "source": [
    "#2\n",
    "name = input(\"Enter your name : \")\n",
    "age = input(\"Enter your age : \")\n",
    "def n(name,age):\n",
    "    print(\"Name : \",name)\n",
    "    print(\"Age : \",age)\n",
    "\n"
   ]
  },
  {
   "cell_type": "code",
   "execution_count": 44,
   "metadata": {},
   "outputs": [
    {
     "name": "stdout",
     "output_type": "stream",
     "text": [
      "Name :  samyak\n",
      "Age :  25\n"
     ]
    }
   ],
   "source": [
    "n(name,age)"
   ]
  },
  {
   "cell_type": "code",
   "execution_count": 45,
   "metadata": {},
   "outputs": [],
   "source": [
    "#3\n",
    "\n",
    "def sq():\n",
    "    n = int(input(\"Enter any number : \"))\n",
    "    return n**2"
   ]
  },
  {
   "cell_type": "code",
   "execution_count": 48,
   "metadata": {},
   "outputs": [
    {
     "name": "stdout",
     "output_type": "stream",
     "text": [
      "Enter any number : 20\n",
      "The square of a number is :  400\n"
     ]
    }
   ],
   "source": [
    "square = sq()\n",
    "print(\"The square of a number is : \",square)"
   ]
  },
  {
   "cell_type": "code",
   "execution_count": 49,
   "metadata": {},
   "outputs": [
    {
     "name": "stdout",
     "output_type": "stream",
     "text": [
      "Enter any number : 10\n",
      "100\n"
     ]
    }
   ],
   "source": [
    "print(sq())  #print(100)"
   ]
  },
  {
   "cell_type": "code",
   "execution_count": 50,
   "metadata": {},
   "outputs": [],
   "source": [
    "def add(a,b):\n",
    "    return a+b"
   ]
  },
  {
   "cell_type": "code",
   "execution_count": 52,
   "metadata": {},
   "outputs": [
    {
     "name": "stdout",
     "output_type": "stream",
     "text": [
      "The addition is :  7\n"
     ]
    }
   ],
   "source": [
    "a = add(3,4)  #storing the returned value\n",
    "print(\"The addition is : \",a)"
   ]
  },
  {
   "cell_type": "code",
   "execution_count": 53,
   "metadata": {},
   "outputs": [],
   "source": [
    "#mutable -- > call by reference\n",
    "#immutable -- > call by value"
   ]
  },
  {
   "cell_type": "code",
   "execution_count": 54,
   "metadata": {},
   "outputs": [],
   "source": [
    "def func(l,value):\n",
    "    l.append(value)\n",
    "    return l"
   ]
  },
  {
   "cell_type": "code",
   "execution_count": 56,
   "metadata": {},
   "outputs": [
    {
     "name": "stdout",
     "output_type": "stream",
     "text": [
      "The list before :  [20, 30, 40, 50]\n",
      "The list is :  [20, 30, 40, 50, 10]\n",
      "The list after :  [20, 30, 40, 50, 10, 12]\n"
     ]
    }
   ],
   "source": [
    "l = [20,30,40,50]\n",
    "print(\"The list before : \",l)\n",
    "func(l,10)\n",
    "print(\"The list is : \",l)\n",
    "func(l,12)\n",
    "print(\"The list after : \",l)"
   ]
  },
  {
   "cell_type": "code",
   "execution_count": 57,
   "metadata": {},
   "outputs": [
    {
     "name": "stdout",
     "output_type": "stream",
     "text": [
      "Enter your name : simran\n",
      "The name before is :  simran\n",
      "The reversed name is :  narmis\n",
      "The name is :  simran\n"
     ]
    }
   ],
   "source": [
    "name = input(\"Enter your name : \")\n",
    "def n(name):\n",
    "    print(\"The name before is : \",name)\n",
    "    name = name[::-1]\n",
    "    print(\"The reversed name is : \",name)\n",
    "\n",
    "n(name)\n",
    "print(\"The name is : \",name)"
   ]
  },
  {
   "cell_type": "code",
   "execution_count": 58,
   "metadata": {},
   "outputs": [],
   "source": [
    "l = [12,3,4,5,6]\n",
    "def sq(l):\n",
    "    s = 0\n",
    "    for i in l:\n",
    "        s += (i**2)\n",
    "    return s"
   ]
  },
  {
   "cell_type": "code",
   "execution_count": 59,
   "metadata": {},
   "outputs": [
    {
     "name": "stdout",
     "output_type": "stream",
     "text": [
      "Sum of squares of elements is :  230\n"
     ]
    }
   ],
   "source": [
    "s = sq(l)\n",
    "print(\"Sum of squares of elements is : \",s)"
   ]
  },
  {
   "cell_type": "code",
   "execution_count": 60,
   "metadata": {},
   "outputs": [],
   "source": [
    "name = \"simran\""
   ]
  },
  {
   "cell_type": "code",
   "execution_count": null,
   "metadata": {},
   "outputs": [],
   "source": []
  }
 ],
 "metadata": {
  "kernelspec": {
   "display_name": "Python 3",
   "language": "python",
   "name": "python3"
  },
  "language_info": {
   "codemirror_mode": {
    "name": "ipython",
    "version": 3
   },
   "file_extension": ".py",
   "mimetype": "text/x-python",
   "name": "python",
   "nbconvert_exporter": "python",
   "pygments_lexer": "ipython3",
   "version": "3.7.4"
  }
 },
 "nbformat": 4,
 "nbformat_minor": 2
}
