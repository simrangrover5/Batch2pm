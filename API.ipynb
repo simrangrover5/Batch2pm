{
 "cells": [
  {
   "cell_type": "code",
   "execution_count": 2,
   "metadata": {},
   "outputs": [],
   "source": [
    "import requests"
   ]
  },
  {
   "cell_type": "code",
   "execution_count": 3,
   "metadata": {},
   "outputs": [],
   "source": [
    "data = requests.get(\"https://www.google.com/\")"
   ]
  },
  {
   "cell_type": "code",
   "execution_count": 4,
   "metadata": {},
   "outputs": [
    {
     "data": {
      "text/plain": [
       "{'Date': 'Mon, 24 Feb 2020 09:46:47 GMT', 'Expires': '-1', 'Cache-Control': 'private, max-age=0', 'Content-Type': 'text/html; charset=ISO-8859-1', 'P3P': 'CP=\"This is not a P3P policy! See g.co/p3phelp for more info.\"', 'Content-Encoding': 'gzip', 'Server': 'gws', 'X-XSS-Protection': '0', 'X-Frame-Options': 'SAMEORIGIN', 'Set-Cookie': '1P_JAR=2020-02-24-09; expires=Wed, 25-Mar-2020 09:46:48 GMT; path=/; domain=.google.com; Secure, NID=198=hqqdiYWSNjBWXLwZeToOzI61EPQKvukBloRwGwHnjcU-m6YEZqOn1VcxCTrlx-dlIfsUAc_gCn_EMy_sV4ma7jtwDROjHNYpn3chvRn5f-NrgSB5pQZEEWX0VRykV4owu8dXJ5nDfEO3NUYfBPU76wgSv50Ev67GXN2pVBckx50; expires=Tue, 25-Aug-2020 09:46:47 GMT; path=/; domain=.google.com; HttpOnly', 'Alt-Svc': 'quic=\":443\"; ma=2592000; v=\"46,43\",h3-Q050=\":443\"; ma=2592000,h3-Q049=\":443\"; ma=2592000,h3-Q048=\":443\"; ma=2592000,h3-Q046=\":443\"; ma=2592000,h3-Q043=\":443\"; ma=2592000', 'Transfer-Encoding': 'chunked'}"
      ]
     },
     "execution_count": 4,
     "metadata": {},
     "output_type": "execute_result"
    }
   ],
   "source": [
    "data.headers"
   ]
  },
  {
   "cell_type": "code",
   "execution_count": 6,
   "metadata": {},
   "outputs": [
    {
     "data": {
      "text/plain": [
       "'<!doctype html><html itemscope=\"\" itemtype=\"http://schema.org/WebPage\" lang=\"en-IN\"><head><meta content=\"text/html; charset=UTF-8\" http-equiv=\"Content-Type\"><meta content=\"/images/branding/googleg/1x/googleg_standard_color_128dp.png\" itemprop=\"image\"><title>Google</title><script nonce=\"OIjildH0IPNbn/MIR/D6qA==\">(function(){window.google={kEI:\\'h5tTXpHqO8GW4-EPysW-sAk\\',kEXPI:\\'0,1353747,5662,731,223,3657,1448,206,2954,250,10,169,882,175,364,1119,170,146,4,60,690,52,75,383,876,729,85,217,210,1127254,1197726,165,133,125,41,329077,1294,12383,4855,32692,15247,867,6056,22628,364,8824,8384,4858,1362,4323,4967,3030,3888,857,2129,986,7911,1808,1960,16,2044,5762,1,3146,5297,2054,920,873,1217,2975,6014,1,415,1141,7512,2033,620,2883,21,318,689,1292,1191,1344,2778,520,399,2277,8,4389,1279,1973,239,202,328,149,1103,327,513,517,1474,49,156,663,3438,260,52,1132,4,3,2063,606,1839,184,1777,143,377,686,1261,244,503,429,44,999,103,328,1284,16,84,417,902,1524,1425,214,608,473,1339,29,719,1039,3227,773,2072,7,521,296,503,3454,2859,4682,1831,1831,832,169,472,2450,2458,1226,1458,4,280,3655,1274,108,591,655,1681,481,907,2,433,1040,2082,694,719,984,2894,328,1842,355,226,401,594,830,840,185,2,293,1425,879,201,29,156,814,58,125,278,110,40,254,7,1189,401,72,218,242,1788,1,706,149,2019,1056,426,192,311,1,741,37,217,119,1,810,60,28,130,1,22,48,86,594,123,127,63,188,447,395,208,391,596,362,435,487,901,237,8,6,102,210,46,1093,1187,132,588,84,5842967,3214,1802680,4194806,162,2801054,549,333,444,1,2,80,1,900,896,1,8,1,2,2551,1,748,141,59,736,563,1,4265,1,1,1,1,137,1,879,9,305,641,5,16,69,5,6,3,1,23963658,24\\',kBL:\\'6N9-\\'};google.sn=\\'webhp\\';google.kHL=\\'en-IN\\';})();(function(){google.lc=[];google.li=0;google.getEI=function(a){for(var b;a&&(!a.getAttribute||!(b=a.getAttribute(\"eid\")));)a=a.parentNode;return b||google.kEI};google.getLEI=function(a){for(var b=null;a&&(!a.getAttribute||!(b=a.getAttribute(\"leid\")));)a=a.parentNode;return b};google.ml=function(){return null};google.time=function(){return Date.now()};google.log=function(a,b,e,c,g){if(a=google.logUrl(a,b,e,c,g)){b=new Image;var d=google.lc,f=google.li;d[f]=b;b.onerror=b.onload=b.onabort=function(){delete d[f]};google.vel&&google.vel.lu&&google.vel.lu(a);b.src=a;google.li=f+1}};google.logUrl=function(a,b,e,c,g){var d=\"\",f=google.ls||\"\";e||-1!=b.search(\"&ei=\")||(d=\"&ei=\"+google.getEI(c),-1==b.search(\"&lei=\")&&(c=google.getLEI(c))&&(d+=\"&lei=\"+c));c=\"\";!e&&google.cshid&&-1==b.search(\"&cshid=\")&&\"slh\"!=a&&(c=\"&cshid=\"+google.cshid);a=e||\"/\"+(g||\"gen_204\")+\"?atyp=i&ct=\"+a+\"&cad=\"+b+d+f+\"&zx=\"+google.time()+c;/^http:/i.test(a)&&\"https:\"==window.location.protocol&&(google.ml(Error(\"a\"),!1,{src:a,glmm:1}),a=\"\");return a};}).call(this);(function(){google.y={};google.x=function(a,b){if(a)var c=a.id;else{do c=Math.random();while(google.y[c])}google.y[c]=[a,b];return!1};google.lm=[];google.plm=function(a){google.lm.push.apply(google.lm,a)};google.lq=[];google.load=function(a,b,c){google.lq.push([[a],b,c])};google.loadAll=function(a,b){google.lq.push([a,b])};}).call(this);google.f={};(function(){\\ndocument.documentElement.addEventListener(\"submit\",function(b){var a;if(a=b.target){var c=a.getAttribute(\"data-submitfalse\");a=\"1\"==c||\"q\"==c&&!a.elements.q.value?!0:!1}else a=!1;a&&(b.preventDefault(),b.stopPropagation())},!0);document.documentElement.addEventListener(\"click\",function(b){var a;a:{for(a=b.target;a&&a!=document.documentElement;a=a.parentElement)if(\"A\"==a.tagName){a=\"1\"==a.getAttribute(\"data-nohref\");break a}a=!1}a&&b.preventDefault()},!0);}).call(this);\\nvar a=window.location,b=a.href.indexOf(\"#\");if(0<=b){var c=a.href.substring(b+1);/(^|&)q=/.test(c)&&-1==c.indexOf(\"#\")&&a.replace(\"/search?\"+c.replace(/(^|&)fp=[^&]*/g,\"\")+\"&cad=h\")};</script><style>#gbar,#guser{font-size:13px;padding-top:1px !important;}#gbar{height:22px}#guser{padding-bottom:7px !important;text-align:right}.gbh,.gbd{border-top:1px solid #c9d7f1;font-size:1px}.gbh{height:0;position:absolute;top:24px;width:100%}@media all{.gb1{height:22px;margin-right:.5em;vertical-align:top}#gbar{float:left}}a.gb1,a.gb4{text-decoration:underline !important}a.gb1,a.gb4{color:#00c !important}.gbi .gb4{color:#dd8e27 !important}.gbf .gb4{color:#900 !important}\\n</style><style>body,td,a,p,.h{font-family:arial,sans-serif}body{margin:0;overflow-y:scroll}#gog{padding:3px 8px 0}td{line-height:.8em}.gac_m td{line-height:17px}form{margin-bottom:20px}.h{color:#36c}.q{color:#00c}.ts td{padding:0}.ts{border-collapse:collapse}em{font-weight:bold;font-style:normal}.lst{height:25px;width:496px}.gsfi,.lst{font:18px arial,sans-serif}.gsfs{font:17px arial,sans-serif}.ds{display:inline-box;display:inline-block;margin:3px 0 4px;margin-left:4px}input{font-family:inherit}body{background:#fff;color:#000}a{color:#11c;text-decoration:none}a:hover,a:active{text-decoration:underline}.fl a{color:#36c}a:visited{color:#551a8b}.sblc{padding-top:5px}.sblc a{display:block;margin:2px 0;margin-left:13px;font-size:11px}.lsbb{background:#eee;border:solid 1px;border-color:#ccc #999 #999 #ccc;height:30px}.lsbb{display:block}.ftl,#fll a{display:inline-block;margin:0 12px}.lsb{background:url(/images/nav_logo229.png) 0 -261px repeat-x;border:none;color:#000;cursor:pointer;height:30px;margin:0;outline:0;font:15px arial,sans-serif;vertical-align:top}.lsb:active{background:#ccc}.lst:focus{outline:none}</style><script nonce=\"OIjildH0IPNbn/MIR/D6qA==\"></script></head><body bgcolor=\"#fff\"><script nonce=\"OIjildH0IPNbn/MIR/D6qA==\">(function(){var src=\\'/images/nav_logo229.png\\';var iesg=false;document.body.onload = function(){window.n && window.n();if (document.images){new Image().src=src;}\\nif (!iesg){document.f&&document.f.q.focus();document.gbqf&&document.gbqf.q.focus();}\\n}\\n})();</script><div id=\"mngb\"> <div id=gbar><nobr><b class=gb1>Search</b> <a class=gb1 href=\"https://www.google.co.in/imghp?hl=en&tab=wi\">Images</a> <a class=gb1 href=\"https://maps.google.co.in/maps?hl=en&tab=wl\">Maps</a> <a class=gb1 href=\"https://play.google.com/?hl=en&tab=w8\">Play</a> <a class=gb1 href=\"https://www.youtube.com/?gl=IN&tab=w1\">YouTube</a> <a class=gb1 href=\"https://news.google.co.in/nwshp?hl=en&tab=wn\">News</a> <a class=gb1 href=\"https://mail.google.com/mail/?tab=wm\">Gmail</a> <a class=gb1 href=\"https://drive.google.com/?tab=wo\">Drive</a> <a class=gb1 style=\"text-decoration:none\" href=\"https://www.google.co.in/intl/en/about/products?tab=wh\"><u>More</u> &raquo;</a></nobr></div><div id=guser width=100%><nobr><span id=gbn class=gbi></span><span id=gbf class=gbf></span><span id=gbe></span><a href=\"http://www.google.co.in/history/optout?hl=en\" class=gb4>Web History</a> | <a  href=\"/preferences?hl=en\" class=gb4>Settings</a> | <a target=_top id=gb_70 href=\"https://accounts.google.com/ServiceLogin?hl=en&passive=true&continue=https://www.google.com/\" class=gb4>Sign in</a></nobr></div><div class=gbh style=left:0></div><div class=gbh style=right:0></div> </div><center><br clear=\"all\" id=\"lgpd\"><div id=\"lga\"><img alt=\"Google\" height=\"92\" src=\"/images/branding/googlelogo/1x/googlelogo_white_background_color_272x92dp.png\" style=\"padding:28px 0 14px\" width=\"272\" id=\"hplogo\"><br><br></div><form action=\"/search\" name=\"f\"><table cellpadding=\"0\" cellspacing=\"0\"><tr valign=\"top\"><td width=\"25%\">&nbsp;</td><td align=\"center\" nowrap=\"\"><input name=\"ie\" value=\"ISO-8859-1\" type=\"hidden\"><input value=\"en-IN\" name=\"hl\" type=\"hidden\"><input name=\"source\" type=\"hidden\" value=\"hp\"><input name=\"biw\" type=\"hidden\"><input name=\"bih\" type=\"hidden\"><div class=\"ds\" style=\"height:32px;margin:4px 0\"><input class=\"lst\" style=\"color:#000;margin:0;padding:5px 8px 0 6px;vertical-align:top\" autocomplete=\"off\" value=\"\" title=\"Google Search\" maxlength=\"2048\" name=\"q\" size=\"57\"></div><br style=\"line-height:0\"><span class=\"ds\"><span class=\"lsbb\"><input class=\"lsb\" value=\"Google Search\" name=\"btnG\" type=\"submit\"></span></span><span class=\"ds\"><span class=\"lsbb\"><input class=\"lsb\" id=\"tsuid1\" value=\"I\\'m Feeling Lucky\" name=\"btnI\" type=\"submit\"><script nonce=\"OIjildH0IPNbn/MIR/D6qA==\">(function(){var id=\\'tsuid1\\';document.getElementById(id).onclick = function(){if (this.form.q.value){this.checked = 1;if (this.form.iflsig)this.form.iflsig.disabled = false;}\\nelse top.location=\\'/doodles/\\';};})();</script><input value=\"AINFCbYAAAAAXlOpl4-gcgk_UGVU1N2UNR4McK70rvnk\" name=\"iflsig\" type=\"hidden\"></span></span></td><td class=\"fl sblc\" align=\"left\" nowrap=\"\" width=\"25%\"><a href=\"/advanced_search?hl=en-IN&amp;authuser=0\">Advanced search</a></td></tr></table><input id=\"gbv\" name=\"gbv\" type=\"hidden\" value=\"1\"><script nonce=\"OIjildH0IPNbn/MIR/D6qA==\">(function(){var a,b=\"1\";if(document&&document.getElementById)if(\"undefined\"!=typeof XMLHttpRequest)b=\"2\";else if(\"undefined\"!=typeof ActiveXObject){var c,d,e=[\"MSXML2.XMLHTTP.6.0\",\"MSXML2.XMLHTTP.3.0\",\"MSXML2.XMLHTTP\",\"Microsoft.XMLHTTP\"];for(c=0;d=e[c++];)try{new ActiveXObject(d),b=\"2\"}catch(h){}}a=b;if(\"2\"==a&&-1==location.search.indexOf(\"&gbv=2\")){var f=google.gbvu,g=document.getElementById(\"gbv\");g&&(g.value=a);f&&window.setTimeout(function(){location.href=f},0)};}).call(this);</script></form><div id=\"gac_scont\"></div><div style=\"font-size:83%;min-height:3.5em\"><br><div id=\"gws-output-pages-elements-homepage_additional_languages__als\"><style>#gws-output-pages-elements-homepage_additional_languages__als{font-size:small;margin-bottom:24px}#SIvCob{display:inline-block;line-height:28px;}#SIvCob a{padding:0 3px;}.H6sW5{display:inline-block;margin:0 2px;white-space:nowrap}.z4hgWe{display:inline-block;margin:0 2px}</style><div id=\"SIvCob\">Google offered in:  <a href=\"https://www.google.com/setprefs?sig=0_J1fwLeb4H3mi9SmQpjbpN6DI2uo%3D&amp;hl=hi&amp;source=homepage&amp;sa=X&amp;ved=0ahUKEwjRyd7_8-nnAhVByzgGHcqiD5YQ2ZgBCAU\">&#2361;&#2367;&#2344;&#2381;&#2342;&#2368;</a>    <a href=\"https://www.google.com/setprefs?sig=0_J1fwLeb4H3mi9SmQpjbpN6DI2uo%3D&amp;hl=bn&amp;source=homepage&amp;sa=X&amp;ved=0ahUKEwjRyd7_8-nnAhVByzgGHcqiD5YQ2ZgBCAY\">&#2476;&#2494;&#2434;&#2482;&#2494;</a>    <a href=\"https://www.google.com/setprefs?sig=0_J1fwLeb4H3mi9SmQpjbpN6DI2uo%3D&amp;hl=te&amp;source=homepage&amp;sa=X&amp;ved=0ahUKEwjRyd7_8-nnAhVByzgGHcqiD5YQ2ZgBCAc\">&#3108;&#3142;&#3122;&#3137;&#3095;&#3137;</a>    <a href=\"https://www.google.com/setprefs?sig=0_J1fwLeb4H3mi9SmQpjbpN6DI2uo%3D&amp;hl=mr&amp;source=homepage&amp;sa=X&amp;ved=0ahUKEwjRyd7_8-nnAhVByzgGHcqiD5YQ2ZgBCAg\">&#2350;&#2352;&#2366;&#2336;&#2368;</a>    <a href=\"https://www.google.com/setprefs?sig=0_J1fwLeb4H3mi9SmQpjbpN6DI2uo%3D&amp;hl=ta&amp;source=homepage&amp;sa=X&amp;ved=0ahUKEwjRyd7_8-nnAhVByzgGHcqiD5YQ2ZgBCAk\">&#2980;&#2990;&#3007;&#2996;&#3021;</a>    <a href=\"https://www.google.com/setprefs?sig=0_J1fwLeb4H3mi9SmQpjbpN6DI2uo%3D&amp;hl=gu&amp;source=homepage&amp;sa=X&amp;ved=0ahUKEwjRyd7_8-nnAhVByzgGHcqiD5YQ2ZgBCAo\">&#2711;&#2753;&#2716;&#2736;&#2750;&#2724;&#2752;</a>    <a href=\"https://www.google.com/setprefs?sig=0_J1fwLeb4H3mi9SmQpjbpN6DI2uo%3D&amp;hl=kn&amp;source=homepage&amp;sa=X&amp;ved=0ahUKEwjRyd7_8-nnAhVByzgGHcqiD5YQ2ZgBCAs\">&#3221;&#3240;&#3277;&#3240;&#3233;</a>    <a href=\"https://www.google.com/setprefs?sig=0_J1fwLeb4H3mi9SmQpjbpN6DI2uo%3D&amp;hl=ml&amp;source=homepage&amp;sa=X&amp;ved=0ahUKEwjRyd7_8-nnAhVByzgGHcqiD5YQ2ZgBCAw\">&#3374;&#3378;&#3375;&#3390;&#3379;&#3330;</a>    <a href=\"https://www.google.com/setprefs?sig=0_J1fwLeb4H3mi9SmQpjbpN6DI2uo%3D&amp;hl=pa&amp;source=homepage&amp;sa=X&amp;ved=0ahUKEwjRyd7_8-nnAhVByzgGHcqiD5YQ2ZgBCA0\">&#2602;&#2672;&#2588;&#2622;&#2604;&#2624;</a>  </div></div></div><span id=\"footer\"><div style=\"font-size:10pt\"><div style=\"margin:19px auto;text-align:center\" id=\"fll\"><a href=\"/intl/en/ads/\">Advertising\\xa0Programs</a><a href=\"http://www.google.co.in/services/\">Business Solutions</a><a href=\"/intl/en/about.html\">About Google</a><a href=\"https://www.google.com/setprefdomain?prefdom=IN&amp;prev=https://www.google.co.in/&amp;sig=K_KS2lvDHNCAGoiI7oSXy_2bqKphg%3D\">Google.co.in</a></div></div><p style=\"color:#767676;font-size:8pt\">&copy; 2020 - <a href=\"/intl/en/policies/privacy/\">Privacy</a> - <a href=\"/intl/en/policies/terms/\">Terms</a></p></span></center><script nonce=\"OIjildH0IPNbn/MIR/D6qA==\">(function(){window.google.cdo={height:0,width:0};(function(){var a=window.innerWidth,b=window.innerHeight;if(!a||!b){var c=window.document,d=\"CSS1Compat\"==c.compatMode?c.documentElement:c.body;a=d.clientWidth;b=d.clientHeight}a&&b&&(a!=google.cdo.width||b!=google.cdo.height)&&google.log(\"\",\"\",\"/client_204?&atyp=i&biw=\"+a+\"&bih=\"+b+\"&ei=\"+google.kEI);}).call(this);})();(function(){var u=\\'/xjs/_/js/k\\\\x3dxjs.hp.en.kx6-rViwGJA.O/m\\\\x3dsb_he,d/am\\\\x3dgAEBNgI/d\\\\x3d1/rs\\\\x3dACT90oFmtgqkxoMz8Z0OAg-LdDn-FNF-gA\\';\\nsetTimeout(function(){var b=document;var a=\"SCRIPT\";\"application/xhtml+xml\"===b.contentType&&(a=a.toLowerCase());a=b.createElement(a);a.src=u;google.timers&&google.timers.load&&google.tick&&google.tick(\"load\",\"xjsls\");document.body.appendChild(a)},0);})();(function(){window.google.xjsu=\\'/xjs/_/js/k\\\\x3dxjs.hp.en.kx6-rViwGJA.O/m\\\\x3dsb_he,d/am\\\\x3dgAEBNgI/d\\\\x3d1/rs\\\\x3dACT90oFmtgqkxoMz8Z0OAg-LdDn-FNF-gA\\';})();function _DumpException(e){throw e;}\\nfunction _F_installCss(c){}\\n(function(){google.spjs=false;google.snet=true;google.em=[];google.emw=false;google.pdt=0;})();(function(){var pmc=\\'{\\\\x22d\\\\x22:{},\\\\x22sb_he\\\\x22:{\\\\x22agen\\\\x22:true,\\\\x22cgen\\\\x22:true,\\\\x22client\\\\x22:\\\\x22heirloom-hp\\\\x22,\\\\x22dh\\\\x22:true,\\\\x22dhqt\\\\x22:true,\\\\x22ds\\\\x22:\\\\x22\\\\x22,\\\\x22ffql\\\\x22:\\\\x22en\\\\x22,\\\\x22fl\\\\x22:true,\\\\x22host\\\\x22:\\\\x22google.com\\\\x22,\\\\x22isbh\\\\x22:28,\\\\x22jsonp\\\\x22:true,\\\\x22msgs\\\\x22:{\\\\x22cibl\\\\x22:\\\\x22Clear Search\\\\x22,\\\\x22dym\\\\x22:\\\\x22Did you mean:\\\\x22,\\\\x22lcky\\\\x22:\\\\x22I\\\\\\\\u0026#39;m Feeling Lucky\\\\x22,\\\\x22lml\\\\x22:\\\\x22Learn more\\\\x22,\\\\x22oskt\\\\x22:\\\\x22Input tools\\\\x22,\\\\x22psrc\\\\x22:\\\\x22This search was removed from your \\\\\\\\u003Ca href\\\\x3d\\\\\\\\\\\\x22/history\\\\\\\\\\\\x22\\\\\\\\u003EWeb History\\\\\\\\u003C/a\\\\\\\\u003E\\\\x22,\\\\x22psrl\\\\x22:\\\\x22Remove\\\\x22,\\\\x22sbit\\\\x22:\\\\x22Search by image\\\\x22,\\\\x22srch\\\\x22:\\\\x22Google Search\\\\x22},\\\\x22ovr\\\\x22:{},\\\\x22pq\\\\x22:\\\\x22\\\\x22,\\\\x22refpd\\\\x22:true,\\\\x22rfs\\\\x22:[],\\\\x22sbpl\\\\x22:16,\\\\x22sbpr\\\\x22:16,\\\\x22scd\\\\x22:10,\\\\x22stok\\\\x22:\\\\x22UeCi3x7D-daFtUwTubRiZwP6xoY\\\\x22,\\\\x22uhde\\\\x22:false}}\\';google.pmc=JSON.parse(pmc);})();</script>        </body></html>'"
      ]
     },
     "execution_count": 6,
     "metadata": {},
     "output_type": "execute_result"
    }
   ],
   "source": [
    "data.text"
   ]
  },
  {
   "cell_type": "code",
   "execution_count": 7,
   "metadata": {},
   "outputs": [],
   "source": [
    "from bs4 import BeautifulSoup"
   ]
  },
  {
   "cell_type": "code",
   "execution_count": 8,
   "metadata": {},
   "outputs": [],
   "source": [
    "data = BeautifulSoup(data.text,\"lxml\")"
   ]
  },
  {
   "cell_type": "code",
   "execution_count": 11,
   "metadata": {},
   "outputs": [
    {
     "data": {
      "text/plain": [
       "<head><meta content=\"text/html; charset=utf-8\" http-equiv=\"Content-Type\"/><meta content=\"/images/branding/googleg/1x/googleg_standard_color_128dp.png\" itemprop=\"image\"/><title>Google</title><script nonce=\"OIjildH0IPNbn/MIR/D6qA==\">(function(){window.google={kEI:'h5tTXpHqO8GW4-EPysW-sAk',kEXPI:'0,1353747,5662,731,223,3657,1448,206,2954,250,10,169,882,175,364,1119,170,146,4,60,690,52,75,383,876,729,85,217,210,1127254,1197726,165,133,125,41,329077,1294,12383,4855,32692,15247,867,6056,22628,364,8824,8384,4858,1362,4323,4967,3030,3888,857,2129,986,7911,1808,1960,16,2044,5762,1,3146,5297,2054,920,873,1217,2975,6014,1,415,1141,7512,2033,620,2883,21,318,689,1292,1191,1344,2778,520,399,2277,8,4389,1279,1973,239,202,328,149,1103,327,513,517,1474,49,156,663,3438,260,52,1132,4,3,2063,606,1839,184,1777,143,377,686,1261,244,503,429,44,999,103,328,1284,16,84,417,902,1524,1425,214,608,473,1339,29,719,1039,3227,773,2072,7,521,296,503,3454,2859,4682,1831,1831,832,169,472,2450,2458,1226,1458,4,280,3655,1274,108,591,655,1681,481,907,2,433,1040,2082,694,719,984,2894,328,1842,355,226,401,594,830,840,185,2,293,1425,879,201,29,156,814,58,125,278,110,40,254,7,1189,401,72,218,242,1788,1,706,149,2019,1056,426,192,311,1,741,37,217,119,1,810,60,28,130,1,22,48,86,594,123,127,63,188,447,395,208,391,596,362,435,487,901,237,8,6,102,210,46,1093,1187,132,588,84,5842967,3214,1802680,4194806,162,2801054,549,333,444,1,2,80,1,900,896,1,8,1,2,2551,1,748,141,59,736,563,1,4265,1,1,1,1,137,1,879,9,305,641,5,16,69,5,6,3,1,23963658,24',kBL:'6N9-'};google.sn='webhp';google.kHL='en-IN';})();(function(){google.lc=[];google.li=0;google.getEI=function(a){for(var b;a&&(!a.getAttribute||!(b=a.getAttribute(\"eid\")));)a=a.parentNode;return b||google.kEI};google.getLEI=function(a){for(var b=null;a&&(!a.getAttribute||!(b=a.getAttribute(\"leid\")));)a=a.parentNode;return b};google.ml=function(){return null};google.time=function(){return Date.now()};google.log=function(a,b,e,c,g){if(a=google.logUrl(a,b,e,c,g)){b=new Image;var d=google.lc,f=google.li;d[f]=b;b.onerror=b.onload=b.onabort=function(){delete d[f]};google.vel&&google.vel.lu&&google.vel.lu(a);b.src=a;google.li=f+1}};google.logUrl=function(a,b,e,c,g){var d=\"\",f=google.ls||\"\";e||-1!=b.search(\"&ei=\")||(d=\"&ei=\"+google.getEI(c),-1==b.search(\"&lei=\")&&(c=google.getLEI(c))&&(d+=\"&lei=\"+c));c=\"\";!e&&google.cshid&&-1==b.search(\"&cshid=\")&&\"slh\"!=a&&(c=\"&cshid=\"+google.cshid);a=e||\"/\"+(g||\"gen_204\")+\"?atyp=i&ct=\"+a+\"&cad=\"+b+d+f+\"&zx=\"+google.time()+c;/^http:/i.test(a)&&\"https:\"==window.location.protocol&&(google.ml(Error(\"a\"),!1,{src:a,glmm:1}),a=\"\");return a};}).call(this);(function(){google.y={};google.x=function(a,b){if(a)var c=a.id;else{do c=Math.random();while(google.y[c])}google.y[c]=[a,b];return!1};google.lm=[];google.plm=function(a){google.lm.push.apply(google.lm,a)};google.lq=[];google.load=function(a,b,c){google.lq.push([[a],b,c])};google.loadAll=function(a,b){google.lq.push([a,b])};}).call(this);google.f={};(function(){\n",
       "document.documentElement.addEventListener(\"submit\",function(b){var a;if(a=b.target){var c=a.getAttribute(\"data-submitfalse\");a=\"1\"==c||\"q\"==c&&!a.elements.q.value?!0:!1}else a=!1;a&&(b.preventDefault(),b.stopPropagation())},!0);document.documentElement.addEventListener(\"click\",function(b){var a;a:{for(a=b.target;a&&a!=document.documentElement;a=a.parentElement)if(\"A\"==a.tagName){a=\"1\"==a.getAttribute(\"data-nohref\");break a}a=!1}a&&b.preventDefault()},!0);}).call(this);\n",
       "var a=window.location,b=a.href.indexOf(\"#\");if(0<=b){var c=a.href.substring(b+1);/(^|&)q=/.test(c)&&-1==c.indexOf(\"#\")&&a.replace(\"/search?\"+c.replace(/(^|&)fp=[^&]*/g,\"\")+\"&cad=h\")};</script><style>#gbar,#guser{font-size:13px;padding-top:1px !important;}#gbar{height:22px}#guser{padding-bottom:7px !important;text-align:right}.gbh,.gbd{border-top:1px solid #c9d7f1;font-size:1px}.gbh{height:0;position:absolute;top:24px;width:100%}@media all{.gb1{height:22px;margin-right:.5em;vertical-align:top}#gbar{float:left}}a.gb1,a.gb4{text-decoration:underline !important}a.gb1,a.gb4{color:#00c !important}.gbi .gb4{color:#dd8e27 !important}.gbf .gb4{color:#900 !important}\n",
       "</style><style>body,td,a,p,.h{font-family:arial,sans-serif}body{margin:0;overflow-y:scroll}#gog{padding:3px 8px 0}td{line-height:.8em}.gac_m td{line-height:17px}form{margin-bottom:20px}.h{color:#36c}.q{color:#00c}.ts td{padding:0}.ts{border-collapse:collapse}em{font-weight:bold;font-style:normal}.lst{height:25px;width:496px}.gsfi,.lst{font:18px arial,sans-serif}.gsfs{font:17px arial,sans-serif}.ds{display:inline-box;display:inline-block;margin:3px 0 4px;margin-left:4px}input{font-family:inherit}body{background:#fff;color:#000}a{color:#11c;text-decoration:none}a:hover,a:active{text-decoration:underline}.fl a{color:#36c}a:visited{color:#551a8b}.sblc{padding-top:5px}.sblc a{display:block;margin:2px 0;margin-left:13px;font-size:11px}.lsbb{background:#eee;border:solid 1px;border-color:#ccc #999 #999 #ccc;height:30px}.lsbb{display:block}.ftl,#fll a{display:inline-block;margin:0 12px}.lsb{background:url(/images/nav_logo229.png) 0 -261px repeat-x;border:none;color:#000;cursor:pointer;height:30px;margin:0;outline:0;font:15px arial,sans-serif;vertical-align:top}.lsb:active{background:#ccc}.lst:focus{outline:none}</style><script nonce=\"OIjildH0IPNbn/MIR/D6qA==\"></script></head>"
      ]
     },
     "execution_count": 11,
     "metadata": {},
     "output_type": "execute_result"
    }
   ],
   "source": [
    "data.head"
   ]
  },
  {
   "cell_type": "code",
   "execution_count": 12,
   "metadata": {},
   "outputs": [
    {
     "data": {
      "text/plain": [
       "<body bgcolor=\"#fff\"><script nonce=\"OIjildH0IPNbn/MIR/D6qA==\">(function(){var src='/images/nav_logo229.png';var iesg=false;document.body.onload = function(){window.n && window.n();if (document.images){new Image().src=src;}\n",
       "if (!iesg){document.f&&document.f.q.focus();document.gbqf&&document.gbqf.q.focus();}\n",
       "}\n",
       "})();</script><div id=\"mngb\"> <div id=\"gbar\"><nobr><b class=\"gb1\">Search</b> <a class=\"gb1\" href=\"https://www.google.co.in/imghp?hl=en&amp;tab=wi\">Images</a> <a class=\"gb1\" href=\"https://maps.google.co.in/maps?hl=en&amp;tab=wl\">Maps</a> <a class=\"gb1\" href=\"https://play.google.com/?hl=en&amp;tab=w8\">Play</a> <a class=\"gb1\" href=\"https://www.youtube.com/?gl=IN&amp;tab=w1\">YouTube</a> <a class=\"gb1\" href=\"https://news.google.co.in/nwshp?hl=en&amp;tab=wn\">News</a> <a class=\"gb1\" href=\"https://mail.google.com/mail/?tab=wm\">Gmail</a> <a class=\"gb1\" href=\"https://drive.google.com/?tab=wo\">Drive</a> <a class=\"gb1\" href=\"https://www.google.co.in/intl/en/about/products?tab=wh\" style=\"text-decoration:none\"><u>More</u> »</a></nobr></div><div id=\"guser\" width=\"100%\"><nobr><span class=\"gbi\" id=\"gbn\"></span><span class=\"gbf\" id=\"gbf\"></span><span id=\"gbe\"></span><a class=\"gb4\" href=\"http://www.google.co.in/history/optout?hl=en\">Web History</a> | <a class=\"gb4\" href=\"/preferences?hl=en\">Settings</a> | <a class=\"gb4\" href=\"https://accounts.google.com/ServiceLogin?hl=en&amp;passive=true&amp;continue=https://www.google.com/\" id=\"gb_70\" target=\"_top\">Sign in</a></nobr></div><div class=\"gbh\" style=\"left:0\"></div><div class=\"gbh\" style=\"right:0\"></div> </div><center><br clear=\"all\" id=\"lgpd\"/><div id=\"lga\"><img alt=\"Google\" height=\"92\" id=\"hplogo\" src=\"/images/branding/googlelogo/1x/googlelogo_white_background_color_272x92dp.png\" style=\"padding:28px 0 14px\" width=\"272\"/><br/><br/></div><form action=\"/search\" name=\"f\"><table cellpadding=\"0\" cellspacing=\"0\"><tr valign=\"top\"><td width=\"25%\"> </td><td align=\"center\" nowrap=\"\"><input name=\"ie\" type=\"hidden\" value=\"ISO-8859-1\"/><input name=\"hl\" type=\"hidden\" value=\"en-IN\"/><input name=\"source\" type=\"hidden\" value=\"hp\"/><input name=\"biw\" type=\"hidden\"/><input name=\"bih\" type=\"hidden\"/><div class=\"ds\" style=\"height:32px;margin:4px 0\"><input autocomplete=\"off\" class=\"lst\" maxlength=\"2048\" name=\"q\" size=\"57\" style=\"color:#000;margin:0;padding:5px 8px 0 6px;vertical-align:top\" title=\"Google Search\" value=\"\"/></div><br style=\"line-height:0\"/><span class=\"ds\"><span class=\"lsbb\"><input class=\"lsb\" name=\"btnG\" type=\"submit\" value=\"Google Search\"/></span></span><span class=\"ds\"><span class=\"lsbb\"><input class=\"lsb\" id=\"tsuid1\" name=\"btnI\" type=\"submit\" value=\"I'm Feeling Lucky\"/><script nonce=\"OIjildH0IPNbn/MIR/D6qA==\">(function(){var id='tsuid1';document.getElementById(id).onclick = function(){if (this.form.q.value){this.checked = 1;if (this.form.iflsig)this.form.iflsig.disabled = false;}\n",
       "else top.location='/doodles/';};})();</script><input name=\"iflsig\" type=\"hidden\" value=\"AINFCbYAAAAAXlOpl4-gcgk_UGVU1N2UNR4McK70rvnk\"/></span></span></td><td align=\"left\" class=\"fl sblc\" nowrap=\"\" width=\"25%\"><a href=\"/advanced_search?hl=en-IN&amp;authuser=0\">Advanced search</a></td></tr></table><input id=\"gbv\" name=\"gbv\" type=\"hidden\" value=\"1\"/><script nonce=\"OIjildH0IPNbn/MIR/D6qA==\">(function(){var a,b=\"1\";if(document&&document.getElementById)if(\"undefined\"!=typeof XMLHttpRequest)b=\"2\";else if(\"undefined\"!=typeof ActiveXObject){var c,d,e=[\"MSXML2.XMLHTTP.6.0\",\"MSXML2.XMLHTTP.3.0\",\"MSXML2.XMLHTTP\",\"Microsoft.XMLHTTP\"];for(c=0;d=e[c++];)try{new ActiveXObject(d),b=\"2\"}catch(h){}}a=b;if(\"2\"==a&&-1==location.search.indexOf(\"&gbv=2\")){var f=google.gbvu,g=document.getElementById(\"gbv\");g&&(g.value=a);f&&window.setTimeout(function(){location.href=f},0)};}).call(this);</script></form><div id=\"gac_scont\"></div><div style=\"font-size:83%;min-height:3.5em\"><br/><div id=\"gws-output-pages-elements-homepage_additional_languages__als\"><style>#gws-output-pages-elements-homepage_additional_languages__als{font-size:small;margin-bottom:24px}#SIvCob{display:inline-block;line-height:28px;}#SIvCob a{padding:0 3px;}.H6sW5{display:inline-block;margin:0 2px;white-space:nowrap}.z4hgWe{display:inline-block;margin:0 2px}</style><div id=\"SIvCob\">Google offered in:  <a href=\"https://www.google.com/setprefs?sig=0_J1fwLeb4H3mi9SmQpjbpN6DI2uo%3D&amp;hl=hi&amp;source=homepage&amp;sa=X&amp;ved=0ahUKEwjRyd7_8-nnAhVByzgGHcqiD5YQ2ZgBCAU\">हिन्दी</a> <a href=\"https://www.google.com/setprefs?sig=0_J1fwLeb4H3mi9SmQpjbpN6DI2uo%3D&amp;hl=bn&amp;source=homepage&amp;sa=X&amp;ved=0ahUKEwjRyd7_8-nnAhVByzgGHcqiD5YQ2ZgBCAY\">বাংলা</a> <a href=\"https://www.google.com/setprefs?sig=0_J1fwLeb4H3mi9SmQpjbpN6DI2uo%3D&amp;hl=te&amp;source=homepage&amp;sa=X&amp;ved=0ahUKEwjRyd7_8-nnAhVByzgGHcqiD5YQ2ZgBCAc\">తెలుగు</a> <a href=\"https://www.google.com/setprefs?sig=0_J1fwLeb4H3mi9SmQpjbpN6DI2uo%3D&amp;hl=mr&amp;source=homepage&amp;sa=X&amp;ved=0ahUKEwjRyd7_8-nnAhVByzgGHcqiD5YQ2ZgBCAg\">मराठी</a> <a href=\"https://www.google.com/setprefs?sig=0_J1fwLeb4H3mi9SmQpjbpN6DI2uo%3D&amp;hl=ta&amp;source=homepage&amp;sa=X&amp;ved=0ahUKEwjRyd7_8-nnAhVByzgGHcqiD5YQ2ZgBCAk\">தமிழ்</a> <a href=\"https://www.google.com/setprefs?sig=0_J1fwLeb4H3mi9SmQpjbpN6DI2uo%3D&amp;hl=gu&amp;source=homepage&amp;sa=X&amp;ved=0ahUKEwjRyd7_8-nnAhVByzgGHcqiD5YQ2ZgBCAo\">ગુજરાતી</a> <a href=\"https://www.google.com/setprefs?sig=0_J1fwLeb4H3mi9SmQpjbpN6DI2uo%3D&amp;hl=kn&amp;source=homepage&amp;sa=X&amp;ved=0ahUKEwjRyd7_8-nnAhVByzgGHcqiD5YQ2ZgBCAs\">ಕನ್ನಡ</a> <a href=\"https://www.google.com/setprefs?sig=0_J1fwLeb4H3mi9SmQpjbpN6DI2uo%3D&amp;hl=ml&amp;source=homepage&amp;sa=X&amp;ved=0ahUKEwjRyd7_8-nnAhVByzgGHcqiD5YQ2ZgBCAw\">മലയാളം</a> <a href=\"https://www.google.com/setprefs?sig=0_J1fwLeb4H3mi9SmQpjbpN6DI2uo%3D&amp;hl=pa&amp;source=homepage&amp;sa=X&amp;ved=0ahUKEwjRyd7_8-nnAhVByzgGHcqiD5YQ2ZgBCA0\">ਪੰਜਾਬੀ</a> </div></div></div><span id=\"footer\"><div style=\"font-size:10pt\"><div id=\"fll\" style=\"margin:19px auto;text-align:center\"><a href=\"/intl/en/ads/\">Advertising Programs</a><a href=\"http://www.google.co.in/services/\">Business Solutions</a><a href=\"/intl/en/about.html\">About Google</a><a href=\"https://www.google.com/setprefdomain?prefdom=IN&amp;prev=https://www.google.co.in/&amp;sig=K_KS2lvDHNCAGoiI7oSXy_2bqKphg%3D\">Google.co.in</a></div></div><p style=\"color:#767676;font-size:8pt\">© 2020 - <a href=\"/intl/en/policies/privacy/\">Privacy</a> - <a href=\"/intl/en/policies/terms/\">Terms</a></p></span></center><script nonce=\"OIjildH0IPNbn/MIR/D6qA==\">(function(){window.google.cdo={height:0,width:0};(function(){var a=window.innerWidth,b=window.innerHeight;if(!a||!b){var c=window.document,d=\"CSS1Compat\"==c.compatMode?c.documentElement:c.body;a=d.clientWidth;b=d.clientHeight}a&&b&&(a!=google.cdo.width||b!=google.cdo.height)&&google.log(\"\",\"\",\"/client_204?&atyp=i&biw=\"+a+\"&bih=\"+b+\"&ei=\"+google.kEI);}).call(this);})();(function(){var u='/xjs/_/js/k\\x3dxjs.hp.en.kx6-rViwGJA.O/m\\x3dsb_he,d/am\\x3dgAEBNgI/d\\x3d1/rs\\x3dACT90oFmtgqkxoMz8Z0OAg-LdDn-FNF-gA';\n",
       "setTimeout(function(){var b=document;var a=\"SCRIPT\";\"application/xhtml+xml\"===b.contentType&&(a=a.toLowerCase());a=b.createElement(a);a.src=u;google.timers&&google.timers.load&&google.tick&&google.tick(\"load\",\"xjsls\");document.body.appendChild(a)},0);})();(function(){window.google.xjsu='/xjs/_/js/k\\x3dxjs.hp.en.kx6-rViwGJA.O/m\\x3dsb_he,d/am\\x3dgAEBNgI/d\\x3d1/rs\\x3dACT90oFmtgqkxoMz8Z0OAg-LdDn-FNF-gA';})();function _DumpException(e){throw e;}\n",
       "function _F_installCss(c){}\n",
       "(function(){google.spjs=false;google.snet=true;google.em=[];google.emw=false;google.pdt=0;})();(function(){var pmc='{\\x22d\\x22:{},\\x22sb_he\\x22:{\\x22agen\\x22:true,\\x22cgen\\x22:true,\\x22client\\x22:\\x22heirloom-hp\\x22,\\x22dh\\x22:true,\\x22dhqt\\x22:true,\\x22ds\\x22:\\x22\\x22,\\x22ffql\\x22:\\x22en\\x22,\\x22fl\\x22:true,\\x22host\\x22:\\x22google.com\\x22,\\x22isbh\\x22:28,\\x22jsonp\\x22:true,\\x22msgs\\x22:{\\x22cibl\\x22:\\x22Clear Search\\x22,\\x22dym\\x22:\\x22Did you mean:\\x22,\\x22lcky\\x22:\\x22I\\\\u0026#39;m Feeling Lucky\\x22,\\x22lml\\x22:\\x22Learn more\\x22,\\x22oskt\\x22:\\x22Input tools\\x22,\\x22psrc\\x22:\\x22This search was removed from your \\\\u003Ca href\\x3d\\\\\\x22/history\\\\\\x22\\\\u003EWeb History\\\\u003C/a\\\\u003E\\x22,\\x22psrl\\x22:\\x22Remove\\x22,\\x22sbit\\x22:\\x22Search by image\\x22,\\x22srch\\x22:\\x22Google Search\\x22},\\x22ovr\\x22:{},\\x22pq\\x22:\\x22\\x22,\\x22refpd\\x22:true,\\x22rfs\\x22:[],\\x22sbpl\\x22:16,\\x22sbpr\\x22:16,\\x22scd\\x22:10,\\x22stok\\x22:\\x22UeCi3x7D-daFtUwTubRiZwP6xoY\\x22,\\x22uhde\\x22:false}}';google.pmc=JSON.parse(pmc);})();</script> </body>"
      ]
     },
     "execution_count": 12,
     "metadata": {},
     "output_type": "execute_result"
    }
   ],
   "source": [
    "data.body"
   ]
  },
  {
   "cell_type": "code",
   "execution_count": 13,
   "metadata": {},
   "outputs": [
    {
     "data": {
      "text/plain": [
       "<input name=\"ie\" type=\"hidden\" value=\"ISO-8859-1\"/>"
      ]
     },
     "execution_count": 13,
     "metadata": {},
     "output_type": "execute_result"
    }
   ],
   "source": [
    "data.body.input"
   ]
  },
  {
   "cell_type": "code",
   "execution_count": 20,
   "metadata": {},
   "outputs": [],
   "source": [
    "#token for authentication\n",
    "fields = \"id,name,posts\"\n",
    "\n",
    "token = \"EAAPlujGzWoQBAKeTYy4xn3BSdURJezOwNTWQ8ZBFNN420kRUsm8rCRnEEM7gjlZB4U0cLwHvVb0qr1sSAnjCHLmIZALPsIhOu2VVMhJuh3ZCu3gLCm5jmzjy7nCpFYDIlU1QC2ZBhfCkKGVFAtGEi8jgJmuoGskBODSZAMZByLEpsrqvrwZCr4gOq2MyyWtQRrI4bwJtNDAXiAZDZD\"\n",
    "url = f\"https://graph.facebook.com/v5.0/me?fields={fields}&access_token={token}\""
   ]
  },
  {
   "cell_type": "code",
   "execution_count": 21,
   "metadata": {},
   "outputs": [],
   "source": [
    "data = requests.get(url)"
   ]
  },
  {
   "cell_type": "code",
   "execution_count": 22,
   "metadata": {},
   "outputs": [
    {
     "data": {
      "text/plain": [
       "200"
      ]
     },
     "execution_count": 22,
     "metadata": {},
     "output_type": "execute_result"
    }
   ],
   "source": [
    "data.status_code"
   ]
  },
  {
   "cell_type": "code",
   "execution_count": 23,
   "metadata": {},
   "outputs": [
    {
     "data": {
      "text/plain": [
       "'{\"id\":\"2761818107264953\",\"name\":\"Simran Grover\",\"posts\":{\"data\":[{\"created_time\":\"2019-10-13T02:32:53+0000\",\"id\":\"2761818107264953_2536022416511191\"},{\"created_time\":\"2019-09-20T06:27:15+0000\",\"id\":\"2761818107264953_2485729834873783\"},{\"message\":\"Hey babe \\\\u2665\\\\ufe0f Muskan Batra birthday soon\\\\ud83e\\\\udd29\",\"created_time\":\"2019-08-19T17:06:58+0000\",\"id\":\"2761818107264953_2428307400616027\"},{\"created_time\":\"2019-08-18T19:33:54+0000\",\"id\":\"2761818107264953_2426749554105145\"},{\"created_time\":\"2019-07-28T02:57:25+0000\",\"id\":\"2761818107264953_2390061257773975\"},{\"created_time\":\"2019-07-15T05:36:27+0000\",\"id\":\"2761818107264953_2367914416655326\"},{\"message\":\"Now only this picture is left Sonam Grover\\\\ud83e\\\\udd23\",\"created_time\":\"2019-05-28T15:40:57+0000\",\"id\":\"2761818107264953_2285031841610251\"},{\"created_time\":\"2019-05-26T10:14:05+0000\",\"id\":\"2761818107264953_2281341411979294\"},{\"created_time\":\"2019-05-25T09:55:35+0000\",\"id\":\"2761818107264953_2279649135481855\"},{\"created_time\":\"2019-05-03T13:56:42+0000\",\"id\":\"2761818107264953_2244574925655943\"},{\"created_time\":\"2019-04-23T18:22:52+0000\",\"id\":\"2761818107264953_2229682317145204\"},{\"created_time\":\"2019-03-31T08:02:22+0000\",\"id\":\"2761818107264953_2194347604012009\"},{\"created_time\":\"2019-03-07T18:42:12+0000\",\"id\":\"2761818107264953_2161371100642993\"},{\"created_time\":\"2019-02-21T17:12:29+0000\",\"id\":\"2761818107264953_2140903952689708\"},{\"created_time\":\"2019-02-12T14:58:08+0000\",\"id\":\"2761818107264953_2126090164171087\"},{\"created_time\":\"2019-01-30T13:35:44+0000\",\"id\":\"2761818107264953_2106467709466666\"},{\"message\":\"Nobody really has its \\\\\"all\\\\\"  whatever you do have thats the \\\\\"all\\\\\" you need\",\"created_time\":\"2019-01-11T15:17:11+0000\",\"id\":\"2761818107264953_2077900658990038\"},{\"created_time\":\"2018-12-26T18:40:22+0000\",\"id\":\"2761818107264953_2052595431520561\"},{\"message\":\"#Diwali2k18\",\"created_time\":\"2018-11-08T08:48:56+0000\",\"id\":\"2761818107264953_1978965222216916\"},{\"created_time\":\"2018-10-07T20:23:24+0000\",\"id\":\"2761818107264953_1927601244019981\"},{\"created_time\":\"2018-06-24T07:46:23+0000\",\"id\":\"2761818107264953_1762328083880632\"},{\"message\":\"We don\\'t laugh bcz we are happy. We are happy bcz we laugh.\\\\n     - William James\",\"created_time\":\"2018-04-11T17:08:10+0000\",\"id\":\"2761818107264953_1677852308994877\"},{\"created_time\":\"2018-03-23T16:14:17+0000\",\"id\":\"2761818107264953_1655603364553105\"},{\"message\":\"The words that enlighten the soul are more precious than jewels.\\\\n-Hazrat Inayat Khan\",\"created_time\":\"2018-01-23T11:50:36+0000\",\"id\":\"2761818107264953_1586111301502312\"}],\"paging\":{\"previous\":\"https:\\\\/\\\\/graph.facebook.com\\\\/v5.0\\\\/2761818107264953\\\\/posts?since=1570933973&access_token=EAAPlujGzWoQBAKeTYy4xn3BSdURJezOwNTWQ8ZBFNN420kRUsm8rCRnEEM7gjlZB4U0cLwHvVb0qr1sSAnjCHLmIZALPsIhOu2VVMhJuh3ZCu3gLCm5jmzjy7nCpFYDIlU1QC2ZBhfCkKGVFAtGEi8jgJmuoGskBODSZAMZByLEpsrqvrwZCr4gOq2MyyWtQRrI4bwJtNDAXiAZDZD&limit=25&__paging_token=enc_AdCa2PTwRAHRzUVbflFQezpjT4EDnj0AmJzb38jCvGqq7U7DOwrjwEHIQOlDj9CfM6jl5g1p6wGwQkcnNTjLTtMzAASenrdHfgpiOV33tvKp5AZDZD&__previous=1\",\"next\":\"https:\\\\/\\\\/graph.facebook.com\\\\/v5.0\\\\/2761818107264953\\\\/posts?access_token=EAAPlujGzWoQBAKeTYy4xn3BSdURJezOwNTWQ8ZBFNN420kRUsm8rCRnEEM7gjlZB4U0cLwHvVb0qr1sSAnjCHLmIZALPsIhOu2VVMhJuh3ZCu3gLCm5jmzjy7nCpFYDIlU1QC2ZBhfCkKGVFAtGEi8jgJmuoGskBODSZAMZByLEpsrqvrwZCr4gOq2MyyWtQRrI4bwJtNDAXiAZDZD&limit=25&until=1516708236&__paging_token=enc_AdDQBSiCGZCHURjV1ffIPmp55jrRrXklk2dh6jTxN5zCa7Vigqpvf49FcZBZApZBTMiiZBextygUPQyDKto9Vvianjo2qbZBxRCRTLJOFKYgOuJimfIQZDZD\"}}}'"
      ]
     },
     "execution_count": 23,
     "metadata": {},
     "output_type": "execute_result"
    }
   ],
   "source": [
    "data.text"
   ]
  },
  {
   "cell_type": "code",
   "execution_count": 24,
   "metadata": {},
   "outputs": [
    {
     "data": {
      "text/plain": [
       "str"
      ]
     },
     "execution_count": 24,
     "metadata": {},
     "output_type": "execute_result"
    }
   ],
   "source": [
    "type(data.text)"
   ]
  },
  {
   "cell_type": "code",
   "execution_count": 25,
   "metadata": {},
   "outputs": [],
   "source": [
    "import json"
   ]
  },
  {
   "cell_type": "code",
   "execution_count": 26,
   "metadata": {},
   "outputs": [],
   "source": [
    "data = data.json()"
   ]
  },
  {
   "cell_type": "code",
   "execution_count": 29,
   "metadata": {},
   "outputs": [
    {
     "data": {
      "text/plain": [
       "{'id': '2761818107264953',\n",
       " 'name': 'Simran Grover',\n",
       " 'posts': {'data': [{'created_time': '2019-10-13T02:32:53+0000',\n",
       "    'id': '2761818107264953_2536022416511191'},\n",
       "   {'created_time': '2019-09-20T06:27:15+0000',\n",
       "    'id': '2761818107264953_2485729834873783'},\n",
       "   {'message': 'Hey babe ♥️ Muskan Batra birthday soon🤩',\n",
       "    'created_time': '2019-08-19T17:06:58+0000',\n",
       "    'id': '2761818107264953_2428307400616027'},\n",
       "   {'created_time': '2019-08-18T19:33:54+0000',\n",
       "    'id': '2761818107264953_2426749554105145'},\n",
       "   {'created_time': '2019-07-28T02:57:25+0000',\n",
       "    'id': '2761818107264953_2390061257773975'},\n",
       "   {'created_time': '2019-07-15T05:36:27+0000',\n",
       "    'id': '2761818107264953_2367914416655326'},\n",
       "   {'message': 'Now only this picture is left Sonam Grover🤣',\n",
       "    'created_time': '2019-05-28T15:40:57+0000',\n",
       "    'id': '2761818107264953_2285031841610251'},\n",
       "   {'created_time': '2019-05-26T10:14:05+0000',\n",
       "    'id': '2761818107264953_2281341411979294'},\n",
       "   {'created_time': '2019-05-25T09:55:35+0000',\n",
       "    'id': '2761818107264953_2279649135481855'},\n",
       "   {'created_time': '2019-05-03T13:56:42+0000',\n",
       "    'id': '2761818107264953_2244574925655943'},\n",
       "   {'created_time': '2019-04-23T18:22:52+0000',\n",
       "    'id': '2761818107264953_2229682317145204'},\n",
       "   {'created_time': '2019-03-31T08:02:22+0000',\n",
       "    'id': '2761818107264953_2194347604012009'},\n",
       "   {'created_time': '2019-03-07T18:42:12+0000',\n",
       "    'id': '2761818107264953_2161371100642993'},\n",
       "   {'created_time': '2019-02-21T17:12:29+0000',\n",
       "    'id': '2761818107264953_2140903952689708'},\n",
       "   {'created_time': '2019-02-12T14:58:08+0000',\n",
       "    'id': '2761818107264953_2126090164171087'},\n",
       "   {'created_time': '2019-01-30T13:35:44+0000',\n",
       "    'id': '2761818107264953_2106467709466666'},\n",
       "   {'message': 'Nobody really has its \"all\"  whatever you do have thats the \"all\" you need',\n",
       "    'created_time': '2019-01-11T15:17:11+0000',\n",
       "    'id': '2761818107264953_2077900658990038'},\n",
       "   {'created_time': '2018-12-26T18:40:22+0000',\n",
       "    'id': '2761818107264953_2052595431520561'},\n",
       "   {'message': '#Diwali2k18',\n",
       "    'created_time': '2018-11-08T08:48:56+0000',\n",
       "    'id': '2761818107264953_1978965222216916'},\n",
       "   {'created_time': '2018-10-07T20:23:24+0000',\n",
       "    'id': '2761818107264953_1927601244019981'},\n",
       "   {'created_time': '2018-06-24T07:46:23+0000',\n",
       "    'id': '2761818107264953_1762328083880632'},\n",
       "   {'message': \"We don't laugh bcz we are happy. We are happy bcz we laugh.\\n     - William James\",\n",
       "    'created_time': '2018-04-11T17:08:10+0000',\n",
       "    'id': '2761818107264953_1677852308994877'},\n",
       "   {'created_time': '2018-03-23T16:14:17+0000',\n",
       "    'id': '2761818107264953_1655603364553105'},\n",
       "   {'message': 'The words that enlighten the soul are more precious than jewels.\\n-Hazrat Inayat Khan',\n",
       "    'created_time': '2018-01-23T11:50:36+0000',\n",
       "    'id': '2761818107264953_1586111301502312'}],\n",
       "  'paging': {'previous': 'https://graph.facebook.com/v5.0/2761818107264953/posts?since=1570933973&access_token=EAAPlujGzWoQBAKeTYy4xn3BSdURJezOwNTWQ8ZBFNN420kRUsm8rCRnEEM7gjlZB4U0cLwHvVb0qr1sSAnjCHLmIZALPsIhOu2VVMhJuh3ZCu3gLCm5jmzjy7nCpFYDIlU1QC2ZBhfCkKGVFAtGEi8jgJmuoGskBODSZAMZByLEpsrqvrwZCr4gOq2MyyWtQRrI4bwJtNDAXiAZDZD&limit=25&__paging_token=enc_AdCa2PTwRAHRzUVbflFQezpjT4EDnj0AmJzb38jCvGqq7U7DOwrjwEHIQOlDj9CfM6jl5g1p6wGwQkcnNTjLTtMzAASenrdHfgpiOV33tvKp5AZDZD&__previous=1',\n",
       "   'next': 'https://graph.facebook.com/v5.0/2761818107264953/posts?access_token=EAAPlujGzWoQBAKeTYy4xn3BSdURJezOwNTWQ8ZBFNN420kRUsm8rCRnEEM7gjlZB4U0cLwHvVb0qr1sSAnjCHLmIZALPsIhOu2VVMhJuh3ZCu3gLCm5jmzjy7nCpFYDIlU1QC2ZBhfCkKGVFAtGEi8jgJmuoGskBODSZAMZByLEpsrqvrwZCr4gOq2MyyWtQRrI4bwJtNDAXiAZDZD&limit=25&until=1516708236&__paging_token=enc_AdDQBSiCGZCHURjV1ffIPmp55jrRrXklk2dh6jTxN5zCa7Vigqpvf49FcZBZApZBTMiiZBextygUPQyDKto9Vvianjo2qbZBxRCRTLJOFKYgOuJimfIQZDZD'}}}"
      ]
     },
     "execution_count": 29,
     "metadata": {},
     "output_type": "execute_result"
    }
   ],
   "source": [
    "data"
   ]
  },
  {
   "cell_type": "code",
   "execution_count": 33,
   "metadata": {},
   "outputs": [
    {
     "data": {
      "text/plain": [
       "'2761818107264953_2285031841610251'"
      ]
     },
     "execution_count": 33,
     "metadata": {},
     "output_type": "execute_result"
    }
   ],
   "source": [
    "data['posts']['data'][6]['id']"
   ]
  },
  {
   "cell_type": "code",
   "execution_count": 34,
   "metadata": {},
   "outputs": [],
   "source": [
    "img = requests.get(\"https://cdn.pixabay.com/photo/2018/10/30/16/06/water-lily-3784022__340.jpg\")"
   ]
  },
  {
   "cell_type": "code",
   "execution_count": 35,
   "metadata": {},
   "outputs": [
    {
     "data": {
      "text/plain": [
       "200"
      ]
     },
     "execution_count": 35,
     "metadata": {},
     "output_type": "execute_result"
    }
   ],
   "source": [
    "img.status_code"
   ]
  },
  {
   "cell_type": "code",
   "execution_count": 36,
   "metadata": {},
   "outputs": [
    {
     "data": {
      "text/plain": [
       "<Response [200]>"
      ]
     },
     "execution_count": 36,
     "metadata": {},
     "output_type": "execute_result"
    }
   ],
   "source": [
    "img"
   ]
  },
  {
   "cell_type": "code",
   "execution_count": 37,
   "metadata": {},
   "outputs": [
    {
     "data": {
      "text/plain": [
       "'����\\x00\\x10JFIF\\x00\\x01\\x01\\x01\\x01,\\x01,\\x00\\x00��\\x00C\\x00\\x05\\x03\\x04\\x04\\x04\\x03\\x05\\x04\\x04\\x04\\x05\\x05\\x05\\x06\\x07\\x0c\\x08\\x07\\x07\\x07\\x07\\x0f\\x0b\\x0b\\t\\x0c\\x11\\x0f\\x12\\x12\\x11\\x0f\\x11\\x11\\x13\\x16\\x1c\\x17\\x13\\x14\\x1a\\x15\\x11\\x11\\x18!\\x18\\x1a\\x1d\\x1d\\x1f\\x1f\\x1f\\x13\\x17\"$\"\\x1e$\\x1c\\x1e\\x1f\\x1e��\\x00C\\x01\\x05\\x05\\x05\\x07\\x06\\x07\\x0e\\x08\\x08\\x0e\\x1e\\x14\\x11\\x14\\x1e\\x1e\\x1e\\x1e\\x1e\\x1e\\x1e\\x1e\\x1e\\x1e\\x1e\\x1e\\x1e\\x1e\\x1e\\x1e\\x1e\\x1e\\x1e\\x1e\\x1e\\x1e\\x1e\\x1e\\x1e\\x1e\\x1e\\x1e\\x1e\\x1e\\x1e\\x1e\\x1e\\x1e\\x1e\\x1e\\x1e\\x1e\\x1e\\x1e\\x1e\\x1e\\x1e\\x1e\\x1e\\x1e\\x1e\\x1e\\x1e\\x1e��\\x00\\x11\\x08\\x01T\\x01�\\x03\\x01\"\\x00\\x02\\x11\\x01\\x03\\x11\\x01��\\x00\\x1b\\x00\\x00\\x02\\x03\\x01\\x01\\x01\\x00\\x00\\x00\\x00\\x00\\x00\\x00\\x00\\x00\\x00\\x03\\x04\\x01\\x02\\x05\\x00\\x06\\x07��\\x00\\x1a\\x01\\x00\\x02\\x03\\x01\\x01\\x00\\x00\\x00\\x00\\x00\\x00\\x00\\x00\\x00\\x00\\x00\\x02\\x03\\x00\\x01\\x04\\x05\\x06��\\x00\\x0c\\x03\\x01\\x00\\x02\\x10\\x03\\x10\\x00\\x00\\x01��w\\'wwt���u��(B�v#\\x15�X.��JY�\\x04\\x0b7:NY�PL��>��iV���\\x01�d�ɍDQ��3U6��]\\x05\\x03�\\x15C\\x1d�*N\\x12�^���z\\x1b|;\\x04�I0�ެ���.���Y�A�SS=�JC���s�T|�{#W�o�\\x1d���twK�J!���O��)5˒�&\"��S(�R�&6�J�p$���{:��S)\\x0b<�U\\x1eW�Q)Z���\\x0c�1Hs]�\\x0e�{/iL�3C4\\x0et��2�k��S�5eq\\x1cvK.�eK&u\\tyK\\x15n�Xk-ѭmlM\\x1es�8|���D��d�^N�\\x18n�\\r�\\x1d��r\\x15�S啵��Vie��\\x16���YpK\\x19�\\x1c\\x01�7 :��\\x19�^\\x14\\x05\\x16\\x17�C���8t\\n(��^��2\\x04��e,�\\x0c:\\x0c����P�q��Ȝ��\\x1c*�.�R�C@�(�\\x14\\x0bu�nib7��<�%�F�J�\\x0ehHb���:�NC\\t+�C�ߋ�Vײ�\\x0bb³Uh`Kr�A��V�M�\\\\r%j�`\\'!;.�A���\\x19j:�J\\x1d��P\\x1b�,�af3�3�M�\\x08d\\x0caEZ:��{DOr�\\x03:�Zꈴ��!G��R!y�2\\x16�����������h���C�����F��y\\x1c^L��q�/\\x1eB\\\\vb�P\\x18,��%ӫ�Θ�\\x10�qD�w\\x15�G����` ��F��z\\x15�\\x1dJ<�-�d8!\"�z��t]*`���G3�2쬮���@D_H�\\x0e\\x08�>9\\x0e�\\x0c�E��1�}L��7�2�3\\x0b��3\\x0b��e��)�Z�S��ܗ��bG�)]�|�3�NT&Fޢ��iJ\\x01���˛-S�l�괄��l]{�I��j�\\x13�;c� u\\x031���������kC#\\x0c�j�\\u05f8�]��W`�b���3���C��u���kմt\\t&�9�\\x01iYC��\\x07M\\x19�\\x02�\\x19\\nu\\x08�7u�6S\\x00�u�u���z�18c`\\x10�9�P��\\x1d-foT�\\x1e��I\\x12TC\\x00����K:�\\x04jE��b:�U�Gp\\x038�Ihk���*R\\x1c�UO\\'��\\r�*f%���[��>J\\x1e&̨���˶�\\n�Վ\\'\\x07��IF����צ��6o���́��g��K=<�\\t��\\x13D\\x1a�ƍ*�N����5��\"�jJ�j�HΨ��4\\x7f��m4|���0o���g�\\t\\x03Ac���]�#w2��JCZ\\x14,\\x06\\n�\\x18��Ģf��+//��A�SET\\x18d$5��m��\\x0e�k,�\\x1a������\\x18�\\x08B9��;�f�\\x19�s��Z0��$�\\x17�/v�\\x1e���Ѝ)����m\\x1e����u}�ym\\x0c�L&rv6v]�~\\'s\\'?\\'�,�;6�/�L�}\\x14y�y����^�GCn\\x1a�3��_\\x19Z�) ����i���u{=�I\\x03\\x16\\x12�繳Ǵ�{Q�\\x1a|���\\\\l\\x1c��\\x0eXlNjd�r�k;*fB۔\\x13�q�5vyf1?E��Tm\\x1dR\\x151d�S7�zϚ���ix�\\x06j�\\x07��g��C:0��[@��1N&=ْ�\\x06\\x13�P�lPzl(L�/{�)�����I��a��\\x04�\\x1c�2�/\\x17�7\\x04&YU���$��c�`8c��\\x0fY�^|k�ݒ-��^\"~�-�19��\\x1c�\\x19V�$�ʴ��\\x1bR\\x0e\\trt�u�d9lm�G\\x14�\\x0f�{\\x1f\"\\x1dE�<���@��+��\\x05j��l�\\x08��A�İdĀ����\\t\\\\��ׅ�mY}��\\x1a��о+,CE�y�ޤД�/+�~�\\x0f8\\x0bN�s��1�*�\\u05ff㮚�q�(�\\x1e�|;;���\\x08J2�:�Y�X\\t�\\'�nB�\\x04`�X\\x00\\x19�rM94bu�Zc^\\'�xN_|�8y~�I�s���\\x7fK^ay���j��r���M\\x06�����o3[Z[��~���>���b�\\r��))��K$����V\\x1aԶ\\x1c#O��?&���2k{����5��\\\\��q�9\\x13��i5�m|�;�\\x05ٷ\\x0b��u�G�r^�2�fmZ�9��\\x19\\'%�|a3\\x05^r]g-�.���?\\x17[�]-/;�R\\x19�4\\x13��Mgi*ng�ڨ�\\x15��B�*��>[g�\\x16Z����IF\\x15G�/��\\x1bm�z��5��\\\\u��|L?w�����{�K�,{�9>\\x16=�h���C�\\x13��Y<a�MY$�3�\\x1aK-Ε��8pl��X��\\x03Q5D\\x0f�g\\nh�C�0���\\x15�D˻ۋ\\x16\\x14z�����\\x07�DQ�!\\x06���m�SQ\\n�����l-\\x00�+�g��@>�̽���C!��c�\\x0e�\\x0f\\x06�OSZBF�������\\r\\x13d<iն9sl۶\\nu~�_6;��\\x7f:\\x12\\x1dL�e��:�\\x12�\\x19w|�p�\\x11ѱ*<��~�j���mW\\x022o߶\\x13.F�!\\x0cF������\\x0b�z�_aC\\x17��k����JI\\x04\\x03\\x0c\\'BHo�\\x1a�)4��ީ�k|��i��7��zc�̇1�\\x00kݣ\\x0f\\x18M�˹�\\x0e��\\x03mn�(4E�\\U0005c56f�n�d$��\\x04p��f�k�i��Q�\\x00>���S\\x1e��~���1/�Ͱ�.j\\\\:D[2/�+,Sk������1\\n�Wd�U�hO���\\t��\\x07������\\x16m_:���\\x19�\\x0b�+U��\\x0c���\\x1e�/o��o!����\\x187���5\\x17�����^8>�\\x0b/-\\x1e���X��c\\x1d\\x7f\"��xPG`\\x13s�1�M\\x01�\\x0c�N\\x0b\\x1b8R�UO-���\\x17�ӓ��;���ڒ�d�n6v\\x14*�\\\\���:ջ&f���k*X\\x16Г\\x00Қi\\x0b�Zq�^�\\x01�om\\x08J�\\x1a�\\x15�\\'F���nՀ\\x0fC���Dk\\x13H\\x13�#��Q�k/V�3Js2\\x16�N\\x06�qdOtY\\x14^���ƪk\\\\�\\x0b\\x05:L�ǭ�8$��ԫQg�ϭ\\\\m��v�U}�v���]�^Rk;�{\\x0ed)\\x01p�=\\x1c}ny�n�+N�\\x0bki�<~�/d�f�s4*�4��&\\x1d4d�V�27���\\x1a\\x0f��!����\\x15��%s&��\\x02�*�Ĺ2bbuɅ56� �v����%bQ��\\x10�jD\\r+��W�\\x18Z\\x03OV�ɧ�\"�PB#�L��\\x03�\\r\\x02ٚ~\\x1f\\txɉ�y:bd�\\x05j��b��=V\\x10?8�\\x1d(\\x12U\"����N\\x15\\x1b�\\'�-�-(�U,��\\x00�*耱��\\x1f̫V��{GWPx�5���z\\x1a��<�\\x000w���K������\\x05\\x14�\\x10�\\x06��\\x13���U����\\x0f�\\x17�/M\\x04��R�[�\\x12\\x1b�v����SOC=nQV\\x11�V:L8M��ߗ���y��:bj\\x11����g ���9�DuX\\x1d��9�[T˔�L�V�<�@��D\\x1aQ�4��~��6�F�Y}\\x0e�s\\x1dkp�]���\\x08*Vg���-��W�3j\\x1c6�e�-�A�\\x07�y�ӏ�b��y\\x1ew��\\x0ck�H�z\\x06\\x1c��L��t�S�\\x15`\\r�����Zc�\\x08���&�#sh�B\\x15{.ؐ\\\\.\\u0558���tC/a�������&y�|[�niy=\\x15W��^�-��W�\\'G^h}��Qz\\x0c���X�Y�\"h�����AR�`���a\\n�[��\\x1f|\\x05��81�\\x1f��x0���%W�Ye\\x08��\\x1a���\\x01<��uO1��l�n�&{�L�\\r���&{����W���nᗷp]�ܛ-��Yu;�ǘ�-9Nwn~��{��\\'wM�kw%h\\x1b����{��\\x01>�&\\x1d\\ue57f�;�a���7\\x0f���\\x16{�*\\x0eꋯ�f\\x10�j%�ݨ\\nN�8��?��\\x00,\\x10\\x00\\x02\\x02\\x02\\x01\\x04\\x02\\x02\\x01\\x04\\x03\\x01\\x01\\x00\\x00\\x00\\x00\\x01\\x02\\x03\\x04\\x11\\x12\\x10\\x13\\x14!\\x05 \"1\\x15#23A$0B%4��\\x00\\x08\\x01\\x01\\x00\\x01\\x05\\x02�\\x00�#��(�\\'\\x13G\\x12(�\\x1d�E\\x0bEdD!}\\x18�>��4$!}Y2c\\x12$���Ē$111\\x08�q��\\x12\\x12\\x14E\\x11#��DQ#\\x12(�\\x11Q\\x04!\\x11�>��F>�_i2l�Ȍ}$I\\x16��b�\\x19\\x10d\\x7fZ��\\t\\x11�\\x18�\\x1a4(�&��D�H�\\x04\\x04!3f��$1��\\x13\\x13뾒d�6o�F1�6\\\\O��2 W\"���$P��(Q8�\\x11B��F\"��\"\\x12\\x13\\x13�f͛�!�\\x19���dD�!�d�\\x00rf�ã\\x1a,C-\\'��\\x17��\\x10+��\\x7fd��$bB$Q�#DP���!!\"\\x04z��]���K��͜�K�f͎D�?���î�W��I�r4G�\\\\��oꐑ\\x14A\\x11DD�h]\\x13\"$h�萄lپ�66ll�Jg1��?Q\\x18�JC��v���\\x0f���\\\\�\\x12�\\x1fb!-\\nc��!!!\"(�\"!\\x1b\\x17T�\\x0b�D�Ց\\x1b9\\x1c���C��\\u07be��7��b���@ؙ��輘Ѣ(h]-���Q\\x14\\x08�Q\\x14H�\"B��q4(�$\"(�\"�u]\\x11c9\\x1c���������d�tO݂dY�#,\\x13/&�\\r\\x08\\u05ee���BBB\\x10��1#\\x11DТ(�\\x11��X�}7�c�3]WG�&��\\x13���o�X����$�)!�DQ�]-�%�tBBDQ\\x04.��\\x11��#��dHٳdX�u]\\x18�Ѳl���`�\\x00q\"G�����#\\x11��h���!\\x11\"\"$D�r9��!H�l�BB}vl�M�f͛##�پ���!Ȕ���a�$H�e��\\x11�(\\x0e\\x07\\x1d\\x1a\\x1fK�\\'�\\x08��D]9\\x1b6l��G#��\\x0cL�r9\\x0eG\"R\\x1b\\x1b6lٳf͈]%�]Z顢Q��.�48��(��\\x12��.�K�b�Ȳ,_V͑��}\"���X�\\x1a4��}\\x13�r\\x13&�1Hپ�}\\x10�4h�h�44Y\\x11��d��Lؤr#\",R\\x14�G#f�����t]tH}\\x11�#���p��\\x08d���D��tH�\\x124q4$%�E���JLG���L�ȶ&-�g\\x16i�ؙ\\x12)�\\x0cP8�\\n\\'\\x13D��q8�E\\x13C�͈H��p\\x1c\\t@����J\\'\\x12Q4$DBC4C�\\x12�X�\\n��v�Q�;$j\\x15d*#P�;gm\\x0e�:�\\x04B�1#\\x12(�v�\\x03���c��\\x0e\\'\\x13�<�x[���_ex�:�I!�ѕ�.S���Yo\\x03����(�3$�\"]\\x17Fl�\\x11\\x14H�%�DD�=\\x17D\"\"\\x17VH�\\x06@�\\x11\\x08H���q\\x1c\\x0e#���˦��e�_\\x1d�٫��%7��m\\x0bX\\x19]��|�On\\x18��\\x19��|�\\\\aU�_]�5��s\\x7f\\x1c\\x1f�\\x07\\x13�\\x12\\x12\\x1a,DdFh���2H�W��h��I�#!HS#3���9��Ȅ�H��2\"\\x17M\\x1a48�#F���ˣ&���_��*k��\"�+Ɏ;�:���i��vZ���9ߓ9�U�c�ݕfJ�\\x19\\'��\\x19���>1��i�,q8\\x1cM\\x0c�\\x1f�DDlkֈD�v���%P�\\x14\\x05\\x03�\\x18�\\x0e\\x07i\\x13��Q @�+\\x11\\x16\\'���\\x0e��L��n�o�M������%�\\x00*z�\\x02�S�pp�j\\x11<��\\t�7T\\x7f\\x02Rr\"ڕoK���\\x00�d��_����j���44q-�����=�G\\x13^����#�M\\r\\x1a�D���pG\\x01@Q\"Vȱ3��SٟK�\\x0e��y�B�W+����>[K���Ǳ�\\x11\\x11�;9V��7�A载��K�)��$م�̕��\\x11�u��e`�\\x14�&[���{p6l��\"�\\x08�B�ŏ\\x13�Gb\\'b#�$��O\\x1e\\'oBB\\x128\\x1d��p8��\\x19\\ng1�U.0v� �>l�\\x7f\\x03㯄U�)K�,����W}vR�/Qٿd���\\x7f�����j��r\\x7f\\x17��\\x7f{�\\t.r}\"l��4.�6U/|��L��F�\\x0e#E��4\"$WO]$>�6I�����>RQ��Ƿ�~�\\x07O���s�i<��#/\\x1f��}\\x11�g�����`�)I�J|�d�\\x0fUWRU�\\x0b;�nL�V��J\\x04�d`�\\x0c풉R�\\x1b\\x08L�df��;�\\ue8f8�4X�>����669\\x0eL��l�9\\x15��dJ6U�v�\\\\���Gq�Z���1��\\x12Sȫ�3b}(���p�\\x02\\n٫xnNZQlr��>��]�շ�28S�\\x0e\\x14~�D�tl��g1Lsd��&�4F�\\x10�Dmg~c�gz�Y23�\\x1b&rc\\x124ʹw\\x19�;���c\\'-\\x12���F�͛2c���}�o�\\x7f�Hĵ\\x1c��t��jp�\\\\d#\\x0f\\x1a̫��\\x12��:aK�Y)iE�\\x1b�,\\x1cg\\x1aal���HR\\x14�\\x1eA��,�K!\\x0b%\\x0b)\\x1eR#���f��OG|��7261X+N��29\\x0c�2W��Y�\\x12gp��\\x19-\\x12�\\x19�\\x08שm\\x1f+\\x1f�\\x1e�\\x0e��s��\\x15�O\\x1e�(NBd�4S\\\\���a���f̙nE\\x0f��\\\\m��[d\\x14b���paƸGdj-��\\x12��aٵ�=��<k\\x0f\\x1e�\\x1a��+��#23�����\\x1e��+�F���+���H�\\x04l�7�i����V���ɑreq�(I��YYJ)�e\\x1bb��c�q�)��Lk��c�i��y3\\x1f�D��3�a���9B���]\\x0cU�B(�~�F��<s�<qc\\x12�\\x0e��z]�*\\x19�g\\x19\\x1cH�?��4y\\'u3�\\x1aQ�\\x1d\\x04�q#\\x16�H��jՖ�Q�)F�䤫g\\x1a�Z�\\x1cfF�\\x1cI%����dőj�I8ȫ\\\\��=���Q�ddO�.ї/]\\x10�\\x00�ʗn�l�\\x0f�QƧʈ�\\x11U�~THY\\x16��R��/|�N~����=nS����u����3,�����n\\x1b�q�W��P��y6\\x12ț;�;�\\x15�\\x1eE�s�)ے�D�ċ�uJqq���ce��Y\\x15Y}3��4ͫ���7��?��ǅYv��=�=ˢ\\x1f�c���a(�t{lp�Ly5Qؙ\\x18I\\x13rC�Hw�w�w�N�;K%&8ٴ��Mw7�㝧;\\x0f�\\tډ9�c>r��ǁ��x՞5G�P��<zŋX�jMj&W�D����&����Yl�ef����F2��\\x19F��\\tW5�[�V\"�l���} ���k�IJ��MiB�\\x1e:\\x15\\\\U}�NV\\x0b�4�\\x04�������{�\\x05ŉ@�\\x08�d���n#�\\x04�\\t]TI_�<�G�!�^y7�.�9���1�gǊʠ_!Y^uSvK\\x15ʻ1�&��M,�Ѫ�JI���5F\\x0f�n�w\\x11��ѴBħU�\\x13�<l�ꄥ\\\\a$��o�q�X����Y�й�sE��j�q�p�u$��:������d�#�t\\x11�\\x07i\\x10n*IIY�v勔<;�\\x0e�´�fx\\x07�Y\\x1c\\n��Tx5\\x0f\\x06����|O��t��3��5�v�����+�\\x14d*�ōk)°�\\x06�|�\\x15]w��b��r�B�h|��$�j�\\x17\\'\\n�C3\\x1c�>�7�I\\x1cڙ\\x0c�My�c��<�c��g,i���T�\\x13�Hw�Ėf!��\\x0f9�s<�y�ʀ�k;�;�;�;�%�<��d�Y�!k�εZʭ�\\t\\\\q{tV�k�$��Ȝ�$�c?\\x18ش�(��\\x1d��S\\x0b$�j\\x16<\\x07�\\x06x�\\x1e\\x1c5,M\\x15c�\\'[��ȕC�\\x15I��GL\\x08�\\x03�\\x08�\\x1e(��\\x1c\\x1d�!�K���\\x14x���B�\\'�ܜlro���$�\\x1d\\x10�8\\x1c\\x0e#�.C�hY\\x12Bʚ#�y�!�K\\\\���S;P,N\"��9M\\n����J\\x19���Y!Wc%��Nh���Ly\\x13<ƅ����l�Y��������lSd,m+\\x18� j$쒊�6�|�\\x00\\x1f�\\x12K�a\\x0e_!M�֤��LM�\";\\x128�\\x12D��<y�\\x1ebő��\\x16#<i�\\x1eg�!b��!���\"\\x18�\\x15Z2��Ř��,Y�,�c�x��8{<#�<9!cX��zN��YG\\x1c��(P�;y\\'��ʭu!��R81��\\x06pc�%\\x01�F�m��:kg�O�f��Kd\\\\��nD�V�\\u05ee�;HUD�\\x13Q\\x17\\x03P5Y�\\x1f��\\x1a��c�q4z=\\x12�G\\x08��P�N18��\\x11�,t��@�@�@�@�D�F>��H�8�\\x0e\\x03��\\x12QFCӗ�(��\\x15H��\\x16r\\x1f��+��^���\\x1d�\\x1d����b���\\n�F�L��\\x11�\\x0e��;��w!�\\x11�\\x13�y\\x02���wQ�B�\\x1d�w��G�\\x13ʎ�{<�n��r\\x1c�d�J��=X܈�߽��\"\\x0c���9\\x1bD�&w$s�\\x19�rL�\\x1fObl��A���l�,�\\x1b�\\x16<�K5��2\\x19��3����;�=��.Q%c\\x1eN�$�P�t��u�F6eG�9�ñ]R��z\\x1cͳ�\\x1c$�V�D�G�\\x7f�\\x12�\\x11\\x17VO�]4qB�E\\x14B(�(��D��\\x1a�_��\\x00�\\x11�\\x11�J<�I�b��L��|��\\x13��\\x7f\\x7f�}1\\x12���Ԥ�e�g$�l�{4��\\'ȗ2\\\\�E����\\x11��m\\x1bC&h���q4i�1l[!��̩�ŭ=/e���t��Y\\x12o_Lk�E���!�\\x1d2�֍z>\\x0e�3Ά��\\x15�8Vwq��co��&�.D�$�m����Bg3���6l\\u0604!#��U\\n�\\x14�Ԍ�~�6lT]\\x15�2���4Gr�}=\"���M��Y\\x1cn�^�\\x00��\\x13�\\x00Xs����n��\\x12�l�ٶJL��6I��k�\\x1f��_g�o�\\x139\\n�Z+Q\\x1bQ�DoEW&_\\x7fo\\x1f�sʗ\\x1a���P�R(|l�\\x1c�_�\\x0c\\u07baL���2��%~4z�6JG!̓$�l{\\x17���f���)\\x1bd\\\\����骝�#\\x0f�\\x15V�q�Q!��%�#�D�k�UnJ]_�5�\\x17zhH��\\x7fÓ85{f�3~�\"[%�L��\\x00�f��脺\"%%��#>+�Ǌ��)�)�v\\x7f�%0�n\\x0b�����\\x08��\\x17�dD�\"���/^�������$I���Cd_����\\x007\\x11\\x00\\x02\\x02\\x01\\x02\\x04\\x03\\x06\\x04\\x03\\t\\x00\\x00\\x00\\x00\\x00\\x00\\x01\\x02\\x03\\x11\\x04\\x12\\x05\\x10!1\\x13 A\\x14\\x15\"2BQ0aq�3S�#$%CR������\\x00\\x08\\x01\\x03\\x01\\x01?\\x01�`��\\x06\\x05ɏ˃\\x1eL\\x10\\\\�\\x1a1�#o�y\\x12�44`Ǒ��P��4H�\\x17�\\x02F9�y\\x19�\\x06\\x0c\\x18\\x18�G�B�%�\\x04���<\\ty�n3�D�c��Ȉ�漌���ɸ�dB䌌�12$E�\\t�\\x1b2gɓ&L����xǊBY�dɑ�\\x12\"D�,�7\\x0eF�rɟ,��l��͐� �<�2&!3<�dɓp���&\\x0crCd��4�\\x10H�P�2\\'�L�|{���뱬�&�j��\\x11,����`h��I���`h�)\\x12F���V(sɞZM4oݒ�<l��>\\x1fdmPh�%\\x1f�t5:o�%:\\x7f\\n����_\\x1f\\x04t�V�Gо�¼.l~]�<FKP=@�#j<X�6\\x19\\x1bѸ�-%Q�\\r\\x0fK[�ɠ��k��D]OAF)�&��2��^d�K~(�Z��\\x0b&\\x0c�\\x10���(��\\rĥ\\x12ݟbS�<C�7�!�ԋT���\\x18��f:��\\x00&Y�\\x0e�WI�b��\\nE�+�tm�-�\\x1aS�~���K\\x08z���j�\\r[�n�L��h��\\x17j�\\x02� �̉ka�����bZ��fY��\\r㰕��$W�O��.��eV�����SX6�#^�x�x7�9e��/��\\u074b1!��\\x10�U=��\\x18(/Жf�ǧ��\\x05���\\x11��\\x04�S\\x1e�Q�xF�\\x18�QU��-B�s��|s�\\x0fU9vF�Gt[e����\\x16����#�y�N��\\x04�����-O����ܲ�\\x1aK�в\\x7f\\x17B�)�=�T;M\\x17��=����`��<\\\\�\\x1a����\\x10�*�\\x00�G��i��WR\\\\Ez#�S�\\x0b�?Tj5[�\\x14���\\x17��~���Y��w!Tl�ηخ�L���j��|2�wD�e�}J8S�r�\\n��Q�o\\x13���$x��\\x1d�y��TM\\x0e�j\\x16R�\\x05=��!f�d����b\\x02E�̈�yI\\x1a�Lt�92�E���Ԅ�gTF�.��F=ǫ��pb�3�\\x1b(�a-T\\x1bĢ�.�zD�\\'�\"�_g�i�\\x1a��#�\\x1eɭ�<DY��\\x0b��GM�����\\x15\\x1c�,�q\\x18���\\x00\\x7fSO�������G��ܶ�\\x16���(2�]�_�C�\\x1e;jxڍ.�]Z�z��ˣ+�o�+a5в[FC�\\x1b�\\x05�qg��Y���\\x12�����Z�+�L̟�l�Md�VS���lu�\\x13�S�ѓO�+�i�\\x1c3ܺA���B�Y[�\"�v�=\\x15G��?��\\x12�\\x14~��\\n���䶞\\'����q�s�u\\x7f�{�]��\\x00b:�Z�:���\\x1c�Թg�7�|���KE����+[bŨ���p~��\\x18�9\\x1e�?aj�#�����\\x1a�W:��\\x0b���3o�L|J�S�W.�=�/\\\\�\\x00Qkg.�f�I����h��%�&�\\x00��*|��ޑ;*k\\r��\\x19T�6`Z\\'\\x07�Q���2Uo��p��Y.\\x19\\x15�dtR��1i�_X��\\x0b.d�w��\\x15�Ԯ���\\x1e��?�\\x10���\\x7f\\x11\\x12ắ�\"<.�\\x00[\\x10�j]�[�cc���*}dh�5Zy��M���\\x0bȹ�4�m�\\n�[�5S�=Ŭ\\x7fc�\\x7f#ڿ\":�ا,dY���ؗ�ܖ�\\x11�\"�Y�a�v�Z���[�\\x11\\x17&/\\x10����2�QyW�\\x08�O]�2=ק�\\x0f���\\x1f\\n��.\\x17J+�W\\x1fB�\\x1dq[��_bZ\\x1a���)�\\x1e�L^\\x12,���=��z\\x11�\\r�\\x03�\\u05ceŜ>��\\x07��^��ԈS\\x18�#Z6��ʌ�\\x0e��\\x12E��؇JHE�m�\\x11��\\'\\rˡ�X�M����B#�B�<���j\\x08R��\\x13{�/�6%���D�`�|,��K\\x07ܐ�ɋ���ʎ��VVz\\x1e�݊~F}\"�\\tw\\x18����\\x00.\\x11\\x00\\x02\\x02\\x01\\x03\\x03\\x03\\x03\\x03\\x04\\x03\\x00\\x00\\x00\\x00\\x00\\x00\\x01\\x02\\x03\\x11\\x04\\x12!\\x131A\\x05\\x10Q\\x14\\x15\" 2B3Raq#C���\\x00\\x08\\x01\\x02\\x01\\x01?\\x01���Jc�v\\x12�F��HK�C�$?Б�^�{Vͤ�M���$�H��!��dDY��&K\\x18؆E�$�dh^ч$\"[\\x02�\\x1b}�&�ȓ\\x1b\\x1f�\\x12#��#\\x1c�\\x19�\\x11�b�\\x16)`ݒ(��DH��ef�#c�\"d�\\u05f6܊\\x060d�)�s2�rʪ\\x12,\">H@]�\\x18\"��Ď���l��h�l1��4`��W\\x12Q&�\\x11��%��4Er$/g�\\x03�(\\n���P��C���\\x0f��&2l:gL�I\"H�Ƞ`H���\\x0c\\x12�\\x05a���#\\x18�D�M��Y\\x04]\\x14��\\x11��\\x02B��f�@ڌ\\t\\x186�\\x0e$��f\\x0e�:��F����L�-�&�\\x14\\r��2A&F\\x11\\x14`��,��ls\\x7f�f��\\x19�M����SHSL�����\\'.HHR2E�)\\x1b�؋-D����{��\\x11�p3-�\\x15�\\\\\\x1a�c��b\\x11/[��Sr&�\\x06e�ټVrJY\\x1b\\x14�uGK#�:(��Za�KO\\'ًO$KO�Y�~\\x0e�B��D#$�$}<\\x1a�t�r\\x14���\\x08,�k��#<`Uu\\x16\\x0b*Jm\"P�����*X���#c�NNl�\\x08E���#^P�\\x1cF�\\x03��釥Hu�7a�\\x7f�\\x03��\\r\\x11�lH��\\\\3�;\"�\\x14W�(�+#��A_���D��+�A\\x12��Ϥ�\\x1d\\x0c&[�x�,��y���w#F\\x18���a�P���S�T\\x1a�\\U00046311ቓ�L{n�-��p�FDZ�%����\\tB*(v�u��KS\\x1c��@W\\'��ifܰ�ӑ���i\\x1fȴ�w?\\x025W!�\\x13��*V\\x08A\\nq^I�\\x0f�QӲ���5�D&I��<#O\\x0crK�\\x01w4�u%�c5\\x15��GO�}4>G���Ej&�5W\\x07�##\\x1cp\\x7f�JƤ�/$��<1�J>�\\x0b�\\x16�\\x12E���\\x16BWG0�\\x08�n���g��[��}6���[�uaI���\\x0c�.e���\\x0cEu�$��U\\x05��Q�xd���}6{\\x0bHϣdt�<\\x1f�����=�\\x1a��v�=MP�\"�N�O/�����!~����ѝM\\x1c�\\x15z\\'�zz6�\\x12#}Ia3�\\x1f��k����u>r]K��~\\r�{`�y����#I����\\x00t�!z��ň��\\x0b�\\x16�;\\x17���QLW6\"�e\\x15G\\x7fS%^�D�3�����ƪ�\\x1f}�|\\x1f]�O���$�\\x1d+��΅\\x7f1[�����S���j4^En���\\t�,xG��B�қ�X\\'%\\x0f\\'Vo�`�?Q�m�\\x11оi9�G���u�x!\\\\���_��갌%�MF�:�n��O�ib���^����t�\\x02�Q�!�^\\x11l���\\x11L�|E\\x1dy{2H��n#1(�v:q���4�F��G\\x12�O����}D<�-L#�\\x0f�%�\\n5�|��x?\\x07R���T�!:�\\x05�~\\t:���ҿ��\\x14\\x7fk,��\\x15�\\x16Oի�[%��\\x02�X�W0%�.�5~�u�أ��D�,��\\x17�}�\\x1f\\x1e�\\x17�h�M��\\n,s�,������\\x1d\\x0f�}8�6,��\\x0c�7�UHuHp�?#,��&=8��K�}4��9i��.qr�I&;�$�`�\\x18*�YW�g�/G��>�i/W��}e�ͼ���y2�J�\\x13���l\\x1e��}l�E���l�E��w�YF%���lp�\\x13�v�\\x12�M�jl�+��ݕ,����(�#��\\x1a0ǒS:��L�)�R0%�\\u07fc\\x7f\\x19\\x12b5U謹C~���J\\x1bf�\"k,�%H��hǻC�\\x12�\\x0e�Q���\"��4�\\x17o�\\x1b��\\x0f�\\x0c���9�ׂ�)K$���$V\\t~��Y1�\\x10�����\\x1fy\\x1e\\t���.�_��\\x00��.��\\x10�\\x15�\\x07���\\x00A\\x10\\x00\\x01\\x02\\x03\\x05\\x06\\x03\\x04\\x08\\x04\\x05\\x05\\x00\\x00\\x00\\x00\\x01\\x00\\x02\\x11!1\\x03\\x10\\x122A 3Qaq�\\x13\"�0@B�\\x04#PRb���\\x14���4Cr��Ss�����\\x00\\x08\\x01\\x01\\x00\\x06?\\x02�\\x00ޏ���1�M6\"�h\\x16\\x17�3��\\x06���\\x15z6V��G�R���#���Xͮ\\x0e G�\\x0f?\\x1b�M\\x16����7D�\\x01Tm�O�rEɿG��r����ٟ3�tDS��֟� �/\\x11�\\rd#\\x15�Y�!b=\\x00��\\x17ӓz&0�\\x00���g\\x05kd�&��+\\x01\\x07\\x13\" �\\x10i�6��\\x19\\x02��,�\\x0f�a\\x11�T\\x18�<dT�\\x1b3\\x1b\"�&I�\\x1a#mjgc\\'�Z:nq�\\x18`\\\\F�V�{�]8�cb�ݛaך�/0��3�\"���\\x1c\\x07\\x14�\\x7f���S�S�#\\x02�\\x0f�,�>hZY=�n\\x01��P\\x16�<�A��8�^V���n��\"b>��u�N�\\x13�#�J\\r�<�DZ�Y�C\\x18��)�\\x10�y\\'XS�\\ty�\\x01$M\\x17Umk8C\\x08�f\\x01�\\x01�TTTT�8\\x05kf\\x0f��]P�ôVn�uO��!���LY����\\t�t{��AL\\x02��|\\rS���� \\x0e���3�:�kk&i��\\x04\\x00\\x14�����\\x02�Z�\\x16�و��?�n\\x1b\\x10Uآ���ʲ��W3u�o�q\\x01ȧ6X��\\x1e���\\x00w�\\x15�\\x0c0Ql1\\n�T�l��Bѥ�Ê;@�\\x1fh<�\\x0e*44]&��^K��5�Ec�f�N��\\x0ffO��9�EY}5�\\x12w(��\\'4PQ\\x18���T\\r#qa\\x18�� �g��\\x11,p\\x1d\\x14\\x16\\'�\\x1f5\\x11 \\x14#$�50\\x01\\x06��\\x05��tխ����U_bv��B{C��\\x13��j~�ٸz\\x1e)�O�\\x06\\x07�\\x0e�3H�(��R@���\\x1e�Sa�ȳ�n\\'/�8�����\\x17�1�uC\\x06WS��(.�\\x15�\\x06y���@�\\x12�5���ت���UU���{8:I�H�����\\x15\\x0b�\\x0f\\x04x IXM\\x11\\x17�l�\\x17h\\x17�`%���ﳍD�\\x1di�ژ\\x0e�Ly��NQ7**_UUU_t�����͵��*c\\x13L�8�#\\x16���\\x0b���T��iw1sl�\"�\\x19!d��3s��\\x07p)Ц�.\\rmL�h�l�\\x16�E��c#���h��������ܢ��[��t�w�h|�m?t��\\x08\\x11~b\\x11-<�\\x15�C���\\\\�:��0�\\x18]�џ�~\\x10�խ����Tت�����UUUv*���,�[8ے�}\\x0e�\\x0b7I�+��D8@�.���PA�(��(\\x00�P�g�Ͳ���y���r��������ت��TTت̪�T[�\\n�S��Ь�AI�ٹ��\\n-p����_\\'����\\x16�@���GZO�r�h�X�\\x1a�Fex�0ki�I�O\\x0bEU[��t��H*,�QQQQP*\\x05��ļΕ�YVE6�\\x15(�%2`T��h�\\x18-J�dJ�\\x14\\x1de�x�\\x1e\\x17��\\x17�;Y\\x11��\\x0b��x��]6�:(\\x05��<\\x10n(\\x00��\\x1b�*)�#\\x05U U\\n�\\n1+1��\\x00�H\\x02�\\x05�w�E\\x03hż�@T�h~K��:��\\x1d\\x02�\\x15P}\\x17�ϱY\\x1f�JϹ^`����.�>�n�;��P�bs�ϪߏE+f��{�[Y�U�k�B��Z��Ⱥ�D6>�v��Y<9�\\x04/i�\\x16�]�,Ni\\x04�\"�.\\x1e�L|��\\x17*\\x15%�o\\n��[ҳ�����YOu�iXX\\x16@�j!\\x0e\\x05BC�Bj�Qq���fد���o�ރ�և�/����������5�����������?2��\\x00����o?���UCج.i\\x03�PN����xB6�P�3X��\\x05���\\x02���\\x00Jݟ���r\\x7f�\\x15�\\t��\\x14!�\\x17\\x03���\\x00�\\x04�ţV~�P�\\x16���\\x11}vhTC]�@���8��;����Y~j~ ~�����} ���������\\x1f�E���\\x1a\\x16���R.\\x1f5�\\x7fe�p�-��R1�S?53.eo;*9�X��vպ\\x0bu�[�w[��n�ku�[����Ԭ��d�[�-��G\\x00\\x1e��>�<���w^B���y�Sp�\\x03��г3\\U00105f07@�m�X��r��|>�dj�ʇ�i�bx�y��V���F��I����*%���@�k*�TR\\x0b-�Z(��)�Qe�\\x1e��\\x1am^h��QQeYVQ�e\\x1d��uE�e_��B��\\x02��BmQ\\x0e\\'�gRz���gU����ģ��\\x04�I�2���-\\x16�K�\\x16�E��N�\\x00�ai0_\\x12���/6$8]����\\x0e�\\x02�\\x16P���QP�EEK�uJ�Vb�\\x1b���d\\x16e������ꪕU[�uv<;`0;^\\x05i�oUEEK��T�ڷcj��i���=�\\x15\\x15\\x15\\x15\\x156�\\x156��+��UUUU؏��j��2̫�[�UUUUUv<8�\\x17IJ��EK�\\x1fM�\\\\�i��&�~&��UfY�UU}�Ve_q��{��\\x1e�U���n\\x04\\x19�\\x1f�\\x1b�*�\\x14ohva(�\\x08�g\\x08G+�v��P��4�+WpaX�.��[��\\x1e��Y����}�\\x1f0^3}V ��a�UUR�U+_r��������&ѫ\\x13�\\x02%\\x03�Ķ�\\x16&��Y��\\n�QaO�:\\x18�}��إ�~�\"]�\\r\\x1a�J\\r\\x08���%~%\\x1b��!bMw\\x19m�b��[����\\x01\\x10�W��\\x04ݢvZz�\\x11C��i檫�(�q�T�\\x17\\x13��h�ř���\\x03�r?���\\x00��\\x00(\\x10\\x00\\x02\\x02\\x01\\x04\\x01\\x04\\x02\\x03\\x01\\x01\\x00\\x00\\x00\\x00\\x00\\x00\\x01\\x11!1\\x10AQaq ���������0��\\x00\\x08\\x01\\x01\\x00\\x01?!���C�ѤP�F(�܌>�\\n%�Z\\x10A5=+D�7��aw\\x12J�2���=2m\\x170�\\x00���!K�uj��3�\\x11��@�\\x18j\\x1e�1\"\\x18��\\x0c\\x0c�\\x1e��\\n\\x08\\x13,�O��떕�\\t�д0�BU�0ާ1꾂d�t,\\x13\\x1b,<i@��P\\x16ű f��P�\\x13\\t�,�<��!4��$��N���\\n@}\\x07h\\'�6\\x1b\\x1bK\\r����\\x1b\\x18�a�0 j$[&EE\\x0cI�Z\\x1a��iRzRԐf�P�\\x08[��\"\\x1bD��\\x13-I��$��*\\x1b�\\x0ch�Q\\x16�d8�h4�h[G��i`L�@���$Y\\x15}\\tz��\\x1c%B\\x08&��_X�\\x13\\n��(����̤aCh��脴09j\\x13��W�R\\'J\\x14�\\x031lb@�\\x1c�\"\\x071\\x02z��\\x17B�KI\\x0c\\x08f:\\x18h��\\x1a\\x0c�z_m\\x0e/\\x19\\x15�TE�\"P�\"\"0�\\x0c6\\x0cʣ\\x1d\\x06$�Be��Ε�����\\x1e7EzRV�\\x01Q��Q�Z\\x13&�%���\\rz�8ޙ�\\nEA�\\x1e�\\x08qZJ9\\x08\\x16\\x0b��\\x88/��G�\\x0c�Z\\x10ĭ\\x13��D�c!kV\\x0c�\\x10���3��F%��X>��\\x0f\\x05Ƭ境\\x10)� ��/��h��!h�\\x10�\\rZ��c�\\x02+M��\\x1e���*\\x05H��Q�\\x1cz��t��j}0\\x18g\\x1dbhA\\x05*$mj-\\x1dZ���\\x1e�P\\\\h��L\\x0cI\\x05��C\\r-\\x05c\\x06�X�2+\\x1e�F���XX\\x11�F\\x0e�6KJ@ՐN��\\x18q��00�Z�\\t��N�\\x03/P�Q��\\x13B(-D��l�ݕ��(ŴD(�<\\tВ�&\"�Fƛ`���3\\rzS\\x1fҥ���ZDQ�F�\\x1b\\x1c�\\x192b\\x04��t\\'I:\\x1e�r���A��긥\\x03\\n\\x82\\x1c19Q=�HT�=\\x05�Z���a�YF�4$�\\x0b\\x1a ���r+\"4\\x10A�\\x1a�!�\\x04<i�X�\\x14���S\\x12/�e�2\\'  b��-\\x18c10���\\x186��\\'\\x06�P���m�ns4憌z\\x1e�Ak\\x14\\x10��\\x1c��}G�5\\x12�&U�\\x18� C�@�\"�\\x04�\"�\\x11\\x126\\x15��}��\\n�Cn41\\r\\x1c@��\\x1c\\x1dC�\\x02��\\x11�b\\x04�bB\\x13��:\\x0e��]\\t�.�\\x1c/\\x08\\x19,�\\x1c�kR\\x1c�\\x07,mX\\x1e�\\x0f)��\\x03��\\x0c�<�D�rJ&Kh�H�����3���*\\x18`��+C�\\x17�a$\\x12.ޑ�R�\\x1e\\x04B\\x18dH�\\x0e5\\x1265\\x0e$�02�\\x14�{�e\\x05t\\x1d��\\t\"K��\\x10�8��c�8\\x13�x-j��\\x1aj0��\\x08�;�L\\x0f9�5�\\x1e���\\x1e���[q�9\\x16�.�l%dk�\\r�L��\\x13\\x10N��\\x06Y�\"\\x05�\\x16�}\\x1d�%�A���I\\x02��\\x16�����\\x11�\\nE��\\x03�\\x08\\x0b��\\x03�]��h���÷Fb\\x88$�\\x01u.�h204�%�*\\x04���h\\x14\\x16Ko�~��1=\\u074ca�\\x15?b�q_5�\\x00�.\\x07\\x18�\\x02�p�xO�#�Ҕ�\\t/�1��9�Z��[\\x03O&՛�VJPOb��ZX=��k,�qy<��f��q,?�K�\\x14?�S�.�D�\\n��\\x1f\\x02J$m\\x08\\x10�P����0n�\\x04 T<J-\\x0b�C�嶉-\\x06\\x1d�\\x07A$�Ū��?��8��NPΦI�[�戓\\x1e�Om�\\x16v�r�s_�:�pW��*�����\\x00\\x066;�\\x13��:\\tة#t`�X��%p�0�-ݐ�F]SnL���\\r���dD~Z��Wn_�E��-iA��B70�\\x1c��\\x04�Hm�dJ��\\x0eA��\\x0ekH�U\\x10�rFF��\\x13j\\x1a\\x08M�\\x01��{�� �\\x13���PƄ�(\\x08����A�\\t�K\\x17FDzZ�C#�Km�j��-J���R�d���\\x01�-���?؎\\']�cN2G�\\x07�\\x1d<�}��l�[\\x0e[���c^&��F\\x02B)Q�8\\x12K������\"��y�WM��p�j����.Wt���\\x19)\\n�\\x1a1��\\x1c��Maq��h\\x1aLX\\x0b\\x12\\x1c\\n\\x1aX�L�,\"����\\x15T\\x1e�>\\t�h�`jP�B��FD�������\\x14\\x12�;�\\x03�\"nK\\x1e���ȗ�\\x1b�1�켖�\\r�\\x7f\\x02�{\\t]�sU\\x18�\\x03�e\\x16��`It�S��,&M��V~\\x04\\x19 ��{�\\x1a���[\\x137���c��D%\\x1c����Ĕ&\\x1fG�A0�\\x03mN��w�B$�Z���fIR:\\x11�$�$g\\x02jf\\x0b2Ks�4\"\\x05H�\\x08\\x11���6\\x15�����D�O�w\\x1f}\\tB�\\x05(�O\\x1d)\\x13*MH�G���X���Y�\\x1b\\x11��*[\\t6k|��2�\\x08kk�\\x0f�6͏;�be��Q��`:@�\\t[�q�R�(\\x10��\\x1f�R��~\\x06BfЗ�z\\x0bg�{��!_�����a��\\x0f����=��\\x18H7\\x08��\\x04v��H|��0N�Kr=�ݤ��a\\x0c9�z<\\x06���w��1�j\\\\���\\x0e��1�a�k��\\\\O���s\\t\\x0c��\\x16葊Gپ��<\\x1b���\\x14\\x12&�{\\x1a\"��t��ֳh��r�C�Ptu_�(,�iIئ���?\\x02\\x13�.9b���-��B�A��V>�h\\x19,��c����\\x18��{�I�I�D��J��I�f4?@�;�I*���\\x1c��x��M�\\x1b�7\\x0eO�I��H�%\\x12\\x16�a�a�q���6\\x03\\x02�R�\\x19bO\\x07k�78��_�W��\\x19�%��\\x0b&��\\x00\\x10���\\x18\\x07�+tL\\x05�cr�š^\\x14˰�:*�YnX暜���N���\\x7f\\x02%J\\x1b��������I+���F�Kov f��\\x04\\t�G`�S����HQ`e|��*Y\\x1c�\\x1a�\\x1ax\\x1e�(���(�$�Xt�\\x11Fl\\x06lV�1\\x0c�*L\\'t��\\x1a���,}~\\x0b��dآ��M���d\\x1a�6�\\x15p�н�I�\\'\\x0f�r�Wz:<\"\\x132�O�\\x13\\x141��,�E�\\x04-����1\\x0bdr\\x1a��\\x19)Q��$6Dc\\x1e���c��n��\\r�\\x0cSKF�����\\x0e\\x1c\\x1d\\'H�\\r�\\x10�\\r��,cq,y�{��cO\"�=\\x19%��x�YBx�E9\\x1c�\\x18��@]%\\'[:��\\x04\\x0c���6S����4\\r0Y/����b\\\\�\\x1a��\\x14\\'x!\\x1a�M\\x1em\\x1e��D�U��m��\\x00�$c\\x19�٤՜�g��\\x00�\\x12��\\x00���(jR��\\x10�}#e��\\x00f^�pC\\r�g\\x02{\\x18\\x07�TZ\\x12\\\\i:s\\x07 �\\x11���&k\\x08�dU0��\\x11\\x068\\x10$ӔƁ,�����LB#���\\x04�%�#0ո碷$L�P�C�\\x12\\'����Cc`H÷_�\\x1e�2%�\\x15�2���S�\\x08����H��\\t��\\x0bA��~�\\x0c=vo\\x7f���q�\\x0f?�\"\\t�*\\x12bn����E\\x0f�\\x1b��NL�T\\tpP�Hq\\x02�$X\\x16!\\x0c3\\x13\\x06��]\\n�`��6\\x03x�0�\\x05�&)�&[��d�CVP�$��w\\x1bB]�&A&A���D���YT�\\x06q�\\n-\\x0e��\\x03\\x14õ\\x0f\\x03\\x1c1�8f��{�Cw��6\\x1bN�Oa�R�ӣ\\x12J����L\\x08#n�Lm�\\rh��h�O��-\\x11�>Y\\x1b�#��S��\\x00Qk�Q}�AK\\r�G�&�)Ȯ��6\\x12��ѷ,u[\\x10T|��>�C\\x1d/�GR��b��\\x0c��w%�\\x19�\\x10l\\x15ռ�֦g$:c�\\'��Ml��/ܨD��#Z���\\x19YD�\\x14�!;��g\\n\\x18o\\x02�u��؟\\x02\\'H�$�P�nӃ\\x00�\\x06��c\\x17J\\x15/{�\\x13�\\x12\\x1b(\\x0e\\x0e�E`?��(�N\\x1c�hG�K܈�I%�\\\\lI�h\"ZLvǬ*Y�Y���P�s�\\x15�<�\\x04�\\x00��#�q?�|�M�hl\\x03���p(�\\x1bō%$fE�Rտ���� w~Z\\tQ\\x14�Eɷ�q�a�}����J\\x00�u~�\\x16��\\x1f��\\x18�\\t\\x0e~�*��\\t�~ȿ���\"\\\\��?��,\\tG\\x01&c�RJ=�A�\\x1b�J�(���\\x06ĥ��*�i\\x13턭�<!\\x13�\\x15����ec�o�i��\\x13��\"W�7V.v+\\x12��h�?\\x00�p��M�|\\x10(�I�\\tsب%�*Dӄg|{\\x13�\\x1a��a�_A\\x118P��\\x06�\\x0c�\\x0f$rm��GlQB\\x04�p\\x12J��\\x07���oL�9�\\x00c\\x16�܃$ӆ�\\U00062291�#�7�a\\u07fb\"s��\\x17\\x1a\\x7f�\\x0bi���\\x16��&��\\x10�\\x04\\x15�\\x1c��\"���\\x04�_�C\\x18L���G�{\\n�Å��\\x00��{��~<#�$N������g���n�i\\x1b.�\"�fױ\\x06\\x0f5������8��\\x141��2+�\"��\\x0e_�K�D�1�\\x18�8讉DN<�QG����4H��Dܻ)�\\x12���!�%�A�h%9�\\x10�a(Ը�\\'$?���s���\\x7f�蛃텛\\x87�h{/�0,�O�7\\x1f��U~`QY��\\x13}?�(���K6 ��{I�\\x18JQ\\x02�/�\\x18��b��S�{\\x16�\\x06\\x18�4��\\n��\\x7f؟�XW\\x0b^�Y\\x03�hs\\n��B��\\x13�H�c��-�,�\\r�8\\x12� My����$B��a\\x08k�\"\\x12��[\\x1d�,��K�4�a\\x11�\\r\\n������\\x0f.{Ȫ��\\t�!俄r��8A�u�S�f\\x16\\x05I��\\x04YBO\\x0b�ɶ�\\'RЅQ\\x12Qo\\'�AD�\\x04�3��\\x14�\\x0eeܐ�\\x06�\\x15�\\x18�J�\\x10�̑5�\\x01w}���\\x1c\\x08\\\\~E��%��8�,��\\x00���0�I���\\x1b��S�u�A��\\x1aQ�\\x04$�\\t�!�Hl�i0&�{�\\x11�7���f_%��(m�UPL��\\t?\\x00�U%4V�Ƅ+MKsx��|\\x06���\\x1b\\\\~\\x04i��6�a���\\x14\\x08��i\\x17\\x08_\"t2�.J$f�Z\\x1evßDLk�A�N�(k�N\\x11`����Fx�\\x12�J\\x18E�N���(��e��n��\\x03�\\x017��\\x18?�\\x0b{ɉ�\\x0f����?�\\x02�\\x12��B5\\x13�!��\\x13<��p7�@V\\r��o�{/�ͼ�p�ӢXa�K�#Kb����<f�\\x1eJ��\\x00�$�p��\\x1f�\\x1b��\\x0eF?�\\x199\\x0c ��$��\\x1c�y\\x0f��_?aTr\\x02\\t��\\x001z\\x0c\\x1a\\x13\\x17��>\\x0e\\x10�G��8\\x7f\\x01�p?6]�-\\x1d\\x12���\\x0bb-����!.\\x01p�u\\x17@�D�����\\x1c\\x04�\\x08�<\\x03\\x0b\\x02xA��<:=\\x08�\\x03;\\x07.\\x05ǥp�7\"R!އ�v\\x16\\x1fB�\\x0b\\x18�t.��d�@�9!����1� {�\\x04���_D6�P�\\x0c�t�k(�*�h;F�V��\\x1d�x��Bf\\'c\\t��\\x1b�l\\x0fy.\\x19N�V���mP����h1$H�\\x12#䢲�\\x0b�#t��r*g\\'\\x03\\x13\\x1e\\x0fҘ�Ld�\\x03$\\x14Q�ˤrr��M��<��\\x07�~Ch%�sC�&U\\x02\\x0b\"ou�3\\t[co��\\n~�:a,���X\\n�\\x04�/�o2kM\\t1�\\x1f�<�|����\\x15Y 7�ǉ\\x17�ʡ\\x10���\\x04X\\x11])\\x06�\\x0cȋ�#�D�h�\\x12���;\\x7f>��E\"� Ur1�$X�HrHP�\\x12�6pr\\x11�:�:R\\x0c\\x1074��M��\\x19�A�\\x1a�4��!���em\\x03n�\\x17;\\x181L��K�&���%�z,�+c�m��]�J�8�a�\\x14$6\\x1a\\x19%\\x1f�\\x1c�Ln7��g��蓠��\\x1a\\x1a_�.m�\\r��K���\\x0et��#�s\\x12�Β+�}\\x04|��\\x13�s�*�1~�]���|\\tM��%��/�RE&Ƞ�O\\x08y@�\\x16�\\x18����~~W(�K|\\x06>�T���\\x13\\'cI#h\\x1c����М�\\x06�29�\\x07�o�<\\x04!7:��\\x15\\n0�p����{\\x1e\\x03A\\x06�)��-/\\x19V\\x0c�\"\\x1c�b�9lLx\\x05n$�]\\\\�<0)&�\\x1d�l��z>?$�l�C�$@�Dmpa��9�t�l2�}ǖn8�\\x00�:!�,�V��9�<�\\x04O\\x07\\x08x�\\'\\x19�xh:����U��2ę1O%�oH�b}��J݉y\"\\x1d�\\x00G;腉\\x11�\\x12,�\\x08U��\\n�<�Β\\x14�\\x0eR�O�\\x10���\\x12���G�A5�L\\x10�I�\\x06�E���e9E��\\x13��5�f\\x1b[�C�z�L��?Ԏ�pndoa�Bc�еB,M��\\x13\\x1d������M-�\\r4�E{dz�S#��DI�\\x02ɉ\\x16�X���\\x1aΐk�s��J~H��\\n���%�\\x0b�1Rx ���&�0�)�\\x08�V42��4{\\x08MF��=�#�B�m��D�\"z\"D���,�3�\\x0bB8\\x15-\\x19�E�$*\\x19�m�\\x16P��TK\\x06O\\x12;ޅ��$�AX�\\x11\\x14�\\x11<�-�\\t\\x0bB�\\x16n9(˒R�υ\\x01C\\x0f��D��e�`s\\x1cg���3\\x1d��ff=?��\\x00\\x0c\\x03\\x01\\x00\\x02\\x00\\x03\\x00\\x00\\x00\\x10�\\x00�\\x00�ؒ\\x0f�l�w��Q\\x1e�1߽�X�]��<��?W�\\x15�`�\\x14\\t}\\x1f����q/uU�l��e����Ӵv���\\x1d��-�B���3|����A��\\x18�?�[,�\\u07bc\\x10��\\x1cK��\\\\8E|�d-b������b�5\\x19,����V���tZ�}#+Lo\\x03�B���\\x16�\\x12\\x00D�T�\\x0e��:�rP˝�\\x19�b\\x18��,��\\x00��\\x1eHELj�\\\\��H�\\x07�G�P\\x01`���\\x01��|��2-\\x7f�\\t\\\\�T\\t�5K3��|\\x1a��\\x01�ߔ\\x7f��\\x1d}�8�߹>j��:��`\\x0cD�\\x00�)�\\x0fsO�Yϡ����\\x0fn��m�\\x18L���\\x16:�:Uq�~+y�\\\\\\x08��\\x18+��]�\\x07r��\\x1d8�)\\x1chL���\\x00\\x12C�,�d<\\x1d#�\\x03*��\\x04�u�\\x06�\"Fa�+�JLQݥQR�\\x06m�W�i������\\x1fn���[A������Ҕ���6��I�\\x17^]�Opg\\x04\\x11`�\\x16�\\x1c��k�>м��\\x00����̍\\x1c\\x7fM\\r�B\\x0cs\\x0c[\\x1f�Z�G���(*��$�\\x07\\x17�k�����[��\\x7f�B���\\x7f�~�vQ.܌FÂ}\\x0c>Ãu�o\\x1f]q\\x07�����J�\\x08��Ι�\\x05���\"1��]���\\x0b��i�w��8�~0_uǽ����0�\\x0f؞���t?��?���\\x00\\'\\x11\\x01\\x00\\x02\\x01\\x03\\x02\\x07\\x01\\x01\\x01\\x01\\x00\\x00\\x00\\x00\\x00\\x01\\x00\\x11!\\x101AQqa������ �����\\x00\\x08\\x01\\x03\\x01\\x01?\\x10�.\\x10h\\x10@��s�0�3\\x1d\\n�*\\x11D\\tZ�\\x01�a\\x02m�\\x01�}K\\x15\\x02V�ҥK�*\\x12�\\x03R�k�5\\n���\\x08�Y�H&�\\x18KeP!�1\\x1c%��\\'�r��1,ЄA)2�8�\\x1a\\x11\\n!�p訃\\rlv���P�4�r�\\x04m\\x0bE��ƫ\\r�*\\x19H�.(\\x1a\\x02�1s\\x12�a\\x04�)��!�\\x00�P�\\x10���T\\x0e��\\x04\\x0c ���^�4\\x05\\x1a\\x0c\\x08\\x18Sm\\x13\\x1bZD\\x19�\\x061qb�\\x08L@LZ\\x07F1�`��v��A\\x02T��\"`������\\x1a�)��%�\\x02_�Nd�\\x17S��s\\x12Z*\"1*\\x19j\\x1a�A�l͖�\\x16�\\x12�L4, *@O��V1Ǆ\\x81hxN��\\r`A@y�:�C3�{�Glj�_\\t�R�*\\x0c\\x07��I��4[\\r�ʕ�\\x1b\\x10��Q-��H=�w\\x10�r��)L���\\x04\\x15���\\x0b�&\\x1e��\\rEP�b�du��\\x00e�)t�ԫc�^e��!�j�L\\x04\"\\x0e��@\\x17\\x019�\\x0c�@�\\x03\\x08#\\x18\")\\x01��N\\'���\\x1a��,\\x1d��*�Ech{�B\\x05u#@v=�؇Z�x���m����(ݰYD�Ū�\\x08�0i\\x0b�\\x01��G�B\\x02\\x07��\\x0c��㶡r\\n\\x7f{������<,�i\\x13�\"�ቻ����@L/�\\x0c���@y��\\x13m`z���d�S\\x11��\\x18&ؗ��\\x17FY\\x03�]\\x0b\\x11�,�~�,\\x08>�7�\\x1fV.\\x02�2�=e\\x02�\\x00�}Ka���\\x1d��3����3\\x11\\x06�<��\\x11�?���*R;��;\\x1c>\\r�_\\x0e��C�E$��1w�Ku�Q�sq*�\\x04h�\\x1ewT2�yů>��Rb��#W#�*՝jf\\x1c�~L�O\\x03�,B���J�p���]\\x10\\x01xc�̧3Ȣ�P7���0\\x1e�\\x07�\\x1f2�et��!�R��,}��#��\\x0f+��Ǫ+�\\x18\\x1e�\\x03)�Z\\x7f�\\x11�i־-���\\x15�����k�\\x02Y�<��h\\x0c�Y��neU��\\x8f��X9�1��[����\\'�\\x05��\\x19N\\x17�\\x08�8>\\x1b�yz��\\x13\\n�:���+n\\x13\\'h���O\\x023;�q\\x12[y�\\x97��n��y�к�\\x08\\r\\x00x$�\\x11����x/�#���OE\\x13��Ɗ��j.YO?�66G\\x08w\\x1f\\x04����ⰶ�~�j��\\nk؇\\x1b\\x1b�>F\\x7f���/j_o��,Ǔ�\\x1a�x�\\x1d�\\x1b%.�X��?��͛�(���\\x00�gtwR#NQm�Rd\\x1c��F\\x1e\\t�F\\x00eʞ؎��>��^�f�q���\\x0fT�\\x16�]��\\x00�*xO���ˌ-�\\x0e��$�J�\\x19g�s�1a^p����\\x1dn��]��\\x7f�\\x1d��f-zʀ>�����Kt��Գ[��/C�AV\\x07�\\x0e^�V`�\\'k�oy~�\\x08��b\\x06��\\x1dN�\\r\\x06`�D;2�u\\x18�\\x18�67\\x10\\x03\\x17������Mܥ\\x03\\x15��_\\x02ί:X�,W_I�D���)\\x1c��ܰ�+���u�Z.\\x0c-\\x01M���D�@��t=�F\\x11���\\x1b�B�\\x0b�\\x01�]0�\\x0fH���V�\\x11�Z\\x12䙒^ c\\x10��b���\\x03bc\\x14��T\"��T���DL\\x1cB\\x0f-\\\\\\x04��N�0,�\\x19�T��(��f\\x11q\\x0e`�C@����AK�J1�náC\\x05���D�\\x06�g�u��Ύ!\\x05�*(t(L�e\\x7fn�?��T����ߥ��N!�4��\\x00\\'\\x11\\x01\\x01\\x01\\x00\\x01\\x03\\x02\\x06\\x03\\x01\\x01\\x00\\x00\\x00\\x00\\x00\\x01\\x00\\x11!\\x101AQaq����ѱ�� ���\\x00\\x08\\x01\\x02\\x01\\x01?\\x10ꃣ���\\x00\\x0c��l\\x02#id�X�x��0�-$KW\\x1b�1#��\\x00\\x19Y�-��\\x0e�n\\x91Цu�\\x16�\\x0e�����̸�-���lE--�Ǣ�/E+:Zz|Vf,�\\x0e�9���$�D)��\\x16�:�oR\\x05Ӥ��{\\x08:\\x18J|L1\\x0c9[��Zٓn�\\x06]�6\\x1d�dr\\r�\\x17-�D蹝E.�Yl�U�\\x13��[6�n�v\\x1c�\\x10�E�$g\\x04��\\x08�x�A��h^lm���\\x166(yG\\x0e��6L!g\\x1d\\ra���X7)-�\\x18�k�Q�1�c11�\\x0c\\x19(�\\x14\\x11���\\n�<L\\\\�a\\x18�I\\x0cRnː�bZ\\x1d\\x08�\\'�\\x13n�;8�w��x�\\\\�-�+ĠM�,�9�:\\x10�\\x11�\\x04e���\\x04>a�\\x17\\x1d\\x01�D���H��#��\\x01���\\x18�\\x1f\\x0bu\\x1d\\x0c�\\x12<AGŰ>|�~���a��/����pE��~�h\\x0b~e81w6e�t���pm{��lfay�2m:�͐��\\x02\\x0f\\x0e���>x�~�\\x16��i\\x07Z��-\\x0fŨ�.�%�X�\\x02w�Iͳ-\\x16�%3\\x1a�Y����gpa,z\\x1aɄ��\\x0fN�\\x00��y��T\\x01��.�V��j\\x13ů�\\t�\\x14ӗ/�μ=�\\x07\\x11�e�\\x01���\\x17�#7\\x0bؖ�E\\x01p2\\x18y�E��^���.�O\\x0b�\\x12��O��m\\x08֝�I�\\x12�/��x�!\\x0b!�9�@g�\\x17f\\x00ˎY\\x0e�2\\x0e�\\r��\\x14hɘ�.g.�<70;$���Hcr�r�53\\x101���ڱv�O\\x12�O���?��u\\x10㛟.���\\x1c\\x1e�3�gÛ��}�N!\\x19g��G�/��=\\x07E��6\\x07�\"ƀn�\\x0b^��\\x7f+\\x00p��~1�{��ۣl�7E�!��{�����\\x06��NAC�9rsw�o�r���\\x06����vC�C�G��x�H��~�w>#��O_���(C��.�>�\\x00�\\x18\\x03\\x1f,pXq�\\x1f��:r=�OK~?�t��.��f�\\x1b~��Hq!\\x03`\\x1e�\\x0f\\x1eݤr\\x0f�q0|n2}V�|�*\\x01z\\x0e�B�B�\\x1fԩ��/�-\\x1e\\x7fBw���9����m�����Ş��\\x0f�o<~#i�q��}�]�NK�C��\\x03\\x03=��������#u����_\\x11��@{�#���C\\x069���8\\x13�Nþ2~\\x11�X\\x07\\x041��h>����ïW\\x7f\\r���\\x06����~��#>��\\\\��?S�\\x03�\\x07\\x1fi;��\\x05�C��L�cm�<�0�����o�\\x11�y������\\x14��[9��~\\x1f��\\n�<H9v���l��_���\\x00�yG�x��[��NR�k\\x0fy���\\x1f?�|j�\\x7f��?��\\x1b�����\\x00\\x1b�����tM��w\\'7�g{<罾\\x08\\x1dD\\x1e�-z�\\x1c���\\x14���\\x0e��@|��/���-�%�\\x08�P�\\x01*\\x0e%-u\\x04i\\x10�啒{��?h\\x1e�$�F\\x06\\x00�M�<��ڧ���f&�w\\x1cF6\\x1d�,ܧ\\x1fo{�n4�˟X�U���I��\\x10�x$\\'.\\t�\\x0e� Rv�\\t�?��ܐamŤ���qd6�sO��n\\'\\'kط��RF6~\\'�\\x05��ͤ���,���g<��\\x7f�C�\\x00\\x0f\\x19\"%�L\\x1aܮ��OI\\x11�B�\\x000�� l�1٬Y=\\x19�b�?�O�ŗ�/�Oe�wtv\\x17n���w/��:{�����\\x00\\'\\x10\\x01\\x00\\x02\\x02\\x01\\x04\\x02\\x03\\x01\\x01\\x01\\x01\\x01\\x00\\x00\\x00\\x01\\x00\\x11!1AQaq���\\x10������ ��\\x00\\x08\\x01\\x01\\x00\\x01?\\x10�\\x00�i�#�`�#�N�\\x03�S��1��EA\\x03\\x1d�S�\\r\\x10�\\x1dʪ\\\\~\\x04+0�P��\\x19�R����\\x05�\\x14�k�\\x10� .9��D%M&\\nb� \\x04`�̕\\x1a�^j\\x058��!�rǼ�:�w\\x11�\\x10á�\\x00�j3�\\x06jv\\'\\x05K��V ��+P=\\'F<�5�\\x0e� ��Bb��2��Ĭ�\\rL\\x13\\x04�q\\x0e`\\x13R�`���\\x15��31n\\x1d��QĦX�+E��+\\x13�\\tX��H�UMB0�1�M��\\x16��%\\x13�\\x1a���D\\x12���\\n�\\x1c\\x10HY��� d!\\x1cTlQ\\x18\\ng�W:��J��\\x02\\x1fY߀\\x1b�K\\x11P����\\x14dTܧ70nZ�Mu0�]�:�;������l�v\\x0bI�̻I}#�q\\x0c.7�\\x11\\x0b<šq\\x13��w(01��K�\\x17�C\\x19�&S\\x12�\\x06\\'bY���oX��\\x04�d6|Gi\\x01�\\x06\\n`����s.\\x00�H����~%\\x1b�ȋ����b�h�.Tb\\x0ea-�\\x1ab�cu�\\x12�aas+\\x1f\\tB\\x0cNY�\\x11��m��%/\\x12�ܺ�bv��Wp٘J7��� 1./�%�桕�~���N`\\x05\\x19�oP+$�\\x11f )\\x1c�Bg\\x12�\\x08ҌFn�\\x08\\x10�Y3p�\\x7f\\x06Z����w%�j��\\x02��\\x1d�\\u058b��*�X\\x18�r�3�ƴ�Շ@�5ܰ�\\x04\\x01!�Q\\x15\\x01n\\x1320Ua\"b\\x10S\\x12�\\x1cJ�ü\\x03�\\x057/�\\x175K\\'n3P1���S\\x12;\\x19�\\x04����%�a��s�������SR��\\x12�\\x0c�u\\x127p�˹�)p6a�l�ͱ��\\x18�Ar�\\x1c �\\x17mL���̂愩k�\\x06V3\\x1eFQ�S\\x11\\t3�R\\x1c�֘\\x13k\\x15��\\x1c�t�+q\\tZ`�\\'fv�T~�)����D\\x13���JS,u�*���:����\\x10U*X\\x11j��\\x17)B�)0�7\\x1a�(���JUq�+\\x15�\\x04%�E�\\x14�\\x02��0�\\x00e��#���e�&G�Tf=IefQSS�\\x01P�\\tP�\\x13\\x12���QȘe���b���D^��2jWĪR\\x04�b\"���#(��\\x04���L\\x15\\x1d�@5pF*p�Ud�K7\\x15oQ�4��\"�í3%�ã\\x13���L�E�\\x08��#*�\\x00���6^\"\\x15fȥ�\\x14��������\\x11c���`Ô���\\x06�7+K��LYjE�9��\\x1e1\\x00�B� E\\\\\\x131p�ڄ�\\x06�\\x015PoW\\x04�+1\\t�\\x01\\x01r�\\x03\\x10:M9��\\x0c̼ħ\\x10[�\\x16Z�P�\\x13,���e\\x0e%\\x11��\\x1bELF�K�\\\\�\\x05�E-\\n��D\\r\\x08�\\x0ef\\x19@�a\\x00ن\\\\�L\\x0cu���(\\'L�\\x10�)�H�\\x16J�3�s6�٘LC\\x06%\\tE�%J�1\\x16\\\\��M/s\\x1b0J�\\x18�y��\\x0cQ�u�\\x10�\\x1d�\\x7f\\x00���F\"#�M��\\x1c�\\x11����.3\\x05a���\\\\\\\\\\x08�H��l<çx�`DT������b&\\t��\\t5\\x13�&�%���v�Z�\\x00\\x10��9&\\\\E�\\x16\\x03�uC(;�J��X4�:!�(��\\x04ƥ�Y|q��K�O3���q�,5fV�9J��-��\\x1d�L�E�$\\x86Pc\\x16�.g1ZTiļ�!q2#\\x0e\\x08�3�\\x15�\\x0es\\x05?\\x03@�فuH�A\\x1d t@�\\t|Fr�\\x02�Y\\x03�j����F��N�\\x1dMv�\\x17s���6r�\\x04��G�*�X1�pc��Jۉl�\\x1d�2�Kh�0��v�T�p�%�%�����prԥQ\\x16�͠P1�q\\x10���[\\n?���P����.\\x15Rʈ^\"�1�x�Lm\\x7f�FUY��5W1�5\\x039�9�5(�a�J�0��\\x1egln�\\x06�ҮXDql0��\\x1e햬f(�;\\x10PlJ32\\x08ļǤ�3ދ[��r����X���!7;��-R�L�3\\x15\\x17\\x1c&\\x06b���f5,�\\x00J��Z�5��jXV�i��\\x1b.`ܠ��;��4f_Y��4�W2�f\\x0c��\\x18dW$7��\\x00\\x19�$w�\\x1ef�1�\\x11Tߨ�\\x10Z�2�,��E�D�xa�(�Z��Fb7s�\\r��\\x1721�D=%��W\\x11Ȱ$*ju�Q�\\x04\\x10�P\\x1aJ$\\x01���.�\\x0b�C\\r��n�\\x00\\r�\\tԦȏ�1�P����\\x02�2ن̐\\x0c�\\x10.��o�g�\\x14\\x08��%\\x17�j�G\\x13�K\\x1cD\"�S�!\\x0c-Թ��\\x02&\\\\J\\x05��D�P�\\'M\\x12\\x04�;%V�6\\x01��K��\\x1bĹ�٘\\x1a�J\\x06\\'I\\x06˔�D\\x0fIa���(��T\\x11\\x19����&l!�D�íG�3�)��n).8+��1����\\x18!&C\\n���Si\\x1by�j�H�\\r� \\x178�\\x03�\\r0\\x063\\x05y�0\\n��-�� �0�\\x07�\\'�4c�\\x12�N\\nuv\\tf��\\x00\\x1a\"X�\\x13���\\x0fK�(��w��\\x02r\\x18h����@ \\x00\"dN\\x12\\x0f��,U\\x08w\\x04�8\\\\��u��%d-͂Բ�C]`�G�������\\x07�ˡ�=\\nL�Ղv�\\x17v1�#D\\'l�d���\\x15�\\x05]Q��\\x10\\x19X�V�]X�.��7\\x19@��-S6�\\x00X��\\x04\\x04�[\\x19uj\\x0cj\\x10�\\x02�@\\x04\\x0cK���\\x11\\x031\\x0e�A\\x04\\x181.\\x18\\'\\\\�x\"���\\x1b��\\x1e\\x04\\x1e�PK\\\\B2 nBӲ��y�5�h�7��:8�6�\\x07��gz\\x01@\\x08dGI�\\x11�\\x18P\\x05��7��a�<��ƩE�h5�s�\\x1f�\\x04��o�-�\\x13\\x15\\x14e�e5~9=��\\x14.�F�@\\x17\\x1b�̜0)G�ӻ�\\x04\\x1aU\"�o��\\tU�����f\\x11�\\t\\x1c�\\x007�\\\\���\\x13F�\\x19-)�0��(�\\x0e�W\\x0eT��\\x07 5�+K�`�4!�\\x17S:�����%K\\x00���aR\\x06�K\\x00x�l\\x11����Cب���V\\x98�)�5�\\x00�M��0��d1��E9��p�w\\x06����PɅ�\\x05��!�D>�]�\\x15�EЫع�Y6T�Z�ΐ��]G[�T��E�)3ɜŤ�\\x12�S����=�j��\\x1d�VXFJ�+A�e��\\x15&�F���\\x079c�\\x1e\\x05�F\\x1c�\\x10xR\\x05{5^��\\x18ǡ��|�--\\x17�m�\\x15�0.\\'B�\\x07`��D[�@^@ŏ<2�>�M��f}L\\x1b��y��(�yW,�E\\x0eu�\\x15�\\x010DeL)נ�\\t\\x149#nUߘ�ki���\\x1a����k�j[��\\x7f\\x14B��e��㘉l,i�B>!��\\x15p\\x0bUq�a�\\x1b�%y\\x11�\\x12\\x1c�\\x1e�%\\x10#\\x03\\x08�+��M0N.3��F)`�F[a�a\\x1e��\\x133\\x03U\\x1c�\\x11���0�\\x13�\\x00��?I{�B�}D\\x12�\\x05�\\x01h�)�<P��\\x03��n%f��c�\\x00Ѿk\\'\\x11V\\x07\\x02\\u074b\\x18���*�\\x0e�.)XZ�)�\\x02�FW��{�d�>\\x08��ѵ���%\\x1b��:W\\x125T���}q�b�W�k5��Y�LJ��TG3{EX*�g�\\x07\\x11\\x06ƶ��o��\\x01z��d\\x0fwLw��-ծ��\\x1e\\x16c\\x01\\x1f��}��\\x1a\\x1f��=5\\x030\\x0ft�\\x07Yo`\\x02�\\x01�q���6\\x0b�_�b[?�J;�\\\\bn�,?��B�1yQ+R��6�\\x11�Ze\\x16��\\x1eIn`Ɣ��G���\\x19N#Mf\\x0c�K�7����o�\\x08���\\x11у���2\\x19�)���\\x02TG$n���\\x12�!��\"3\\rG�\\x1a\\x15\\x00�\\x140�YX¤��\\n�Y�\\x0e���\\x17���-tr�C�y\\x03��\\x1bДɰDJ�;�0\\x06⛗\\x1b7w��\\x02�߱\\x01O��r>[�\\x0cg����Av�+�\\x7f\\x0c\\n�,��(��\\x0fH��R�����\\x00V;\\x01�\\x1f\\x7fR�k��q�\\x1c\\'VV��+\\x05\\x04\\n!��\\x00f�b_�-���\\x00S�`\\x1f�5\\x17\\r\\x1d�\\x0f�[�e]�\\x1a�*@xx\\x0e�tr�\\x0e�\\x10\\x19���}�X\\x01m�?IB�3�dJax�W�(�䱌��\\x06��b(X��f�m�z���r�Ef��l���\\x01�V��\\x08�\\x00d�YJ���\\x1f�\\x12?���\"�W�U�x����\"\\x15dg1h\\x13\\t,�\\x10�$\\x1cʜ�;��G�D\\r�\\x05��?�Q�\\x0bӃ��b��}ĸ���<%>����L\"���,@��Qk\\x17e)v��\\r3\\x06\\x05��\\x00P�\\x13�\"\\u07bd0�\\x11�\\\\\\x1f�%*1(��=A��i�\\x1afė��7e��p�+:�\\x14�\\x07�\\r\\x0b\\x16ya\\U000adcd4��Q�}EU|\\x10\\x17lB�\\x003\\x1a��F/+\\x07n�m\\x0bY�gP��\\x10�p*\\x0f�㡍1��#\\x01�^����e\\rVO迹R�[�\\x00e���0s�\\x16\\\\�\\x16�X�Yo\\x04��\\x130�)\\x00n-\"\\x00�\\x11N�\\x12\\x7fQ5ZW�U�<\\x0e#Fe&cA�\\x051Q.7f\\x0b�\\x1cL�\\x12Ȅe��Ų�p���h5qe�#r�\\x04 ��\\x1ak\\x17�:\\x1b*��b�\\x0eP�\\x16��\\x02\\x0eg\\x06V\\x7f��v\\x01Iм��H�6\\x12]͵�t\\x1d\\x12\\x0ek�1[�\\t\\\\�ʰ�3 \\x1e\\x07\"��\\x1b:r��{���\\x08\\x0fn���ihw�2��v����Yi���X�M\\x02�$*4\\x02����\\x1b<xl�F�c��v\\r\\x04\\x14\\x08��\\x0c�묪�\\x01pQe\\x1db��mzZ\\x02�W[�� \\x07\\r=(\\x0fc\\x10���\\x0b\\x0e�}ˌ6��e�\\x03��m8��o��Q��\\x06�}�\\x0b\\x1f16��&L��m\\x10M\\x04��1�� �xc\"#/Q��`\\x14=�Yc�$��_��g��+\\x7f��1���B�K��da\\x0b�Z,�3ۄ\\x1a\"\\x16� Z����\\x16Tuu�9\\x1e�&t���W�R\\x11�\"���oh�O�\\x12�\\x04z��I�\\x06~\\x10�\\x05���\\x1d@�n�M5�f�\\x00Zm����hd\\x0b�J\\x13�Ye��e��\\x07�>�\\x1e��0�zz�8��Yk���1\\\\Mу�4\\x1c��L^mڵ�_/\\x15-�\\x16\\t9\\x07#\\x02�FY��\\x00CȐ09tFױ�\\x0e \"-����\\x10�0��\\x0b��Xe��6/\\'��;K\\x7f>Om�\\x01\\x18��2��&I`���(�\\x1c\\x0b�\\x04\\x17mu�9��3�!`\\x1a�,/̷�K\\x13������ٷĨ�\\x16g�\\x11Wy��L!\\x0bԗ����\\x0f_�V�\\x12�ع�ui��\\x1a�#\\'�z_r݄�� ̀@\\x18,Aa\\x18)X�W���bT{��\\x10tKVJYL>?�\\x07�bo!���\\x02`�kLb�\\'��W6Nc\\x1bV�\\x1c\\\\rS����t�E\\x00����e���\\x16s�N%\\x1c���3�\\x19z\\x07\\x0f��9\\x0e!L���e����9a.\\x06./!��0@3�\\nf�a�]�隮��|A6]�����\\x15\\x15��\\x0c\\x15M\\x7f#I�������[���A=���\\x16\\x19��\\x0f\\x17\\x1e�\\x17�k\\x19YrA�v���_\\x07�x&b��3Zy����w�ss;\\tn\\x18��p��U�����Y\\x15�%VO\\x15\\x16��b��w|��\\n�\\x14��]�{�\\x0f/h�\\x15y�g\\x0fy�~\\nj�{D\\x05\\x18r�e%uh��œ!Y�\\x10�\\x03�\\t�Ib����]�\\x1b���xA�\\'\\x1c�B�hp\\x12\\x0e0+��e\\x18>\\x18�`�h�w4� �j\\x17���\\x04��*���F�uV����>�\\r7P\\x07PS/�}^�Z�\\x03,g�\\x1a\\x19�\\x03A��c\\x0e�v`�Xm֜�\\x0e\\x13Q(_l¼(�\\x00�����O$&\\x0b\\x1b��\\x0f�8)f\\x0c~�מ�\\x00�\\r�B�\\x11&@�\\x0b\\x05v���\\x06\\x13ٌ���\\x12T\\x17H\\x18�6\\x11\\x03�\\x04az%\\x0f\\x17�\\x0c�{ĭ���ʡ-E� \\x086�E����N\\x17�\\x0b�<@�G�«<��o1eS�`\\x01\\x15��T�\"�ϙ_��a�f7\\x0el�Z\\x1ec�&���.����E�>(� \\x00�bJ�bP��ar��`,\\x11\\x07��\\x19jN�ż�\\x01�l���v�&��6K�Y�5Tl���d\\x00��\\x0eS(\\x15\\\\,���X\\x1b)�̡��F袣�Ϯa���������G�����\\x01��k\\x1ds\\x1d\\x1e�a!J9�\\x0c��ȏ� �6�&d\\x17�\\x1a�>�e�N���\\x00��\\x00�Hr�\\x15Є�\\x05��\\x16���\\x1b�\\x1c����[�\\x1bA<N0�g�A���\\x01��s�H�h���^ \\x16_\\x10���\\x18\\x03�\\x17�y�[���]��;TO\\x12�\\x03�~\\x08�.ҕm�\\x16�p��\\x11p�)7y�E�1\\x1a2���-G\\x16��\\x0b\\x1b�u�_`�kn�� \\r\\x0f����a\\x10��R\\x12�}K\\x00�\\x066�rӲ�-\\x04+K,\\x05M���3�l8p�uR\\x07\\t/u\\x18`�\\x03���\\x08��\\x0f\\x0e�t�þ��Ϋx�\\x13��\\x0c{S�\\x01S�ђ�x�L�a��в�-��\\x00\\x081i\\x19ʇ�3�Q�He-%h\\nz�DrB��u�V��\\r�\\x13zf\\x0fa�6�`+�\\x19�\\x00>��/rث�aў�\\x0c����\\x14�\\x11�.\\x00�0ٕ:E�\\x1eY��p�\\x11f^�B5�&\\x19pPpP��v�\\r�\\x04wZ�^e\\t�\"�T�0���8<�\\x1c\\'�2�ʛ�e_��\\x07��]�����,A0�@�!\\x18*QY�4#\\x1d\\x1dz�b�\\x19�e�{��_��\\x01\\x17�e�\\x0fӧ��n\\x14�\\x1c��\\\\0�`\\x1f��\\x07�pm��;J���\\x00;�1l�0x+n3�%��2�)Wڢ\\x14�K�S�o�U\\r�6Բ��\\x00��\\x0ba�m6�\\x1d�]U=KD14U|��\\x7f\\x10�Y\\x1b&\\x1cx�5����s�:C\\x00#�������ST1X#рh�$\\x1c+gF[A���\\t\\x0eS�1\\x1by!��T�\\x08�,��|�M��I0��ҡ����K�y�R���\\x04`���X��sR��)�y�\\x1aA�M�5�<2��\\\\�\\rI̽\\x1f�[E��ץf<+���\\x01;�\\x0c�zb�\\x00s��\\x00er�Ҫ�L\\x15R�� Xd<��\\x06\\x10@\\'5��\\x0b�Z�\\x16\\x04��\\x1eXhW�\\x1a��(S�Z#\\x14�c���Rw\\x12\\x11�\\x0b��\\x05f�����G���lxNFl4�1\\x06Hf�G��\\x00�\\x00�\\x18\\x17\\u0a3bM[��\\x04���\"�7\\x08\\x19�Z�\\x03�5s\\x13��_�e�\\x15÷Q���`v��v���|��/x�l��\\x05K\\x0e�_W:�lZ�����[\\x00�̠�\\x1ac�\\x1d���4\\r�C��\\x01\\x0cXGT��ڠ��q\\x013�U�����#���ޣ��j%\\x10�F�\\x0c\\x15�ꤻ\\x18z\\x05����[P�\\x00%F��ך�Y������8�~�f��G�D�O@?w3A�O�\\x15T\\x7f�\\x10�Ǖ��������+\\x16R��/�<+�\\r\\x17�f9`�E��\\x02߲��&?�2�ۢ�ճ\\x07v+Rb�\\x1f\\x04EX\\rX�\\x00�_/�JJ\\x16�Rv�X|ǃo�O�\\rN�W�\\x07 /TL1w�P,A\\x01��\\x10խ<_�u�`u�p\\n��O�8����~�\\x05�At�p���O�0�4��\\x1aľ1Z\\x02���]۳\\x01\\x7fqz��̋)5|x���0T\\x17���m;`\\x04�n�\\x05��\\x03b\\x18�z�\\x14���w��\\x06\\x12�n�z����\\x1fc3q\\x1d\\x7f�\\x0f:8l\\x7f`7D\\x0b��<m\\rG�\\x0b?�9��#{%��\\x08\\x18��\\x00�J?+YH\\x1d��\\x1d�#\\x03[�\\x08\"�\\x05��\\x05�\\x19;F�����\\x01N�,=J?73x\\x07�\\x08�IEd�[�\\x18l�\\'�s\\x04G8�TG�X�\\x1b��\\x076��\\x14L��QG9ُ�)m���W�(K�0?�P%v�\\x1cQ�W�ފ%\\n�i\\x07��A�������E\\x1f�����?�5\\n�)�����/=�j,\\x02�K@����x�WYo��L�Pi\\u0605<B�ްGUU�2�\\x01����u��;��/S���\\u0381\\x17��\\x0f6��i\\x18��\\x1c��\\x01�%\\x13Ե�\\x0f��vJ4\\x0c�*�$\\rȼ�%�.���\\x00\\x16��0�Q�\"�\\x10M\\x1f\\x06\\x15�@6\\x00��\\x0270���,Q!w�b�\\x0cJ%\\x07B�v��F���䅮\\x07\\rG�n\\x1b��\\x05Kxav��X\\x0c\\x1d\\x1e^b�^�����Qx���P\\rs|R�����U�*�\\x01-8w���R,g���a�7h\\x07���\\x02���\\x1f�g.C\\x7fQ\\x15ɬ�G\\\\�:�V�>\"���\\x07�\\x17�]\\x0f�/���O�\\x1c��S\\x1fS�|Ȼx#~�\\x1d�w\\tL�����\\x7f\" |�\\x05��7� 7�F/���b�\\n�-\\x01���\\x0b��-����\\x05|�[A\\x7f�\\x19\\n@2�g,\\x02a2�����i�L���R*�9���_���\\\\��1�+\\x1f�\\x0b,s\\x1f�!B�c�2(�\\nC<��#h���s��#\\x00�\\x08��\"�\\x00e\\\\�j�]�1\\r��J��� �f�S\\x03\\x15���,\\x1a�J��\\x02m�zD/\\x01Z�ݼ&:\\n\\x1d\\x05A�@�b�\\x1eF�\"�%�k�T���\\x05A\\x1a)�\\x024c\\x05�,c\\x11�\\x1bz ��\\x08����7W�X�ۨ���\\x08�\\x01}&q6��6\\x17�ߪ\\\\L\\x11�j��n\\x0b�e�\\x02�3\\n4K�<3�{e\\x1b_h\\x7f���<(>W�\\x0eB|�8��\\x00�N%�cm\\x1f\\x18U��\\x0c|�\\x7f�ڝw\\x7f��=�\\x00�\\rd�\\x19~��d�(|C\\x07F��gԻ0\\'`\\x0bK�\\x1fU��nJ,�^���(\\x10%��)���S�`�\\x13��9C��8\"��\\t\\t|�\\x11_a��`n\\x0fr��ڢK��\\x1e�P:Jw\"�G��W�\\x18mzT\\x01�(_BLI;�R\\x1c��Ԩ�)�a�Cڗ�5:y�\\x01�M�y��\\x1a_Sr�VbS����#W?1E\\'v��vTt?����e\\x16�\\x14F\\x06�7��r�\\x1e\\x0bj\\x04��I�jjm�_r\\x15��\\x01@�����hBS���.J\\x02��_\\x0f��ş��\\x00�����\\x00���{A�=��7�2��oh�Ǵ+�&��y���h3O�\\x02��Cty\\th[�0�\\'�۹��P\\x07���\\'����#��kb����Խ�\\x15\\x06���i�똦��/1R����\\x03��\\x10���\\x18�%�W�\\x08H\\u05cf���\\x12�\\'��ºb�h]��\\x00��\\x14�\\x7f��A��\\x00%BP`��e{���\\x1a���x.�k�OX�\\x16����\\x01Ўɽ�6_�\\x0f�~#�| ��\\x04�, ��\\x0cbKY|�O�\\x10�_��\\x1b4{?�1\\x07H=\\t��G�+�\\x0fR�y�`�n�R���\\x00EI\\x7f\"L\\x1d��K\\x19v��O�=��\\x05j�Κ��d��V�|��g\\x04N�\\x13���.��I�\\'\\x0c&$��������\\x9c�\\x10\\x19��n9�GW\\x0fr�\\x10�Ţ��h`F \\'ڙF�\\x003$��8��5c\\x12�[��l�OfW�E\\x17\\x01�\"�0�\\x0f��\\x17�A��ʅ�BE�2�\\x18Ɲ��ءɄ\\x07�����\\x00�e\\x1cE�)[u�ƌ������\\x03K~��D6ȧh�p!�`��\\x06\\x16�\\r��\\x1c\\x0eɘ������?��Q�\\x14�`�\\x0b�⢞��\\x00�\\x0c�¯55j\\x17�\\x04�6O�\\x0b~\\x06n^�º�̲-E2����*��6���%}��\\x00�\\x15��\\x17��\\x14]mΎ��/�� ���sD�\\x18�/B���4���\\x18k�+`J��.\\x15�T\\n�c�#\\x00��\\x1bKGK�_�\\x10�\\x0b\\x05������\\x11�{ �>j\\x15��\\x04��,�>��\\x1c}�c+�`\\x06ާ!�Lr���n�Ԍa[�\\x17Sw\\x0e\\x0f\\tX$P�啈\\x15�ft��\\x04�\\x1f\\x1a�\\x00U*�\\x06\\x16�X(0\\x13)4\\x13\\x7f~�\\x1c/�1W:�r�\\x0c̥%)���\\x1fp�û6�m�[C=�GEu�8�0��G���Pd4�x]�78�\\x1f�P\\x06\\U000ab1f4� !��|&�^��|�HA���EˋL�\\x07��Ope�ܼ�y`P_\\x12�\\x1f�\\x17��\\r���\\x00\\x0b\\x03�\\x03�\\x03�:��PX=Cb�*\\x17X�J\\x12\\x0e\\x16_��߉�\\x1f�W�\\x00���0�\\x7fq\\x1a��8�:���\\x7f�=���?Ŗnצ0-�G\\x04}�7j��q�|�7���P1;:�OR�U�<�a�\\x0e�K�:�hŒ��K\\x05 �a\\x11C���t��\\x03�9�\\x142q=\\x12�\\ro0�r���Ľv���\\t��|�0\\x085\\x13)N�-\\x0e˙�\\x1feB,ӹ��,��oO�$�\"\\r\\x1f\\x19�\\x7f\\x08\"�U�\\x044�\\x0fQק�/�!E�=���#a=�\\x08o.\\x1f�߂\\x10�)KtJ+7��`�\\x0b����hC<�{�̴�+�\\x03ȕ2ʎ3�q�� �lB\\x03o�GA�R+�*x������A����WZ����IN&��:)s\\x10�n��Aҡ�1���r%�J\\rz![�?Sv�q\\x12���5��@�\\x04�*ZT̸��\\x11�T\\x1d�)���Cpv\\x00\\x02r\\x15\\x03 �F��\\x1f=ٸ�\\x04\\x1e\\x16\\x19K��\\x10j�\\x02\\x12��\\x04m�g�\\x1a��2�K�!rK����e�\\x7f$FW�Ķ�\\x7f�\\x1e!}%v��L\\x18��\\x002���V7\\x14|���E%\\x16{�3O�)�|�r����;�:|�A}�t��\\x15� ��^�|�|>�S?0yDf�u*|M\\x0e����\\x08\\x08p=^��ݫ�21�:J\\x0eAX�%`0�V.)wD^�\\x1bk2F�\\x11#\\x1d��\\x0c��\\x17�r��m���Tck\\x10�\\x0b�U�a�\"v3�?�\\x04�:J��6\\nl�\"�M��s6S�\\x13b�˥7���w+�f�=K���\\x1e�3 u\\x02Y�j��i-?�\\x05��Φ\\x07Lg\\x10\\x06��.�;Ϙ���\\x0b�y�=Cu@��P�g��HcH�\\x19�2\\x1e�\\x1b��\\x13�+�E�4EU�L��Lڰ�JR�9�?�\\x0f\\x11���N�,�/�2�z\"UF�\\uebdf�3\\x11W�$ �:�Jbj\\x0b��vu\\x7f����&/LBԙ%;�@����\\t(�\\x02�ԹE��\\x12�Vy\\'�Ra?P�\\n����Β�\"����J�\\x18�*�-�g�1p��\\x7f�rи[-�[�\\x04J\\x1c|�0�����\\x00�.�G\\x1a`��R�F��0S\\x14���� �7\\x12�\\x15��\\x18k\\u0530�r�\\x0f�hd4�-w�h��:\\x05\\x05�\\x02!J�. 3]Z�S+>�y\\x10\\x03�\\x14�!m,5E�\\rk�A�T#[u`�\\x02=̠\\tU�j�6\\x0e���l{�\\\\�����eRS�>c��)[�\\x0b鯪��N\\x18�\\x00�2�|GF�_^Q%��R;\\x120��\\x18�ͅ\\x08�T�nje�Z\\x7f��\\x08�\\x05�\\x0b�\\n�T\\x17�oXuaםTHո]��Az��ckl�3�@\\x05\\x01\\x1b\\x1b\\tMJ�\\x14��Rec�\\x12�\"��,��5YE.&�NJ���(\\nІ�b\\\\\\x05��\\x08\\x06.WCV�\\x00Ax`aE�\\x00�\\x01\\x1e��V\\x1f��\\x1e_�mJ�2�A�q�\\x00h���c�E��0[6�U\\x14�3Q;CiK+L��:�ic�<&:�\\\\���'"
      ]
     },
     "execution_count": 37,
     "metadata": {},
     "output_type": "execute_result"
    }
   ],
   "source": [
    "img.text"
   ]
  },
  {
   "cell_type": "code",
   "execution_count": 38,
   "metadata": {},
   "outputs": [],
   "source": [
    "import matplotlib.pyplot as plt"
   ]
  },
  {
   "cell_type": "code",
   "execution_count": 53,
   "metadata": {},
   "outputs": [
    {
     "ename": "ValueError",
     "evalue": "embedded null character",
     "output_type": "error",
     "traceback": [
      "\u001b[1;31m---------------------------------------------------------------------\u001b[0m",
      "\u001b[1;31mValueError\u001b[0m                          Traceback (most recent call last)",
      "\u001b[1;32m<ipython-input-53-0ed9b3cc636c>\u001b[0m in \u001b[0;36m<module>\u001b[1;34m\u001b[0m\n\u001b[1;32m----> 1\u001b[1;33m \u001b[0mimg\u001b[0m \u001b[1;33m=\u001b[0m \u001b[0mplt\u001b[0m\u001b[1;33m.\u001b[0m\u001b[0mimread\u001b[0m\u001b[1;33m(\u001b[0m\u001b[0mimg\u001b[0m\u001b[1;33m.\u001b[0m\u001b[0mtext\u001b[0m\u001b[1;33m)\u001b[0m\u001b[1;33m\u001b[0m\u001b[1;33m\u001b[0m\u001b[0m\n\u001b[0m\u001b[0;32m      2\u001b[0m \u001b[0mplt\u001b[0m\u001b[1;33m.\u001b[0m\u001b[0mimshow\u001b[0m\u001b[1;33m(\u001b[0m\u001b[0mimg\u001b[0m\u001b[1;33m)\u001b[0m\u001b[1;33m\u001b[0m\u001b[1;33m\u001b[0m\u001b[0m\n\u001b[0;32m      3\u001b[0m \u001b[0mplt\u001b[0m\u001b[1;33m.\u001b[0m\u001b[0mshow\u001b[0m\u001b[1;33m(\u001b[0m\u001b[1;33m)\u001b[0m\u001b[1;33m\u001b[0m\u001b[1;33m\u001b[0m\u001b[0m\n",
      "\u001b[1;32mC:\\Anaconda\\lib\\site-packages\\matplotlib\\pyplot.py\u001b[0m in \u001b[0;36mimread\u001b[1;34m(fname, format)\u001b[0m\n\u001b[0;32m   2133\u001b[0m \u001b[1;33m@\u001b[0m\u001b[0mdocstring\u001b[0m\u001b[1;33m.\u001b[0m\u001b[0mcopy\u001b[0m\u001b[1;33m(\u001b[0m\u001b[0mmatplotlib\u001b[0m\u001b[1;33m.\u001b[0m\u001b[0mimage\u001b[0m\u001b[1;33m.\u001b[0m\u001b[0mimread\u001b[0m\u001b[1;33m)\u001b[0m\u001b[1;33m\u001b[0m\u001b[1;33m\u001b[0m\u001b[0m\n\u001b[0;32m   2134\u001b[0m \u001b[1;32mdef\u001b[0m \u001b[0mimread\u001b[0m\u001b[1;33m(\u001b[0m\u001b[0mfname\u001b[0m\u001b[1;33m,\u001b[0m \u001b[0mformat\u001b[0m\u001b[1;33m=\u001b[0m\u001b[1;32mNone\u001b[0m\u001b[1;33m)\u001b[0m\u001b[1;33m:\u001b[0m\u001b[1;33m\u001b[0m\u001b[1;33m\u001b[0m\u001b[0m\n\u001b[1;32m-> 2135\u001b[1;33m     \u001b[1;32mreturn\u001b[0m \u001b[0mmatplotlib\u001b[0m\u001b[1;33m.\u001b[0m\u001b[0mimage\u001b[0m\u001b[1;33m.\u001b[0m\u001b[0mimread\u001b[0m\u001b[1;33m(\u001b[0m\u001b[0mfname\u001b[0m\u001b[1;33m,\u001b[0m \u001b[0mformat\u001b[0m\u001b[1;33m)\u001b[0m\u001b[1;33m\u001b[0m\u001b[1;33m\u001b[0m\u001b[0m\n\u001b[0m\u001b[0;32m   2136\u001b[0m \u001b[1;33m\u001b[0m\u001b[0m\n\u001b[0;32m   2137\u001b[0m \u001b[1;33m\u001b[0m\u001b[0m\n",
      "\u001b[1;32mC:\\Anaconda\\lib\\site-packages\\matplotlib\\image.py\u001b[0m in \u001b[0;36mimread\u001b[1;34m(fname, format)\u001b[0m\n\u001b[0;32m   1415\u001b[0m                              \u001b[1;34m'with Pillow installed matplotlib can handle '\u001b[0m\u001b[1;33m\u001b[0m\u001b[1;33m\u001b[0m\u001b[0m\n\u001b[0;32m   1416\u001b[0m                              'more images' % list(handlers))\n\u001b[1;32m-> 1417\u001b[1;33m         \u001b[1;32mwith\u001b[0m \u001b[0mImage\u001b[0m\u001b[1;33m.\u001b[0m\u001b[0mopen\u001b[0m\u001b[1;33m(\u001b[0m\u001b[0mfname\u001b[0m\u001b[1;33m)\u001b[0m \u001b[1;32mas\u001b[0m \u001b[0mimage\u001b[0m\u001b[1;33m:\u001b[0m\u001b[1;33m\u001b[0m\u001b[1;33m\u001b[0m\u001b[0m\n\u001b[0m\u001b[0;32m   1418\u001b[0m             \u001b[1;32mreturn\u001b[0m \u001b[0mpil_to_array\u001b[0m\u001b[1;33m(\u001b[0m\u001b[0mimage\u001b[0m\u001b[1;33m)\u001b[0m\u001b[1;33m\u001b[0m\u001b[1;33m\u001b[0m\u001b[0m\n\u001b[0;32m   1419\u001b[0m \u001b[1;33m\u001b[0m\u001b[0m\n",
      "\u001b[1;32mC:\\Anaconda\\lib\\site-packages\\PIL\\Image.py\u001b[0m in \u001b[0;36mopen\u001b[1;34m(fp, mode)\u001b[0m\n\u001b[0;32m   2764\u001b[0m \u001b[1;33m\u001b[0m\u001b[0m\n\u001b[0;32m   2765\u001b[0m     \u001b[1;32mif\u001b[0m \u001b[0mfilename\u001b[0m\u001b[1;33m:\u001b[0m\u001b[1;33m\u001b[0m\u001b[1;33m\u001b[0m\u001b[0m\n\u001b[1;32m-> 2766\u001b[1;33m         \u001b[0mfp\u001b[0m \u001b[1;33m=\u001b[0m \u001b[0mbuiltins\u001b[0m\u001b[1;33m.\u001b[0m\u001b[0mopen\u001b[0m\u001b[1;33m(\u001b[0m\u001b[0mfilename\u001b[0m\u001b[1;33m,\u001b[0m \u001b[1;34m\"rb\"\u001b[0m\u001b[1;33m)\u001b[0m\u001b[1;33m\u001b[0m\u001b[1;33m\u001b[0m\u001b[0m\n\u001b[0m\u001b[0;32m   2767\u001b[0m         \u001b[0mexclusive_fp\u001b[0m \u001b[1;33m=\u001b[0m \u001b[1;32mTrue\u001b[0m\u001b[1;33m\u001b[0m\u001b[1;33m\u001b[0m\u001b[0m\n\u001b[0;32m   2768\u001b[0m \u001b[1;33m\u001b[0m\u001b[0m\n",
      "\u001b[1;31mValueError\u001b[0m: embedded null character"
     ]
    }
   ],
   "source": [
    "img = plt.imread(img.text)\n",
    "plt.imshow(img)\n",
    "plt.show()"
   ]
  },
  {
   "cell_type": "code",
   "execution_count": 41,
   "metadata": {},
   "outputs": [],
   "source": [
    "import PIL"
   ]
  },
  {
   "cell_type": "code",
   "execution_count": 42,
   "metadata": {},
   "outputs": [
    {
     "name": "stdout",
     "output_type": "stream",
     "text": [
      "['Image', 'ImageMode', 'PILLOW_VERSION', 'TiffTags', '__builtins__', '__cached__', '__doc__', '__file__', '__loader__', '__name__', '__package__', '__path__', '__spec__', '__version__', '_binary', '_imaging', '_plugins', '_util']\n"
     ]
    }
   ],
   "source": [
    "print(dir(PIL))"
   ]
  },
  {
   "cell_type": "code",
   "execution_count": 50,
   "metadata": {},
   "outputs": [
    {
     "data": {
      "text/plain": [
       "'6.2.0'"
      ]
     },
     "execution_count": 50,
     "metadata": {},
     "output_type": "execute_result"
    }
   ],
   "source": [
    "PIL.PILLOW_VERSION"
   ]
  },
  {
   "cell_type": "code",
   "execution_count": null,
   "metadata": {},
   "outputs": [],
   "source": []
  }
 ],
 "metadata": {
  "kernelspec": {
   "display_name": "Python 3",
   "language": "python",
   "name": "python3"
  },
  "language_info": {
   "codemirror_mode": {
    "name": "ipython",
    "version": 3
   },
   "file_extension": ".py",
   "mimetype": "text/x-python",
   "name": "python",
   "nbconvert_exporter": "python",
   "pygments_lexer": "ipython3",
   "version": "3.7.4"
  }
 },
 "nbformat": 4,
 "nbformat_minor": 2
}
