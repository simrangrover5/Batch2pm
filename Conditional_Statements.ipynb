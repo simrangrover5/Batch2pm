{
 "cells": [
  {
   "cell_type": "code",
   "execution_count": 1,
   "metadata": {},
   "outputs": [],
   "source": [
    "#if condition:\n",
    "    #statements\n",
    "#else:\n",
    "    #statements"
   ]
  },
  {
   "cell_type": "code",
   "execution_count": 2,
   "metadata": {},
   "outputs": [
    {
     "name": "stdout",
     "output_type": "stream",
     "text": [
      "True\n"
     ]
    }
   ],
   "source": [
    "print(\"True\") if True else print(\"False\")"
   ]
  },
  {
   "cell_type": "code",
   "execution_count": 5,
   "metadata": {},
   "outputs": [
    {
     "name": "stdout",
     "output_type": "stream",
     "text": [
      "Enter any number : 5\n",
      "Odd\n"
     ]
    }
   ],
   "source": [
    "n = int(input('Enter any number : '))\n",
    "print(\"Even\") if n%2==0 else print(\"Odd\")"
   ]
  },
  {
   "cell_type": "code",
   "execution_count": 8,
   "metadata": {},
   "outputs": [
    {
     "name": "stdout",
     "output_type": "stream",
     "text": [
      "34\n",
      "True statement\n"
     ]
    }
   ],
   "source": [
    "print(\"True statement\") if input() else print(\"False statement\")"
   ]
  },
  {
   "cell_type": "code",
   "execution_count": 10,
   "metadata": {},
   "outputs": [
    {
     "name": "stdout",
     "output_type": "stream",
     "text": [
      "\n",
      "Not got that\n"
     ]
    }
   ],
   "source": [
    "print(\"Got that\") if bool(input()) else print(\"Not got that\")"
   ]
  },
  {
   "cell_type": "code",
   "execution_count": 12,
   "metadata": {},
   "outputs": [
    {
     "name": "stdout",
     "output_type": "stream",
     "text": [
      "printed\n",
      "Not printed\n"
     ]
    }
   ],
   "source": [
    "print(\"print value\") if print(\"printed\") else print(\"Not printed\")"
   ]
  },
  {
   "cell_type": "code",
   "execution_count": 11,
   "metadata": {},
   "outputs": [
    {
     "name": "stdout",
     "output_type": "stream",
     "text": [
      "Hello world\n",
      "None\n"
     ]
    }
   ],
   "source": [
    "print(print(\"Hello world\"))"
   ]
  },
  {
   "cell_type": "code",
   "execution_count": 13,
   "metadata": {},
   "outputs": [
    {
     "name": "stdout",
     "output_type": "stream",
     "text": [
      "Hi this is me\n"
     ]
    }
   ],
   "source": [
    "if True:\n",
    "    print(\"Hi this is me\")"
   ]
  },
  {
   "cell_type": "code",
   "execution_count": 16,
   "metadata": {},
   "outputs": [
    {
     "name": "stdout",
     "output_type": "stream",
     "text": [
      "Enter some value : 10\n",
      "The value 10 is positive\n"
     ]
    }
   ],
   "source": [
    "n = int(input(\"Enter some value : \"))\n",
    "if n>0:\n",
    "    print(f\"The value {n} is positive\")"
   ]
  },
  {
   "cell_type": "code",
   "execution_count": 20,
   "metadata": {},
   "outputs": [
    {
     "name": "stdout",
     "output_type": "stream",
     "text": [
      "Enter some value : 10\n",
      "The value 10 is positive\n"
     ]
    }
   ],
   "source": [
    "n = int(input(\"Enter some value : \"))\n",
    "if n>0:\n",
    "    print(f\"The value {n} is positive\")\n",
    "else:\n",
    "    print(f\"The value {n} is negtaive\")"
   ]
  },
  {
   "cell_type": "code",
   "execution_count": 25,
   "metadata": {},
   "outputs": [
    {
     "name": "stdout",
     "output_type": "stream",
     "text": [
      "Enter some value : -10\n",
      "The value -10 is negative\n"
     ]
    }
   ],
   "source": [
    "n = int(input(\"Enter some value : \"))\n",
    "if n>0:\n",
    "    print(f\"The value {n} is positive\")\n",
    "elif n==0:\n",
    "    print(f\"The value {n} is zero\")\n",
    "else:\n",
    "    print(f\"The value {n} is negative\")"
   ]
  },
  {
   "cell_type": "code",
   "execution_count": 28,
   "metadata": {},
   "outputs": [
    {
     "name": "stdout",
     "output_type": "stream",
     "text": [
      "Enter any number : 20\n",
      "Enter another number : 90\n",
      "The number b 90 is greatest\n"
     ]
    }
   ],
   "source": [
    "a = int(input(\"Enter any number : \"))\n",
    "b = int(input(\"Enter another number : \"))\n",
    "if a>b:\n",
    "    print(f\"The number a {a} is greatest\")\n",
    "else:\n",
    "    print(f\"The number b {b} is greatest\")"
   ]
  },
  {
   "cell_type": "code",
   "execution_count": 31,
   "metadata": {},
   "outputs": [
    {
     "name": "stdout",
     "output_type": "stream",
     "text": [
      "Enter a number : 1\n",
      "Enter second number : 0\n",
      "Enter third number : 0\n",
      "The greatest number is a 1\n"
     ]
    }
   ],
   "source": [
    "a = int(input(\"Enter a number : \"))\n",
    "b = int(input(\"Enter second number : \"))\n",
    "c = int(input(\"Enter third number : \"))\n",
    "if a>b:\n",
    "    if a>c:\n",
    "        print(\"The greatest number is a {}\".format(a))\n",
    "    else:\n",
    "        print(\"The greatest number is c {}\".format(c))\n",
    "elif b>c:\n",
    "    print(f\"The greatest number is b {b}\")\n",
    "else:\n",
    "    print(f\"The greatest number is c {c}\")"
   ]
  },
  {
   "cell_type": "code",
   "execution_count": 34,
   "metadata": {},
   "outputs": [
    {
     "name": "stdout",
     "output_type": "stream",
     "text": [
      "Enter a number : 10\n",
      "Enter second number : 25\n",
      "Enter third number : 5\n",
      "b is greatest 25\n"
     ]
    }
   ],
   "source": [
    "a = int(input(\"Enter a number : \"))\n",
    "b = int(input(\"Enter second number : \"))\n",
    "c = int(input(\"Enter third number : \"))\n",
    "if a>b and a>c:\n",
    "    print(f\"a is greatest {a}\")\n",
    "elif b>c:\n",
    "    print(f\"b is greatest {b}\")\n",
    "else:\n",
    "    print(f\"c is greatest {c}\")"
   ]
  },
  {
   "cell_type": "code",
   "execution_count": 37,
   "metadata": {},
   "outputs": [
    {
     "name": "stdout",
     "output_type": "stream",
     "text": [
      "Enter your choice(shopping/movie) : abcijipejf\n",
      "No such choice available\n"
     ]
    }
   ],
   "source": [
    "choice = input(\"Enter your choice(shopping/movie) : \").strip().lower()\n",
    "if choice == \"shopping\":\n",
    "    print(\"You need minimum amount of 5000 rupees\")\n",
    "elif choice == \"movie\":\n",
    "    print(\"You need minimum amount of 500\")\n",
    "else:\n",
    "    print(\"No such choice available\")"
   ]
  },
  {
   "cell_type": "code",
   "execution_count": 40,
   "metadata": {},
   "outputs": [
    {
     "name": "stdout",
     "output_type": "stream",
     "text": [
      "Enter your job(businees/govt/private) : govt\n",
      "Enter your salaray : 57000\n",
      "Loan will be granted\n"
     ]
    }
   ],
   "source": [
    "job = input(\"Enter your job(businees/govt/private) : \").strip().lower()\n",
    "if job == \"govt\":\n",
    "    salary = float(input(\"Enter your salaray : \"))\n",
    "    if salary > 55000:\n",
    "        print(\"Loan will be granted\")\n",
    "    else:\n",
    "        print(\"Sorry no loan....\")\n",
    "elif job == \"business\":\n",
    "    turnover = int(input(\"Enter your turnover in lakhs or crores : \"))\n",
    "    if turnover >= 5:\n",
    "        print(\"Congrats....you can get the loan\")\n",
    "    else:\n",
    "        print(\"Sorry:(.....You cannot get loan\")\n",
    "elif job == \"private\":\n",
    "    print(\"Tu to rehne de\")\n",
    "else:\n",
    "    print(\"No such option\")"
   ]
  },
  {
   "cell_type": "code",
   "execution_count": 41,
   "metadata": {},
   "outputs": [],
   "source": [
    "weekdays = {1:'Monday',2:'Tuesday',3:'Wednesday',4:'Thursday',5:'Friday',6:'Saturday',7:'Sunday'}"
   ]
  },
  {
   "cell_type": "code",
   "execution_count": 47,
   "metadata": {},
   "outputs": [
    {
     "name": "stdout",
     "output_type": "stream",
     "text": [
      "Enter the number of weekday : 4\n",
      "Thursday\n",
      "You are almost about to have rest :)\n"
     ]
    }
   ],
   "source": [
    "num = int(input(\"Enter the number of weekday : \"))\n",
    "if num == 1:\n",
    "    print(weekdays[1])\n",
    "    print(\"Work mode on\")\n",
    "elif num == 2:\n",
    "    print(weekdays[2])\n",
    "    print(\"Still work mode on\")\n",
    "elif num == 3:\n",
    "    print(weekdays[3])\n",
    "    print(\"Work but dont worry friday is coming\")\n",
    "elif num == 4:\n",
    "    print(weekdays[4])\n",
    "    print(\"You are almost about to have rest :)\")\n",
    "elif num == 5:\n",
    "    print(weekdays[5])\n",
    "    print(\"Hurray......friday is on....saturday is coming\")\n",
    "elif num == 6:\n",
    "    print(weekdays[6])\n",
    "    print(\"You can enjoy not weekend is on...:)\")\n",
    "elif num == 7:\n",
    "    print(weekdays[7])\n",
    "    print(\"Yeah Sunday....but tomorrow is monday :(\")\n",
    "else:\n",
    "    print(\"No such key\")"
   ]
  },
  {
   "cell_type": "code",
   "execution_count": 50,
   "metadata": {},
   "outputs": [
    {
     "name": "stdout",
     "output_type": "stream",
     "text": [
      "Enter any number : 4\n",
      "Thursday\n"
     ]
    }
   ],
   "source": [
    "n = int(input(\"Enter any number : \"))\n",
    "if n in list(weekdays.keys()):\n",
    "    print(weekdays[n])\n",
    "else:\n",
    "    print(\"No such key\")"
   ]
  },
  {
   "cell_type": "code",
   "execution_count": 51,
   "metadata": {},
   "outputs": [],
   "source": [
    "from getpass import getpass"
   ]
  },
  {
   "cell_type": "code",
   "execution_count": 56,
   "metadata": {},
   "outputs": [
    {
     "name": "stdout",
     "output_type": "stream",
     "text": [
      "Enter your choice········\n",
      "Enter your choice········\n",
      "Player2 won with choice rock of player1 and paper of player2\n"
     ]
    }
   ],
   "source": [
    "p1_win = [(\"scissor\",\"paper\"),(\"paper\",\"rock\"),(\"rock\",\"scissor\")]\n",
    "\n",
    "p1 = getpass(\"Enter your choice\").strip().lower()\n",
    "p2 = getpass(\"Enter your choice\").strip().lower()\n",
    "\n",
    "if p1 == p2:\n",
    "    print(\"Tie\")\n",
    "\n",
    "elif (p1,p2) in p1_win:\n",
    "    print(f\"Player1 won with choice {p1} of player1 and {p2} of player2\")\n",
    "    \n",
    "else:\n",
    "    print(f\"Player2 won with choice {p1} of player1 and {p2} of player2\")"
   ]
  },
  {
   "cell_type": "code",
   "execution_count": 59,
   "metadata": {},
   "outputs": [],
   "source": [
    "from random import randint,choice"
   ]
  },
  {
   "cell_type": "code",
   "execution_count": 58,
   "metadata": {},
   "outputs": [
    {
     "data": {
      "text/plain": [
       "6"
      ]
     },
     "execution_count": 58,
     "metadata": {},
     "output_type": "execute_result"
    }
   ],
   "source": [
    "randint(0,10)"
   ]
  },
  {
   "cell_type": "code",
   "execution_count": 61,
   "metadata": {},
   "outputs": [
    {
     "data": {
      "text/plain": [
       "'paper'"
      ]
     },
     "execution_count": 61,
     "metadata": {},
     "output_type": "execute_result"
    }
   ],
   "source": [
    "choice(['scissor','rock','paper'])"
   ]
  },
  {
   "cell_type": "code",
   "execution_count": 63,
   "metadata": {},
   "outputs": [
    {
     "name": "stdout",
     "output_type": "stream",
     "text": [
      "Enter your choice········\n",
      "Player1 won with choice paper of player1 and rock of player2\n"
     ]
    }
   ],
   "source": [
    "p1_win = [(\"scissor\",\"paper\"),(\"paper\",\"rock\"),(\"rock\",\"scissor\")]\n",
    "\n",
    "p1 = getpass(\"Enter your choice\").strip().lower()\n",
    "#p2 = getpass(\"Enter your choice\").strip().lower()\n",
    "p2 = choice(['scissor','paper','rock'])\n",
    "\n",
    "if p1 == p2:\n",
    "    print(\"Tie\")\n",
    "\n",
    "elif (p1,p2) in p1_win:\n",
    "    print(f\"Player1 won with choice {p1} of player1 and {p2} of player2\")\n",
    "    \n",
    "else:\n",
    "    print(f\"Player2 won with choice {p1} of player1 and {p2} of player2\")"
   ]
  },
  {
   "cell_type": "code",
   "execution_count": null,
   "metadata": {},
   "outputs": [],
   "source": []
  }
 ],
 "metadata": {
  "kernelspec": {
   "display_name": "Python 3",
   "language": "python",
   "name": "python3"
  },
  "language_info": {
   "codemirror_mode": {
    "name": "ipython",
    "version": 3
   },
   "file_extension": ".py",
   "mimetype": "text/x-python",
   "name": "python",
   "nbconvert_exporter": "python",
   "pygments_lexer": "ipython3",
   "version": "3.7.5"
  }
 },
 "nbformat": 4,
 "nbformat_minor": 2
}
