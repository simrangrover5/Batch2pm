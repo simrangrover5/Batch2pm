{
 "cells": [
  {
   "cell_type": "code",
   "execution_count": 6,
   "metadata": {},
   "outputs": [
    {
     "name": "stdout",
     "output_type": "stream",
     "text": [
      "**********************Server is ready to listen***********************\n",
      "/\n",
      "hi\n",
      "110\n",
      "hey\n"
     ]
    }
   ],
   "source": [
    "import socket\n",
    "\n",
    "\n",
    "server = socket.socket(socket.AF_INET,socket.SOCK_STREAM)\n",
    "host = \"127.0.0.1\"\n",
    "port = 1234\n",
    "server.bind((host,port))\n",
    "print(\"Server is ready to listen\".center(70,\"*\"))\n",
    "server.listen()\n",
    "\n",
    "def route(path):\n",
    "    def function(func):\n",
    "        def inner(*args):\n",
    "            client,client_addr = server.accept()\n",
    "            header = client.recv(1024).decode()\n",
    "            p = header.split()[1]\n",
    "            print(p)\n",
    "            if p == path:\n",
    "                print(\"hi\")\n",
    "                resp = func(*args)\n",
    "                print(client.send(resp))\n",
    "                print(\"hey\")\n",
    "                client.close()\n",
    "        return inner\n",
    "    return function\n",
    "\n",
    "\n",
    "resp1 = \"\"\"HTTP 200 OK\n",
    "Content-type:text/html\n",
    "\n",
    "<html>\n",
    "<body>\n",
    "<p style='color:blue'>This is for path /</p>\n",
    "</body>\n",
    "</html>\"\"\"\n",
    "\n",
    "@route(\"/\")\n",
    "def index():\n",
    "    return resp1.encode()\n",
    "\n",
    "\n",
    "index()"
   ]
  },
  {
   "cell_type": "code",
   "execution_count": null,
   "metadata": {},
   "outputs": [],
   "source": []
  }
 ],
 "metadata": {
  "kernelspec": {
   "display_name": "Python 3",
   "language": "python",
   "name": "python3"
  },
  "language_info": {
   "codemirror_mode": {
    "name": "ipython",
    "version": 3
   },
   "file_extension": ".py",
   "mimetype": "text/x-python",
   "name": "python",
   "nbconvert_exporter": "python",
   "pygments_lexer": "ipython3",
   "version": "3.7.4"
  }
 },
 "nbformat": 4,
 "nbformat_minor": 2
}
