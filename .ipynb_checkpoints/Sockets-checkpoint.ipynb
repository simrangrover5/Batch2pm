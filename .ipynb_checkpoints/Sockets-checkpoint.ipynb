{
 "cells": [
  {
   "cell_type": "code",
   "execution_count": 1,
   "metadata": {},
   "outputs": [],
   "source": [
    "l = [\n",
    "    ['maths',10,20,90],\n",
    "    ['science',30,40,25],\n",
    "    ['english',45,78,90]\n",
    "]"
   ]
  },
  {
   "cell_type": "code",
   "execution_count": 2,
   "metadata": {},
   "outputs": [],
   "source": [
    "l.sort()"
   ]
  },
  {
   "cell_type": "code",
   "execution_count": 3,
   "metadata": {},
   "outputs": [
    {
     "data": {
      "text/plain": [
       "[['english', 45, 78, 90], ['maths', 10, 20, 90], ['science', 30, 40, 25]]"
      ]
     },
     "execution_count": 3,
     "metadata": {},
     "output_type": "execute_result"
    }
   ],
   "source": [
    "l"
   ]
  },
  {
   "cell_type": "code",
   "execution_count": 4,
   "metadata": {},
   "outputs": [],
   "source": [
    "from operator import itemgetter"
   ]
  },
  {
   "cell_type": "code",
   "execution_count": 5,
   "metadata": {},
   "outputs": [],
   "source": [
    "l.sort(key=itemgetter(2))"
   ]
  },
  {
   "cell_type": "code",
   "execution_count": 6,
   "metadata": {},
   "outputs": [
    {
     "data": {
      "text/plain": [
       "[['maths', 10, 20, 90], ['science', 30, 40, 25], ['english', 45, 78, 90]]"
      ]
     },
     "execution_count": 6,
     "metadata": {},
     "output_type": "execute_result"
    }
   ],
   "source": [
    "l"
   ]
  },
  {
   "cell_type": "code",
   "execution_count": 13,
   "metadata": {},
   "outputs": [
    {
     "name": "stdout",
     "output_type": "stream",
     "text": [
      "Enter the key from which you want to sort : 3\n"
     ]
    }
   ],
   "source": [
    "key = int(input(\"Enter the key from which you want to sort : \"))\n",
    "items = []\n",
    "for i in l:\n",
    "    if i[key] not in items:\n",
    "        items.append(i[key])\n",
    "items.sort()\n",
    "newl = []\n",
    "for i in items:\n",
    "     for j in l:\n",
    "            if i in j:\n",
    "                newl.append(j)"
   ]
  },
  {
   "cell_type": "code",
   "execution_count": 14,
   "metadata": {},
   "outputs": [
    {
     "data": {
      "text/plain": [
       "[['science', 30, 40, 25], ['maths', 10, 20, 90], ['english', 45, 78, 90]]"
      ]
     },
     "execution_count": 14,
     "metadata": {},
     "output_type": "execute_result"
    }
   ],
   "source": [
    "newl"
   ]
  },
  {
   "cell_type": "code",
   "execution_count": 15,
   "metadata": {},
   "outputs": [],
   "source": [
    "def deco(func):   #func==add\n",
    "    def inner(*args):   #args==10,20\n",
    "        print(\"*\"*70)\n",
    "        print(\"*\"*70)\n",
    "        result = func(*args)\n",
    "        print(result)\n",
    "        print(\"*\"*70)\n",
    "        print(\"*\"*70)\n",
    "    return inner"
   ]
  },
  {
   "cell_type": "code",
   "execution_count": 20,
   "metadata": {},
   "outputs": [
    {
     "name": "stdout",
     "output_type": "stream",
     "text": [
      "**********************************************************************\n",
      "**********************************************************************\n",
      "30\n",
      "**********************************************************************\n",
      "**********************************************************************\n",
      "**********************************************************************\n",
      "**********************************************************************\n",
      "18\n",
      "**********************************************************************\n",
      "**********************************************************************\n"
     ]
    }
   ],
   "source": [
    "def add(a,b):\n",
    "    return a+b\n",
    "\n",
    "i = deco(add)\n",
    "i(10,20)\n",
    "\n",
    "def sub(a,b):\n",
    "    return a-b\n",
    "\n",
    "i = deco(sub)\n",
    "i(30,12)"
   ]
  },
  {
   "cell_type": "code",
   "execution_count": 21,
   "metadata": {},
   "outputs": [
    {
     "name": "stdout",
     "output_type": "stream",
     "text": [
      "**********************************************************************\n",
      "**********************************************************************\n",
      "30\n",
      "**********************************************************************\n",
      "**********************************************************************\n",
      "**********************************************************************\n",
      "**********************************************************************\n",
      "-10\n",
      "**********************************************************************\n",
      "**********************************************************************\n"
     ]
    }
   ],
   "source": [
    "@deco\n",
    "def add(a,b):\n",
    "    return a+b\n",
    "\n",
    "@deco\n",
    "def sub(a,b):\n",
    "    return a-b\n",
    "\n",
    "add(10,20)\n",
    "sub(40,50)"
   ]
  },
  {
   "cell_type": "code",
   "execution_count": 4,
   "metadata": {},
   "outputs": [],
   "source": [
    "def decorator(*args):\n",
    "    def inner(func):\n",
    "        def arguments(*rgs):\n",
    "            names = func(*rgs)\n",
    "            for i in names:\n",
    "                for tag in args:\n",
    "                    print(f\"<{tag}> {i} </{tag}>\")\n",
    "        return arguments\n",
    "    return inner"
   ]
  },
  {
   "cell_type": "code",
   "execution_count": 8,
   "metadata": {},
   "outputs": [],
   "source": [
    "@decorator(\"h1\",\"p\",\"h2\",\"li\")\n",
    "def name():\n",
    "    names = [input(\"Enter your name : \") for var in range(5)]\n",
    "    return names"
   ]
  },
  {
   "cell_type": "code",
   "execution_count": 9,
   "metadata": {},
   "outputs": [
    {
     "name": "stdout",
     "output_type": "stream",
     "text": [
      "Enter your name : ashu\n",
      "Enter your name : annu\n",
      "Enter your name : meha\n",
      "Enter your name : ayushi\n",
      "Enter your name : \n",
      "<h1> ashu </h1>\n",
      "<p> ashu </p>\n",
      "<h2> ashu </h2>\n",
      "<li> ashu </li>\n",
      "<h1> annu </h1>\n",
      "<p> annu </p>\n",
      "<h2> annu </h2>\n",
      "<li> annu </li>\n",
      "<h1> meha </h1>\n",
      "<p> meha </p>\n",
      "<h2> meha </h2>\n",
      "<li> meha </li>\n",
      "<h1> ayushi </h1>\n",
      "<p> ayushi </p>\n",
      "<h2> ayushi </h2>\n",
      "<li> ayushi </li>\n",
      "<h1>  </h1>\n",
      "<p>  </p>\n",
      "<h2>  </h2>\n",
      "<li>  </li>\n"
     ]
    }
   ],
   "source": [
    "name()"
   ]
  },
  {
   "cell_type": "markdown",
   "metadata": {},
   "source": [
    "<h1> ashu </h1>\n",
    "<p> ashu </p>\n",
    "<h2> ashu </h2>\n",
    "<li> ashu </li>\n",
    "<h1> annu </h1>\n",
    "<p> annu </p>\n",
    "<h2> annu </h2>\n",
    "<li> annu </li>\n",
    "<h1> meha </h1>\n",
    "<p> meha </p>\n",
    "<h2> meha </h2>\n",
    "<li> meha </li>\n",
    "<h1> ayushi </h1>\n",
    "<p> ayushi </p>\n",
    "<h2> ayushi </h2>\n",
    "<li> ayushi </li>"
   ]
  },
  {
   "cell_type": "code",
   "execution_count": 1,
   "metadata": {},
   "outputs": [],
   "source": [
    "import socket"
   ]
  },
  {
   "cell_type": "code",
   "execution_count": 12,
   "metadata": {},
   "outputs": [
    {
     "name": "stdout",
     "output_type": "stream",
     "text": [
      "************Server is ready to listen*************\n"
     ]
    }
   ],
   "source": [
    "server = socket.socket(socket.AF_INET,socket.SOCK_STREAM)\n",
    "host = \"127.0.0.1\"\n",
    "port = 1234\n",
    "server.bind((host,port))\n",
    "server.listen()\n",
    "print(\"Server is ready to listen\".center(50,\"*\"))\n",
    "\n",
    "client,client_addr = server.accept()\n",
    "#print(client,client_addr)\n",
    "client_data = client.recv(1024).decode()\n",
    "path = client_data.split()[1]\n",
    "\n",
    "\n",
    "\n",
    "resp1 = \"\"\"Http 200 Ok\n",
    "Content-type:text/html\n",
    "\n",
    "\n",
    "<html>\n",
    "<body>\n",
    "<h1 style='color:red'>This is for path /</h1>\n",
    "</body>\n",
    "</html>\n",
    "\"\"\".encode()\n",
    "\n",
    "\n",
    "resp2 = \"\"\"Http 200 Ok\n",
    "Content-type:text/html\n",
    "\n",
    "\n",
    "<html>\n",
    "<body>\n",
    "<h1 style='color:blue'>This is for path home</h1>\n",
    "</body>\n",
    "</html>\n",
    "\"\"\".encode()\n",
    "\n",
    "\n",
    "resp3 = \"\"\"Http 200 Ok\n",
    "Content-type:text/html\n",
    "\n",
    "\n",
    "<html>\n",
    "<body>\n",
    "<h1 style='color:coral'>This is for path welcome</h1>\n",
    "</body>\n",
    "</html>\n",
    "\"\"\".encode()\n",
    "\n",
    "\n",
    "resp4 = \"\"\"Http 200 Ok\n",
    "Content-type:text/html\n",
    "\n",
    "\n",
    "<html>\n",
    "<body>\n",
    "<h1 style='color:orange'>This is for no path</h1>\n",
    "</body>\n",
    "</html>\n",
    "\"\"\".encode()\n",
    "\n",
    "if path == \"/\":\n",
    "    client.send(resp1)\n",
    "\n",
    "elif path == \"/home/\":\n",
    "    client.send(resp2)\n",
    "\n",
    "elif path==\"/welcome/\":\n",
    "    client.send(resp3)\n",
    "\n",
    "else:\n",
    "    client.send(resp4)"
   ]
  },
  {
   "cell_type": "code",
   "execution_count": 5,
   "metadata": {},
   "outputs": [
    {
     "data": {
      "text/plain": [
       "'/'"
      ]
     },
     "execution_count": 5,
     "metadata": {},
     "output_type": "execute_result"
    }
   ],
   "source": [
    "client_data.split()[1]"
   ]
  },
  {
   "cell_type": "code",
   "execution_count": 16,
   "metadata": {},
   "outputs": [
    {
     "name": "stdout",
     "output_type": "stream",
     "text": [
      "Encode the string using the codec registered for encoding.\n",
      "\n",
      "  encoding\n",
      "    The encoding in which to encode the string.\n",
      "  errors\n",
      "    The error handling scheme to use for encoding errors.\n",
      "    The default is 'strict' meaning that encoding errors raise a\n",
      "    UnicodeEncodeError.  Other possible values are 'ignore', 'replace' and\n",
      "    'xmlcharrefreplace' as well as any other name registered with\n",
      "    codecs.register_error that can handle UnicodeEncodeErrors.\n"
     ]
    }
   ],
   "source": [
    "print(\"hello\".encode.__doc__)"
   ]
  },
  {
   "cell_type": "code",
   "execution_count": null,
   "metadata": {},
   "outputs": [],
   "source": []
  }
 ],
 "metadata": {
  "kernelspec": {
   "display_name": "Python 3",
   "language": "python",
   "name": "python3"
  },
  "language_info": {
   "codemirror_mode": {
    "name": "ipython",
    "version": 3
   },
   "file_extension": ".py",
   "mimetype": "text/x-python",
   "name": "python",
   "nbconvert_exporter": "python",
   "pygments_lexer": "ipython3",
   "version": "3.7.4"
  }
 },
 "nbformat": 4,
 "nbformat_minor": 2
}
