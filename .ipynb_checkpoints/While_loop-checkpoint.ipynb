{
 "cells": [
  {
   "cell_type": "code",
   "execution_count": 1,
   "metadata": {},
   "outputs": [],
   "source": [
    "#Take values of length and breadth of a rectangle from user and check if it is square or not."
   ]
  },
  {
   "cell_type": "raw",
   "metadata": {},
   "source": [
    "A shop will give discount of 10% if the cost of purchased quantity is more than 1000.\n",
    "Ask user for quantity\n",
    "Suppose, one unit will cost 100.\n",
    "Judge and print total cost for user. \n"
   ]
  },
  {
   "cell_type": "raw",
   "metadata": {},
   "source": [
    "Take input of age of 3 people by user and determine oldest and youngest among them. "
   ]
  },
  {
   "cell_type": "raw",
   "metadata": {},
   "source": [
    "A student will not be allowed to sit in exam if his/her attendence is less than 75%.\n",
    "Take following input from user\n",
    "Number of classes held\n",
    "Number of classes attended.\n",
    "And print\n",
    "percentage of class attended\n",
    "Is student is allowed to sit in exam or not. "
   ]
  },
  {
   "cell_type": "code",
   "execution_count": 2,
   "metadata": {},
   "outputs": [
    {
     "name": "stdout",
     "output_type": "stream",
     "text": [
      "Hello hi\n"
     ]
    }
   ],
   "source": [
    "if 1 and 2:\n",
    "    print(\"Hello hi\")\n",
    "elif False:\n",
    "    print(\"Bye bye\")\n",
    "else:\n",
    "    print(\"Nothing\")"
   ]
  },
  {
   "cell_type": "code",
   "execution_count": 3,
   "metadata": {},
   "outputs": [
    {
     "name": "stdout",
     "output_type": "stream",
     "text": [
      "Bye\n"
     ]
    }
   ],
   "source": [
    "if None and 2:\n",
    "    print(\"Hello\")\n",
    "else:\n",
    "    print(\"Bye\")"
   ]
  },
  {
   "cell_type": "code",
   "execution_count": 4,
   "metadata": {},
   "outputs": [
    {
     "name": "stdout",
     "output_type": "stream",
     "text": [
      "Before if\n",
      "Hi hi\n",
      "after if\n"
     ]
    }
   ],
   "source": [
    "print(\"Before if\")\n",
    "if 1 or None:\n",
    "    print(\"Hi hi\")\n",
    "else:\n",
    "    print(\"Bye bye\")\n",
    "print(\"after if\")"
   ]
  },
  {
   "cell_type": "code",
   "execution_count": 6,
   "metadata": {},
   "outputs": [
    {
     "name": "stdout",
     "output_type": "stream",
     "text": [
      "******************** Shop ********************\n",
      "*********The price of Single quantity is 100************\n",
      "Enter the quantity you want to purchased : 10\n",
      "\n",
      "******Congrats you will get discount of 10%*******\n",
      "\n",
      "Your total cost is :  900.0\n"
     ]
    }
   ],
   "source": [
    "print(\"*\"*20,\"Shop\",\"*\"*20)\n",
    "print(\"*********The price of Single quantity is 100************\")\n",
    "q = int(input(\"Enter the quantity you want to purchased : \"))\n",
    "cost = q*100\n",
    "if cost>=1000:\n",
    "    print(\"\\n******Congrats you will get discount of 10%*******\")\n",
    "    newcost = cost-(cost*1/10)\n",
    "    print(\"\\nYour total cost is : \",newcost)\n",
    "else:\n",
    "    print(\"\\n******Sorry you cannot have discount*******\")\n",
    "    print(\"\\nYour total cost is : \",cost)"
   ]
  },
  {
   "cell_type": "code",
   "execution_count": 7,
   "metadata": {},
   "outputs": [
    {
     "name": "stdout",
     "output_type": "stream",
     "text": [
      "*****************ATTENDANCE**********************\n",
      "Enter number of class you have attend : 10\n",
      "Enter total number of classes : 100\n",
      "You have 10.0 percentage and you are not allowed to sit in exam\n"
     ]
    }
   ],
   "source": [
    "print(\"*****************ATTENDANCE**********************\")\n",
    "attended = int(input(\"Enter number of class you have attend : \"))\n",
    "total = int(input(\"Enter total number of classes : \"))\n",
    "per = (attended/total)*100\n",
    "if per<75:\n",
    "    print(f\"You have {per} percentage and you are not allowed to sit in exam\")\n",
    "else:\n",
    "    print(f\"You have {per} percentage and you are allowed to sit in exam\")"
   ]
  },
  {
   "cell_type": "code",
   "execution_count": 9,
   "metadata": {},
   "outputs": [
    {
     "name": "stdout",
     "output_type": "stream",
     "text": [
      "Enter any character : 1\n",
      "This is not an alphabet\n"
     ]
    }
   ],
   "source": [
    "char = input(\"Enter any character : \")\n",
    "if char.lower() in \"abcdefghijklmnopqrstuvwxyz\":\n",
    "    print(\"This is an alphabet\")\n",
    "else:\n",
    "    print(\"This is not an alphabet\")"
   ]
  },
  {
   "cell_type": "code",
   "execution_count": 10,
   "metadata": {},
   "outputs": [
    {
     "name": "stdout",
     "output_type": "stream",
     "text": [
      "Enter any value : 10\n",
      "Enter any value : 12\n",
      "a :  12\n",
      "b :  10\n"
     ]
    }
   ],
   "source": [
    "a = int(input(\"Enter any value : \"))\n",
    "b = int(input(\"Enter any value : \"))\n",
    "\n",
    "a,b = b,a\n",
    "print(\"a : \",a)\n",
    "print(\"b : \",b)"
   ]
  },
  {
   "cell_type": "code",
   "execution_count": 12,
   "metadata": {},
   "outputs": [
    {
     "name": "stdout",
     "output_type": "stream",
     "text": [
      "Enter value : 10\n",
      "Enter value : 12\n"
     ]
    }
   ],
   "source": [
    "a,b = int(input(\"Enter value : \")),int(input(\"Enter value : \"))"
   ]
  },
  {
   "cell_type": "code",
   "execution_count": 13,
   "metadata": {},
   "outputs": [
    {
     "data": {
      "text/plain": [
       "10"
      ]
     },
     "execution_count": 13,
     "metadata": {},
     "output_type": "execute_result"
    }
   ],
   "source": [
    "a"
   ]
  },
  {
   "cell_type": "code",
   "execution_count": 14,
   "metadata": {},
   "outputs": [
    {
     "data": {
      "text/plain": [
       "12"
      ]
     },
     "execution_count": 14,
     "metadata": {},
     "output_type": "execute_result"
    }
   ],
   "source": [
    "b"
   ]
  },
  {
   "cell_type": "code",
   "execution_count": 15,
   "metadata": {},
   "outputs": [],
   "source": [
    "a,b = [10,12]"
   ]
  },
  {
   "cell_type": "code",
   "execution_count": 16,
   "metadata": {},
   "outputs": [
    {
     "data": {
      "text/plain": [
       "10"
      ]
     },
     "execution_count": 16,
     "metadata": {},
     "output_type": "execute_result"
    }
   ],
   "source": [
    "a"
   ]
  },
  {
   "cell_type": "code",
   "execution_count": 17,
   "metadata": {},
   "outputs": [
    {
     "data": {
      "text/plain": [
       "12"
      ]
     },
     "execution_count": 17,
     "metadata": {},
     "output_type": "execute_result"
    }
   ],
   "source": [
    "b"
   ]
  },
  {
   "cell_type": "markdown",
   "metadata": {},
   "source": [
    "### While Loop"
   ]
  },
  {
   "cell_type": "code",
   "execution_count": 18,
   "metadata": {},
   "outputs": [],
   "source": [
    "while False:\n",
    "    print(\"Hello world\")"
   ]
  },
  {
   "cell_type": "code",
   "execution_count": 19,
   "metadata": {},
   "outputs": [
    {
     "name": "stdout",
     "output_type": "stream",
     "text": [
      "0\n",
      "1\n",
      "2\n",
      "3\n",
      "4\n",
      "5\n",
      "6\n",
      "7\n",
      "8\n",
      "9\n",
      "10\n"
     ]
    }
   ],
   "source": [
    "c = 0\n",
    "while c<=10:\n",
    "    print(c)\n",
    "    c += 1"
   ]
  },
  {
   "cell_type": "code",
   "execution_count": 20,
   "metadata": {},
   "outputs": [
    {
     "name": "stdout",
     "output_type": "stream",
     "text": [
      "Hello world,Hello world,Hello world,Hello world,Hello world,Hello world,Hello world,Hello world,Hello world,Hello world,"
     ]
    }
   ],
   "source": [
    "c = 0\n",
    "while c<10:\n",
    "    print(\"Hello world\",end=',')\n",
    "    c += 1"
   ]
  },
  {
   "cell_type": "code",
   "execution_count": 21,
   "metadata": {},
   "outputs": [
    {
     "name": "stdout",
     "output_type": "stream",
     "text": [
      "f\n",
      "Yeah you are on right track\n",
      "t\n",
      "Yeah you are on right track\n",
      "g\n",
      "Yeah you are on right track\n",
      "\n"
     ]
    }
   ],
   "source": [
    "while input():\n",
    "    print(\"Yeah you are on right track\")"
   ]
  },
  {
   "cell_type": "code",
   "execution_count": 22,
   "metadata": {},
   "outputs": [],
   "source": [
    "from datetime import datetime"
   ]
  },
  {
   "cell_type": "code",
   "execution_count": 23,
   "metadata": {},
   "outputs": [
    {
     "data": {
      "text/plain": [
       "datetime.datetime(2019, 12, 24, 15, 16, 54, 119259)"
      ]
     },
     "execution_count": 23,
     "metadata": {},
     "output_type": "execute_result"
    }
   ],
   "source": [
    "datetime.today()"
   ]
  },
  {
   "cell_type": "code",
   "execution_count": 24,
   "metadata": {},
   "outputs": [
    {
     "name": "stdout",
     "output_type": "stream",
     "text": [
      "2019-12-24 15:19:06.990196\n"
     ]
    }
   ],
   "source": [
    "date = \"\"\n",
    "if date is not None:\n",
    "    date = datetime.today()\n",
    "    print(date)\n",
    "else:\n",
    "    print(date)"
   ]
  },
  {
   "cell_type": "code",
   "execution_count": 25,
   "metadata": {},
   "outputs": [
    {
     "name": "stdout",
     "output_type": "stream",
     "text": [
      "2,4,6,8,10,12,14,16,18,20,22,24,26,28,30,32,34,36,38,40,42,44,46,48,50,52,54,56,58,60,62,64,66,68,70,72,74,76,78,80,82,84,86,88,90,92,94,96,98,100,"
     ]
    }
   ],
   "source": [
    "c = 1\n",
    "while c<=100:\n",
    "    if c%2 == 0:\n",
    "        print(c,end=\",\")\n",
    "    c += 1"
   ]
  },
  {
   "cell_type": "code",
   "execution_count": 26,
   "metadata": {},
   "outputs": [
    {
     "name": "stdout",
     "output_type": "stream",
     "text": [
      "2,"
     ]
    },
    {
     "ename": "KeyboardInterrupt",
     "evalue": "",
     "output_type": "error",
     "traceback": [
      "\u001b[1;31m---------------------------------------------------------------------\u001b[0m",
      "\u001b[1;31mKeyboardInterrupt\u001b[0m                   Traceback (most recent call last)",
      "\u001b[1;32m<ipython-input-26-2e4671c5388b>\u001b[0m in \u001b[0;36m<module>\u001b[1;34m\u001b[0m\n\u001b[0;32m      1\u001b[0m \u001b[0mc\u001b[0m \u001b[1;33m=\u001b[0m \u001b[1;36m2\u001b[0m\u001b[1;33m\u001b[0m\u001b[1;33m\u001b[0m\u001b[0m\n\u001b[1;32m----> 2\u001b[1;33m \u001b[1;32mwhile\u001b[0m \u001b[0mc\u001b[0m\u001b[1;33m<=\u001b[0m\u001b[1;36m100\u001b[0m\u001b[1;33m:\u001b[0m\u001b[1;33m\u001b[0m\u001b[1;33m\u001b[0m\u001b[0m\n\u001b[0m\u001b[0;32m      3\u001b[0m     \u001b[1;32mif\u001b[0m \u001b[0mc\u001b[0m\u001b[1;33m%\u001b[0m\u001b[1;36m2\u001b[0m \u001b[1;33m==\u001b[0m \u001b[1;36m0\u001b[0m\u001b[1;33m:\u001b[0m\u001b[1;33m\u001b[0m\u001b[1;33m\u001b[0m\u001b[0m\n\u001b[0;32m      4\u001b[0m         \u001b[0mprint\u001b[0m\u001b[1;33m(\u001b[0m\u001b[0mc\u001b[0m\u001b[1;33m,\u001b[0m\u001b[0mend\u001b[0m\u001b[1;33m=\u001b[0m\u001b[1;34m\",\"\u001b[0m\u001b[1;33m)\u001b[0m\u001b[1;33m\u001b[0m\u001b[1;33m\u001b[0m\u001b[0m\n\u001b[0;32m      5\u001b[0m         \u001b[0mc\u001b[0m \u001b[1;33m+=\u001b[0m \u001b[1;36m1\u001b[0m\u001b[1;33m\u001b[0m\u001b[1;33m\u001b[0m\u001b[0m\n",
      "\u001b[1;31mKeyboardInterrupt\u001b[0m: "
     ]
    }
   ],
   "source": [
    "c = 2\n",
    "while c<=100:\n",
    "    if c%2 == 0:\n",
    "        print(c,end=\",\")\n",
    "        c += 1\n",
    "    "
   ]
  },
  {
   "cell_type": "code",
   "execution_count": 29,
   "metadata": {},
   "outputs": [
    {
     "name": "stdout",
     "output_type": "stream",
     "text": [
      "Enter any number : 20\n",
      "1      1      1     \n",
      "2      4      8     \n",
      "3      9      27    \n",
      "4      16     64    \n",
      "5      25     125   \n",
      "6      36     216   \n",
      "7      49     343   \n",
      "8      64     512   \n",
      "9      81     729   \n",
      "10     100    1000  \n",
      "11     121    1331  \n",
      "12     144    1728  \n",
      "13     169    2197  \n",
      "14     196    2744  \n",
      "15     225    3375  \n",
      "16     256    4096  \n",
      "17     289    4913  \n",
      "18     324    5832  \n",
      "19     361    6859  \n",
      "20     400    8000  \n"
     ]
    }
   ],
   "source": [
    "n = int(input(\"Enter any number : \"))\n",
    "c = 1\n",
    "while c<=n:\n",
    "    print(f\"{c:<6} {c**2:<6} {c**3:<6}\")\n",
    "    c += 1"
   ]
  },
  {
   "cell_type": "code",
   "execution_count": 31,
   "metadata": {},
   "outputs": [
    {
     "name": "stdout",
     "output_type": "stream",
     "text": [
      "Enter any number : 6\n",
      "6*1   =    6\n",
      "6*2   =   12\n",
      "6*3   =   18\n",
      "6*4   =   24\n",
      "6*5   =   30\n",
      "6*6   =   36\n",
      "6*7   =   42\n",
      "6*8   =   48\n",
      "6*9   =   54\n",
      "6*10  =   60\n"
     ]
    }
   ],
   "source": [
    "#print table of a number that you will have as in input\n",
    "num = int(input(\"Enter any number : \"))\n",
    "c = 1\n",
    "while c<=10:\n",
    "    print(f\"{num}*{c:<4}={num*c:>5}\")\n",
    "    c += 1"
   ]
  },
  {
   "cell_type": "code",
   "execution_count": 32,
   "metadata": {},
   "outputs": [
    {
     "name": "stdout",
     "output_type": "stream",
     "text": [
      "100,99,98,97,96,95,94,93,92,91,90,89,88,87,86,85,84,83,82,81,80,79,78,77,76,75,74,73,72,71,70,69,68,67,66,65,64,63,62,61,60,59,58,57,56,55,54,53,52,51,50,49,48,47,46,45,44,43,42,41,40,39,38,37,36,35,34,33,32,31,30,29,28,27,26,25,24,23,22,21,20,19,18,17,16,15,14,13,12,11,10,9,8,7,6,5,4,3,2,1,"
     ]
    }
   ],
   "source": [
    "c = 100\n",
    "while c>0:\n",
    "    print(c,end=\",\")\n",
    "    c -= 1"
   ]
  },
  {
   "cell_type": "code",
   "execution_count": 34,
   "metadata": {},
   "outputs": [
    {
     "name": "stdout",
     "output_type": "stream",
     "text": [
      "99,97,95,93,91,89,87,85,83,81,79,77,75,73,71,69,67,65,63,61,59,57,55,53,51,49,47,45,43,41,39,37,35,33,31,29,27,25,23,21,19,17,15,13,11,9,7,5,3,1,"
     ]
    }
   ],
   "source": [
    "c = 100\n",
    "while c>0:\n",
    "    if not c%2 == 0:\n",
    "        print(c,end=\",\")\n",
    "    c -= 1"
   ]
  },
  {
   "cell_type": "code",
   "execution_count": null,
   "metadata": {},
   "outputs": [],
   "source": []
  }
 ],
 "metadata": {
  "kernelspec": {
   "display_name": "Python 3",
   "language": "python",
   "name": "python3"
  },
  "language_info": {
   "codemirror_mode": {
    "name": "ipython",
    "version": 3
   },
   "file_extension": ".py",
   "mimetype": "text/x-python",
   "name": "python",
   "nbconvert_exporter": "python",
   "pygments_lexer": "ipython3",
   "version": "3.7.5"
  }
 },
 "nbformat": 4,
 "nbformat_minor": 2
}
