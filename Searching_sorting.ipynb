{
 "cells": [
  {
   "cell_type": "code",
   "execution_count": 1,
   "metadata": {},
   "outputs": [],
   "source": [
    "class A:\n",
    "    def hello():\n",
    "        print(\"hello\")"
   ]
  },
  {
   "cell_type": "code",
   "execution_count": 2,
   "metadata": {},
   "outputs": [
    {
     "ename": "TypeError",
     "evalue": "hello() takes 0 positional arguments but 1 was given",
     "output_type": "error",
     "traceback": [
      "\u001b[1;31m---------------------------------------------------------------------\u001b[0m",
      "\u001b[1;31mTypeError\u001b[0m                           Traceback (most recent call last)",
      "\u001b[1;32m<ipython-input-2-1a13f0fa8147>\u001b[0m in \u001b[0;36m<module>\u001b[1;34m\u001b[0m\n\u001b[0;32m      1\u001b[0m \u001b[0mobj\u001b[0m \u001b[1;33m=\u001b[0m \u001b[0mA\u001b[0m\u001b[1;33m(\u001b[0m\u001b[1;33m)\u001b[0m\u001b[1;33m\u001b[0m\u001b[1;33m\u001b[0m\u001b[0m\n\u001b[1;32m----> 2\u001b[1;33m \u001b[0mobj\u001b[0m\u001b[1;33m.\u001b[0m\u001b[0mhello\u001b[0m\u001b[1;33m(\u001b[0m\u001b[1;33m)\u001b[0m\u001b[1;33m\u001b[0m\u001b[1;33m\u001b[0m\u001b[0m\n\u001b[0m",
      "\u001b[1;31mTypeError\u001b[0m: hello() takes 0 positional arguments but 1 was given"
     ]
    }
   ],
   "source": [
    "obj = A()\n",
    "obj.hello()"
   ]
  },
  {
   "cell_type": "code",
   "execution_count": 6,
   "metadata": {},
   "outputs": [],
   "source": [
    "class A(object):\n",
    "    pass"
   ]
  },
  {
   "cell_type": "code",
   "execution_count": 7,
   "metadata": {},
   "outputs": [
    {
     "name": "stdout",
     "output_type": "stream",
     "text": [
      "['__class__', '__delattr__', '__dict__', '__dir__', '__doc__', '__eq__', '__format__', '__ge__', '__getattribute__', '__gt__', '__hash__', '__init__', '__init_subclass__', '__le__', '__lt__', '__module__', '__ne__', '__new__', '__reduce__', '__reduce_ex__', '__repr__', '__setattr__', '__sizeof__', '__str__', '__subclasshook__', '__weakref__']\n"
     ]
    }
   ],
   "source": [
    "obj = A()\n",
    "print(dir(obj))"
   ]
  },
  {
   "cell_type": "code",
   "execution_count": 4,
   "metadata": {},
   "outputs": [
    {
     "name": "stdout",
     "output_type": "stream",
     "text": [
      "['__add__', '__class__', '__contains__', '__delattr__', '__delitem__', '__dir__', '__doc__', '__eq__', '__format__', '__ge__', '__getattribute__', '__getitem__', '__gt__', '__hash__', '__iadd__', '__imul__', '__init__', '__init_subclass__', '__iter__', '__le__', '__len__', '__lt__', '__mul__', '__ne__', '__new__', '__reduce__', '__reduce_ex__', '__repr__', '__reversed__', '__rmul__', '__setattr__', '__setitem__', '__sizeof__', '__str__', '__subclasshook__', 'append', 'clear', 'copy', 'count', 'extend', 'index', 'insert', 'pop', 'remove', 'reverse', 'sort']\n"
     ]
    }
   ],
   "source": [
    "l = [1,2,3,4]\n",
    "print(dir(l))"
   ]
  },
  {
   "cell_type": "code",
   "execution_count": 9,
   "metadata": {},
   "outputs": [
    {
     "name": "stdout",
     "output_type": "stream",
     "text": [
      "simran\n"
     ]
    }
   ],
   "source": [
    "class A(object):\n",
    "    def __init__(self,name):\n",
    "        self.name = name\n",
    "        \n",
    "obj = A(\"simran\")\n",
    "print(obj.name)"
   ]
  },
  {
   "cell_type": "markdown",
   "metadata": {},
   "source": [
    "## Linear Searching\n",
    "        Complexity --> Worst Case : O(n)\n",
    "                       Best Case : O(1)\n",
    "                       Average Case : O(n/2)"
   ]
  },
  {
   "cell_type": "code",
   "execution_count": 12,
   "metadata": {},
   "outputs": [],
   "source": [
    "from random import randint\n",
    "l = [randint(1,10) for var in range(10)]"
   ]
  },
  {
   "cell_type": "code",
   "execution_count": 14,
   "metadata": {},
   "outputs": [
    {
     "name": "stdout",
     "output_type": "stream",
     "text": [
      "\n",
      "The list is :  [2, 1, 5, 5, 10, 1, 6, 6, 9, 5]\n",
      "4\n"
     ]
    }
   ],
   "source": [
    "print(\"\\nThe list is : \",l)\n",
    "ele = 10\n",
    "i = 0\n",
    "while i<len(l):\n",
    "    if l[i] == ele:\n",
    "        print(i)\n",
    "        break\n",
    "    i += 1"
   ]
  },
  {
   "cell_type": "markdown",
   "metadata": {},
   "source": [
    "## Binary Search\n",
    "        Complexity ---> O(log n)"
   ]
  },
  {
   "cell_type": "code",
   "execution_count": 17,
   "metadata": {},
   "outputs": [
    {
     "name": "stdout",
     "output_type": "stream",
     "text": [
      "\n",
      "The list is :  [1, 2, 5, 6, 10, 60, 70, 90]\n",
      "\n",
      "Enter the element that you want to search : 5\n",
      "\n",
      "The index of 5 is :  2\n"
     ]
    }
   ],
   "source": [
    "l = [1,2,5,6,10,60,70,90]\n",
    "print(\"\\nThe list is : \",l)\n",
    "ele = int(input(\"\\nEnter the element that you want to search : \"))\n",
    "low = 0\n",
    "high = len(l)-1\n",
    "while low<=high:\n",
    "    mid = (low+high)//2\n",
    "    if ele == l[mid]:\n",
    "        print(f\"\\nThe index of {ele} is : \",mid)\n",
    "        break\n",
    "    elif ele>l[mid]:\n",
    "        low = mid + 1\n",
    "    elif ele<l[mid]:\n",
    "        high = mid - 1\n",
    "else:\n",
    "    print(f\"\\n{ele} is not found.....\")"
   ]
  },
  {
   "cell_type": "code",
   "execution_count": 22,
   "metadata": {},
   "outputs": [],
   "source": [
    "class Searching:\n",
    "    def __init__(self,arr):\n",
    "        self.array = arr\n",
    "    \n",
    "    def linear(self,ele):\n",
    "        i = 0\n",
    "        while i<len(self.array):\n",
    "            if self.array[i] == ele:\n",
    "                print(i)\n",
    "                break\n",
    "            i += 1\n",
    "    \n",
    "    def binary(self,ele):\n",
    "        low = 0\n",
    "        high = len(self.array)-1\n",
    "        while low<=high:\n",
    "            mid = (low+high)//2\n",
    "            if ele == self.array[mid]:\n",
    "                print(f\"\\nThe index of {ele} is : \",mid)\n",
    "                break\n",
    "            elif ele>l[mid]:\n",
    "                low = mid + 1\n",
    "            elif ele<l[mid]:\n",
    "                high = mid - 1\n",
    "        else:\n",
    "            print(f\"\\n{ele} is not found.....\")\n",
    "    \n",
    "    def get_array(self):\n",
    "        print(\"The array is : \",self.array)"
   ]
  },
  {
   "cell_type": "code",
   "execution_count": 23,
   "metadata": {},
   "outputs": [
    {
     "name": "stdout",
     "output_type": "stream",
     "text": [
      "The array is :  [1, 2, 5, 6, 10, 60, 70, 90]\n",
      "7\n",
      "\n",
      "The index of 90 is :  7\n"
     ]
    }
   ],
   "source": [
    "obj = Searching(l)\n",
    "obj.get_array()\n",
    "obj.linear(90)\n",
    "obj.binary(90)"
   ]
  },
  {
   "cell_type": "markdown",
   "metadata": {},
   "source": [
    "use recursion for binary search"
   ]
  },
  {
   "cell_type": "code",
   "execution_count": 24,
   "metadata": {},
   "outputs": [
    {
     "name": "stdout",
     "output_type": "stream",
     "text": [
      "The maximum element is :  90\n"
     ]
    }
   ],
   "source": [
    "l = [1, 2, 5, 6, 10, 60, 70, 90]\n",
    "ele = l[0]\n",
    "for i in l:\n",
    "    if ele<i:\n",
    "        ele = i\n",
    "print(\"The maximum element is : \",ele)"
   ]
  },
  {
   "cell_type": "code",
   "execution_count": 58,
   "metadata": {},
   "outputs": [],
   "source": [
    "def getmaximum(l):\n",
    "    if len(l)>1:\n",
    "        m = l.pop(0)\n",
    "        if m>l[0]:\n",
    "            l.append(m)\n",
    "            return getmaximum(l)\n",
    "        else:\n",
    "            return getmaximum(l)\n",
    "    else:\n",
    "        return l"
   ]
  },
  {
   "cell_type": "code",
   "execution_count": 59,
   "metadata": {},
   "outputs": [
    {
     "name": "stdout",
     "output_type": "stream",
     "text": [
      "[45]\n"
     ]
    }
   ],
   "source": [
    "l = [1,2,3,10,2,45]\n",
    "print(getmaximum(l))"
   ]
  },
  {
   "cell_type": "code",
   "execution_count": null,
   "metadata": {},
   "outputs": [],
   "source": [
    "#complete getminimum using recursion"
   ]
  },
  {
   "cell_type": "code",
   "execution_count": null,
   "metadata": {},
   "outputs": [],
   "source": []
  }
 ],
 "metadata": {
  "kernelspec": {
   "display_name": "Python 3",
   "language": "python",
   "name": "python3"
  },
  "language_info": {
   "codemirror_mode": {
    "name": "ipython",
    "version": 3
   },
   "file_extension": ".py",
   "mimetype": "text/x-python",
   "name": "python",
   "nbconvert_exporter": "python",
   "pygments_lexer": "ipython3",
   "version": "3.7.4"
  }
 },
 "nbformat": 4,
 "nbformat_minor": 2
}
